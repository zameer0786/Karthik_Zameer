{
  "nbformat": 4,
  "nbformat_minor": 0,
  "metadata": {
    "colab": {
      "name": "Final.ipynb",
      "provenance": [],
      "collapsed_sections": []
    },
    "kernelspec": {
      "name": "python3",
      "display_name": "Python 3"
    }
  },
  "cells": [
    {
      "cell_type": "code",
      "metadata": {
        "id": "bVl3iO-CsAk4",
        "colab_type": "code",
        "colab": {}
      },
      "source": [
        "import spacy\n",
        "from spacy import displacy\n",
        "from collections import Counter\n",
        "import en_core_web_sm\n",
        "nlp = en_core_web_sm.load()"
      ],
      "execution_count": 1,
      "outputs": []
    },
    {
      "cell_type": "code",
      "metadata": {
        "id": "Ebs7A_1psXWT",
        "colab_type": "code",
        "colab": {}
      },
      "source": [
        "from pprint import pprint"
      ],
      "execution_count": 3,
      "outputs": []
    },
    {
      "cell_type": "code",
      "metadata": {
        "id": "1v31oHUYsKto",
        "colab_type": "code",
        "colab": {
          "base_uri": "https://localhost:8080/",
          "height": 85
        },
        "outputId": "5e91dc99-1243-4984-8f96-3b846d9a9498"
      },
      "source": [
        "doc = nlp('European authorities fined Google a record $5.1 billion on Wednesday for abusing its power in the mobile phone market and ordered the company to alter its practices')\n",
        "a=([(X.text, X.label_) for X in doc.ents])\n",
        "a\n"
      ],
      "execution_count": 5,
      "outputs": [
        {
          "output_type": "execute_result",
          "data": {
            "text/plain": [
              "[('European', 'NORP'),\n",
              " ('Google', 'ORG'),\n",
              " ('$5.1 billion', 'MONEY'),\n",
              " ('Wednesday', 'DATE')]"
            ]
          },
          "metadata": {
            "tags": []
          },
          "execution_count": 5
        }
      ]
    },
    {
      "cell_type": "code",
      "metadata": {
        "id": "wDdIzT1rtkLR",
        "colab_type": "code",
        "colab": {}
      },
      "source": [
        "import pandas as pd\n",
        "import numpy as np"
      ],
      "execution_count": 2,
      "outputs": []
    },
    {
      "cell_type": "code",
      "metadata": {
        "id": "q2Bygo_YwO1m",
        "colab_type": "code",
        "colab": {
          "base_uri": "https://localhost:8080/",
          "height": 71
        },
        "outputId": "47b9d8e7-b667-4dcc-c9b2-b7823bd6e5d5"
      },
      "source": [
        "pd.set_option('display.max_colwidth',-1)"
      ],
      "execution_count": 3,
      "outputs": [
        {
          "output_type": "stream",
          "text": [
            "/usr/local/lib/python3.6/dist-packages/ipykernel_launcher.py:1: FutureWarning: Passing a negative integer is deprecated in version 1.0 and will not be supported in future version. Instead, use None to not limit the column width.\n",
            "  \"\"\"Entry point for launching an IPython kernel.\n"
          ],
          "name": "stderr"
        }
      ]
    },
    {
      "cell_type": "code",
      "metadata": {
        "id": "UxfmRXbTux2E",
        "colab_type": "code",
        "colab": {
          "base_uri": "https://localhost:8080/",
          "height": 1000
        },
        "outputId": "49802857-87e3-4389-cb9c-883b87cd18ba"
      },
      "source": [
        "url='https://raw.githubusercontent.com/zameer0786/Karthik_Zameer/master/BBC%20News%20Train.csv'\n",
        "df = pd.read_csv(url)\n",
        "df"
      ],
      "execution_count": 4,
      "outputs": [
        {
          "output_type": "execute_result",
          "data": {
            "text/html": [
              "<div>\n",
              "<style scoped>\n",
              "    .dataframe tbody tr th:only-of-type {\n",
              "        vertical-align: middle;\n",
              "    }\n",
              "\n",
              "    .dataframe tbody tr th {\n",
              "        vertical-align: top;\n",
              "    }\n",
              "\n",
              "    .dataframe thead th {\n",
              "        text-align: right;\n",
              "    }\n",
              "</style>\n",
              "<table border=\"1\" class=\"dataframe\">\n",
              "  <thead>\n",
              "    <tr style=\"text-align: right;\">\n",
              "      <th></th>\n",
              "      <th>ArticleId</th>\n",
              "      <th>Text</th>\n",
              "      <th>Category</th>\n",
              "    </tr>\n",
              "  </thead>\n",
              "  <tbody>\n",
              "    <tr>\n",
              "      <th>0</th>\n",
              "      <td>1833</td>\n",
              "      <td>worldcom ex-boss launches defence lawyers defending former worldcom chief bernie ebbers against a battery of fraud charges have called a company whistleblower as their first witness.  cynthia cooper  worldcom s ex-head of internal accounting  alerted directors to irregular accounting practices at the us telecoms giant in 2002. her warnings led to the collapse of the firm following the discovery of an $11bn (£5.7bn) accounting fraud. mr ebbers has pleaded not guilty to charges of fraud and conspiracy.  prosecution lawyers have argued that mr ebbers orchestrated a series of accounting tricks at worldcom  ordering employees to hide expenses and inflate revenues to meet wall street earnings estimates. but ms cooper  who now runs her own consulting business  told a jury in new york on wednesday that external auditors arthur andersen had approved worldcom s accounting in early 2001 and 2002. she said andersen had given a  green light  to the procedures and practices used by worldcom. mr ebber s lawyers have said he was unaware of the fraud  arguing that auditors did not alert him to any problems.  ms cooper also said that during shareholder meetings mr ebbers often passed over technical questions to the company s finance chief  giving only  brief  answers himself. the prosecution s star witness  former worldcom financial chief scott sullivan  has said that mr ebbers ordered accounting adjustments at the firm  telling him to  hit our books . however  ms cooper said mr sullivan had not mentioned  anything uncomfortable  about worldcom s accounting during a 2001 audit committee meeting. mr ebbers could face a jail sentence of 85 years if convicted of all the charges he is facing. worldcom emerged from bankruptcy protection in 2004  and is now known as mci. last week  mci agreed to a buyout by verizon communications in a deal valued at $6.75bn.</td>\n",
              "      <td>business</td>\n",
              "    </tr>\n",
              "    <tr>\n",
              "      <th>1</th>\n",
              "      <td>154</td>\n",
              "      <td>german business confidence slides german business confidence fell in february knocking hopes of a speedy recovery in europe s largest economy.  munich-based research institute ifo said that its confidence index fell to 95.5 in february from 97.5 in january  its first decline in three months. the study found that the outlook in both the manufacturing and retail sectors had worsened. observers had been hoping that a more confident business sector would signal that economic activity was picking up.   we re surprised that the ifo index has taken such a knock   said dz bank economist bernd weidensteiner.  the main reason is probably that the domestic economy is still weak  particularly in the retail trade.  economy and labour minister wolfgang clement called the dip in february s ifo confidence figure  a very mild decline . he said that despite the retreat  the index remained at a relatively high level and that he expected  a modest economic upswing  to continue.  germany s economy grew 1.6% last year after shrinking in 2003. however  the economy contracted by 0.2% during the last three months of 2004  mainly due to the reluctance of consumers to spend. latest indications are that growth is still proving elusive and ifo president hans-werner sinn said any improvement in german domestic demand was sluggish. exports had kept things going during the first half of 2004  but demand for exports was then hit as the value of the euro hit record levels making german products less competitive overseas. on top of that  the unemployment rate has been stuck at close to 10% and manufacturing firms  including daimlerchrysler  siemens and volkswagen  have been negotiating with unions over cost cutting measures. analysts said that the ifo figures and germany s continuing problems may delay an interest rate rise by the european central bank. eurozone interest rates are at 2%  but comments from senior officials have recently focused on the threat of inflation  prompting fears that interest rates may rise.</td>\n",
              "      <td>business</td>\n",
              "    </tr>\n",
              "    <tr>\n",
              "      <th>2</th>\n",
              "      <td>1101</td>\n",
              "      <td>bbc poll indicates economic gloom citizens in a majority of nations surveyed in a bbc world service poll believe the world economy is worsening.  most respondents also said their national economy was getting worse. but when asked about their own family s financial outlook  a majority in 14 countries said they were positive about the future. almost 23 000 people in 22 countries were questioned for the poll  which was mostly conducted before the asian tsunami disaster. the poll found that a majority or plurality of people in 13 countries believed the economy was going downhill  compared with respondents in nine countries who believed it was improving. those surveyed in three countries were split. in percentage terms  an average of 44% of respondents in each country said the world economy was getting worse  compared to 34% who said it was improving. similarly  48% were pessimistic about their national economy  while 41% were optimistic. and 47% saw their family s economic conditions improving  as against 36% who said they were getting worse.  the poll of 22 953 people was conducted by the international polling firm globescan  together with the program on international policy attitudes (pipa) at the university of maryland.  while the world economy has picked up from difficult times just a few years ago  people seem to not have fully absorbed this development  though they are personally experiencing its effects   said pipa director steven kull.  people around the world are saying:  i m ok  but the world isn t .  there may be a perception that war  terrorism and religious and political divisions are making the world a worse place  even though that has not so far been reflected in global economic performance  says the bbc s elizabeth blunt.  the countries where people were most optimistic  both for the world and for their own families  were two fast-growing developing economies  china and india  followed by indonesia. china has seen two decades of blistering economic growth  which has led to wealth creation on a huge scale  says the bbc s louisa lim in beijing. but the results also may reflect the untrammelled confidence of people who are subject to endless government propaganda about their country s rosy economic future  our correspondent says. south korea was the most pessimistic  while respondents in italy and mexico were also quite gloomy. the bbc s david willey in rome says one reason for that result is the changeover from the lira to the euro in 2001  which is widely viewed as the biggest reason why their wages and salaries are worth less than they used to be. the philippines was among the most upbeat countries on prospects for respondents  families  but one of the most pessimistic about the world economy. pipa conducted the poll from 15 november 2004 to 3 january 2005 across 22 countries in face-to-face or telephone interviews. the interviews took place between 15 november 2004 and 5 january 2005. the margin of error is between 2.5 and 4 points  depending on the country. in eight of the countries  the sample was limited to major metropolitan areas.</td>\n",
              "      <td>business</td>\n",
              "    </tr>\n",
              "    <tr>\n",
              "      <th>3</th>\n",
              "      <td>1976</td>\n",
              "      <td>lifestyle  governs mobile choice  faster  better or funkier hardware alone is not going to help phone firms sell more handsets  research suggests.  instead  phone firms keen to get more out of their customers should not just be pushing the technology for its own sake. consumers are far more interested in how handsets fit in with their lifestyle than they are in screen size  onboard memory or the chip inside  shows an in-depth study by handset maker ericsson.  historically in the industry there has been too much focus on using technology   said dr michael bjorn  senior advisor on mobile media at ericsson s consumer and enterprise lab.  we have to stop saying that these technologies will change their lives   he said.  we should try to speak to consumers in their own language and help them see how it fits in with what they are doing   he told the bbc news website.  for the study  ericsson interviewed 14 000 mobile phone owners on the ways they use their phone.  people s habits remain the same   said dr bjorn.  they just move the activity into the mobile phone as it s a much more convenient way to do it.   one good example of this was diary-writing among younger people  he said. while diaries have always been popular  a mobile phone -- especially one equipped with a camera -- helps them keep it in a different form. youngsters  use of text messages also reflects their desire to chat and keep in contact with friends and again just lets them do it in a slightly changed way. dr bjorn said that although consumers do what they always did but use a phone to do it  the sheer variety of what the new handset technologies make possible does gradually drive new habits and lifestyles. ericsson s research has shown that consumers divide into different  tribes  that use phones in different ways. dr bjorn said groups dubbed  pioneers  and  materialists  were most interested in trying new things and were behind the start of many trends in phone use.  for instance   he said   older people are using sms much more than they did five years ago.  this was because younger users  often the children of ageing mobile owners  encouraged older people to try it so they could keep in touch.  another factor governing the speed of change in mobile phone use was the simple speed with which new devices are bought by pioneers and materialists. only when about 25% of people have handsets with new innovations on them  such as cameras  can consumers stop worrying that if they send a picture message the person at the other end will be able to see it.  once this significant number of users is passed  use of new innovations tends to take off. dr bjorn said that early reports of camera phone usage in japan seemed to imply that the innovation was going to be a flop. however  he said  now 45% of the japanese people ericsson questioned use their camera phone at least once a month. in 2003 the figure was 29%. similarly  across europe the numbers of people taking snaps with cameras is starting to rise. in 2003 only 4% of the people in the uk took a phonecam snap at least once a month. now the figure is 14%. similar rises have been seen in many other european nations. dr bjorn said that people also used their camera phones in very different ways to film and even digital cameras.  usage patterns for digital cameras are almost exactly replacing usage patterns for analogue cameras   he said. digital cameras tend to be used on significant events such as weddings  holidays and birthdays. by contrast  he said  camera phones were being used much more to capture a moment and were being woven into everyday life.</td>\n",
              "      <td>tech</td>\n",
              "    </tr>\n",
              "    <tr>\n",
              "      <th>4</th>\n",
              "      <td>917</td>\n",
              "      <td>enron bosses in $168m payout eighteen former enron directors have agreed a $168m (£89m) settlement deal in a shareholder lawsuit over the collapse of the energy firm.  leading plaintiff  the university of california  announced the news  adding that 10 of the former directors will pay $13m from their own pockets. the settlement will be put to the courts for approval next week. enron went bankrupt in 2001 after it emerged it had hidden hundreds of millions of dollars in debt.  before its collapse  the firm was the seventh biggest public us company by revenue. its demise sent shockwaves through financial markets and dented investor confidence in corporate america.   the settlement is very significant in holding these outside directors at least partially personally responsible   william lerach  the lawyer leading the class action suit against enron  said.  hopefully  this will help send a message to corporate boardrooms of the importance of directors performing their legal duties   he added. under the terms of the $168m settlement - $155m of which will be covered by insurance - none of the 18 former directors will admit any wrongdoing. the deal is the fourth major settlement negotiated by lawyers who filed a class action on behalf of enron s shareholders almost three years ago. so far  including the latest deal  just under $500m (£378.8m) has been retrieved for investors.  however  the latest deal does not include former enron chief executives ken lay and jeff skilling. both men are facing criminal charges for their alleged misconduct in the run up to the firm s collapse. neither does it cover andrew fastow  who has pleaded guilty to taking part in an illegal conspiracy while he was chief financial officer at the group. enron s shareholders are still seeking damages from a long list of other big name defendants including the financial institutions jp morgan chase  citigroup  merrill lynch and credit suisse first boston. the university of california said the trial in the case is scheduled to begin in october 2006. it joined the lawsuit in december 2001alleging  massive insider trading  and fraud  claiming it had lost $145m on its investments in the company.</td>\n",
              "      <td>business</td>\n",
              "    </tr>\n",
              "    <tr>\n",
              "      <th>...</th>\n",
              "      <td>...</td>\n",
              "      <td>...</td>\n",
              "      <td>...</td>\n",
              "    </tr>\n",
              "    <tr>\n",
              "      <th>1485</th>\n",
              "      <td>857</td>\n",
              "      <td>double eviction from big brother model caprice and holby city actor jeremy edwards have both left the celebrity big brother house in a surprise double eviction on friday.  caprice  who left in the scheduled fourth eviction having gained just 5% of the public vote  afterwards said:  i am so happy  i am so glad i m out.  edwards then left in a surprise eviction  with 12% of the vote. nineteen-year-old blazin  squad singer kenzie is currently favourite to win the £50 000 charity prize. caprice had been the pre-show favourite to be voted out of the house  with bookmakers ladbrokes offering odds of 1/5 on her departure. ladbrokes spokesman warren lush had said she was  the hottest eviction favourite so far this series .  odds on kenzie s victory have been slashed from 4/6 to 1/2  although bookmakers have said they are not ruling out a late rally from former happy mondays star bez. the other remaining housemate is actress brigitte nielsen. dj lisa i anson became the third housemate to be voted out on wednesday when she became the victim of a surprise eviction during a game of hide-and-seek on the channel 4 show. i anson said she was  glad to be out  and predicted that kenzie would emerge as the winner. the winner is due to be announced on sunday night.</td>\n",
              "      <td>entertainment</td>\n",
              "    </tr>\n",
              "    <tr>\n",
              "      <th>1486</th>\n",
              "      <td>325</td>\n",
              "      <td>dj double act revamp chart show dj duo jk and joel are taking over bbc radio 1 s flagship chart show on sunday  adding showbiz news  celebrity interviews and between-song banter.  they hope to boost ratings for the long-running show  which has been overtaken in popularity by independent radio s hit 40 uk rundown.  radio 1 s chart show is an institution and remains the station s single most popular show   says jk  also known as jason king.  for years people have been tuning in at four o clock with their tape recorders ready to record their favourite tunes. not that i ever did that.  but things have moved on a lot now so it was time for a change.   that change involved ejecting previous host wes butters and relocating king and dj partner joel ross from their weekend afternoon radio 1 slot. the pair have worked together for a decade - meeting on viking radio in hull before moving to manchester station key 103 and winning two sony radio awards. they also presented gadget series playboyz and car show motor maniacs for cable tv channel granada men and motors  and pure soap on bbc three.  on the revamped chart show their cheeky  laddish banter will punctuate star interviews and competitions  film and dvd charts plus a look at future single releases  in addition to the singles chart itself.  the chart rundown is no longer the only point of the programme   says ross.  the show used to be the only way to discover who was in the top 40. now you can just click on the internet to find that out  so the show has plenty of extra items too.  the show s reduced reliance upon the top 40 also reflects the fact that music fans are now more likely to download songs in digital format rather than buy them on compact disc  vinyl or cassette.   i personally buy downloads rather than cd singles   says 27-year-old ross.  even my grandma can download songs now. jk is still struggling with the technology  though.   but it s premature for people to say that the singles chart is dead   ross adds.  while sales of singles on traditional formats are down  interest in songs has been revived by download sales  which will be incorporated into our main chart rundown from april.  music fans still want to know what is the most popular song of the week.   ross will be plumping for chart success from rapper verbalicious and the stereophonics on sunday  while king is more of an r&amp;b and dance music fan.  so listeners will get the advantage of both our music tastes   says king  30  who describes outgoing host butters as  an extremely professional and competent broadcaster .   the advantage joel and i have is that we re a double act  with a rapport between us that makes the show much more interactive   king says.  wes has a great broadcasting career ahead of him. and if not  i could always use a cleaner   he jokes. ross says the pair have done their best to ignore the weight of expectation placed upon the revamped show.  other people can worry about that  we are going to continue doing what we do well   he says.  at the end of the day this is a radio show that is meant to be entertaining. nobody died.</td>\n",
              "      <td>entertainment</td>\n",
              "    </tr>\n",
              "    <tr>\n",
              "      <th>1487</th>\n",
              "      <td>1590</td>\n",
              "      <td>weak dollar hits reuters revenues at media group reuters slipped 11% during 2004  mainly due to the weakness of the dollar  the group said.  the company said it was optimistic about growth even as revenues slipped 11% from £3.24bn ($6.13bn) in 2003 to £2.89bn in 2004. reuters beat profit forecasts  posting a 52% rise in profits for the year to £198m from the £130m seen a year earlier. reuters also beat its savings target for 2004  delivering £234m of cuts. under its three-year fast forward turnaround plan it had aimed to save £220m during the 12 months to 31 december.  reuters also managed to slow a decline in underlying revenues to 5.4% from 10.2% in 2003 and cut its debt back to £160m from £610m a year earlier. the news and financial data seller said the year had begun well  adding it expected  further gradual improvement  in the second quarter of the year after good january sales. it added it was planning to deliver a further £105m of savings over the coming year - but said it expects to be hit with an £80m restructuring charge to pay for the cost of moving from fleet street to new headquarters in london at canary wharf.  improving customer relationships  more competitive products and continued strong cost discipline position us well for 2005   chief executive tom glocer said  adding the company was beginning  to look beyond recovery to growth .</td>\n",
              "      <td>business</td>\n",
              "    </tr>\n",
              "    <tr>\n",
              "      <th>1488</th>\n",
              "      <td>1587</td>\n",
              "      <td>apple ipod family expands market apple has expanded its ipod family with the release of its next generation of the digital music players.  its latest challenges to the growing digital music gadget market include an ipod mini model which can hold 6gb compared to a previous 4gb. the company  which hopes to keep its dominant place in the digital music market  also said the gold coloured version of the mini would be dropped. a 30gb version has also been added to the ipod photo family. the latest models have a longer battery life and their prices have been cut by an average of £40. the original ipod took an early lead in the digital music player market thanks to its large storage capacity and simple design.  during 2004 about 25 million portable players were sold  10 million of which were apple ipods. but analysts agree that the success is also down to its integration with the itunes online store  which has given the company a 70% share of the legal download music market. mike mcguire  a research director at analyst gartner  told the bbc news website that apple had done a good job in  sealing off the market from competition  so far.  they have created a very seamless package which i think is the idea of the product - the design  function and the software are very impressive   he said. he added that the threat from others was always present  however.  creative  other microsoft-partnered devices  real  sony and so on  are ratcheting up the marketing message and advertising   he said. creative was very upbeat about how many of its creative zen players it had shipped by the end of last year  he said. its second-generation models  like the creative zen micro photo  is due out in the summer. it will have 5gb of memory on board.  digital music players are now the gadget of choice among young americans  according to recent research by the pew internet and american life project. one in 10 us adults - 22 million people - now owns a digital music player of some sort. sales of legally downloaded songs also rose more than tenfold in 2004  according to the record industry  with 200 million tracks bought online in the us and europe in 12 months. the ifpi industry body said that the popularity of portable music players was behind the growth. analysts say that the ease of use and growth of music services available on the net will continue to drive the trend towards portable music players.  people are also starting to use them in novel ways. some are combining automatic syncing functions many of them have with other net functions to automatically distribute diy radio shows  called podcasts. but 2005 will also see more competition from mobile phone operators who are keen to offer streaming services on much more powerful and sophisticated handsets. according to mr mcguire  research suggests that people like the idea of building up huge libraries of music  which they can do with high-capacity storage devices  like ipods and creative zens. mobiles do not yet have this capacity though  and there are issues about the ease of portability of mobile music. mr mcguire said apple was ensuring it kept a foot in the mobile music door with its recent deal with motorola to produce a version of itunes for motorola phones.</td>\n",
              "      <td>tech</td>\n",
              "    </tr>\n",
              "    <tr>\n",
              "      <th>1489</th>\n",
              "      <td>538</td>\n",
              "      <td>santy worm makes unwelcome visit thousands of website bulletin boards have been defaced by a virus that used google to spread across the net.  the santy worm first appeared on 20 december and within 24 hours had successfully hit more than 40 000 websites. the malicious program exploits a vulnerability in the widely used phpbb software. santy s spread has now been stopped after google began blocking infected sites searching for new victims.  the worm replaces chat forums with a webpage announcing that the site had been defaced by the malicious program. soon after being infected  sites hit by the worm started randomly searching for other websites running the vulnerable phpbb software. once google started blocking these search queries the rate of infection tailed off sharply. a message sent to finnish security firm f-secure by google s security team said:  while a seven hour response for something like this is not outrageous  we think we can and should do better.   we will be reviewing our procedures to improve our response time in the future to similar problems   the google team said. security firms estimate that about 1m websites run their discussion groups and forums with the open source phpbb program. the worst of the attack now seems to be over as a search conducted on the morning of the 22 december produced only 1 440 hits for sites showing the text used in the defacement message. people using the sites hit by santy will not be affected by the worm. santy is not the first malicious program to use google to help it spread. in july a variant of the mydoom virus slowed down searches on google as the program flooded the search site with queries looking for new e-mail addresses to send itself to.</td>\n",
              "      <td>tech</td>\n",
              "    </tr>\n",
              "  </tbody>\n",
              "</table>\n",
              "<p>1490 rows × 3 columns</p>\n",
              "</div>"
            ],
            "text/plain": [
              "      ArticleId  ...       Category\n",
              "0     1833       ...  business     \n",
              "1     154        ...  business     \n",
              "2     1101       ...  business     \n",
              "3     1976       ...  tech         \n",
              "4     917        ...  business     \n",
              "...   ...        ...       ...     \n",
              "1485  857        ...  entertainment\n",
              "1486  325        ...  entertainment\n",
              "1487  1590       ...  business     \n",
              "1488  1587       ...  tech         \n",
              "1489  538        ...  tech         \n",
              "\n",
              "[1490 rows x 3 columns]"
            ]
          },
          "metadata": {
            "tags": []
          },
          "execution_count": 4
        }
      ]
    },
    {
      "cell_type": "code",
      "metadata": {
        "id": "ELt2rMzuu3SE",
        "colab_type": "code",
        "colab": {}
      },
      "source": [
        "# Dropping the category and performing k-means clustering"
      ],
      "execution_count": 20,
      "outputs": []
    },
    {
      "cell_type": "code",
      "metadata": {
        "id": "KWyPNOq0xGdw",
        "colab_type": "code",
        "colab": {}
      },
      "source": [
        "df.drop(columns='Category',inplace=True)"
      ],
      "execution_count": 5,
      "outputs": []
    },
    {
      "cell_type": "code",
      "metadata": {
        "id": "vPLZF8gVxLzL",
        "colab_type": "code",
        "colab": {
          "base_uri": "https://localhost:8080/",
          "height": 1000
        },
        "outputId": "9dfc20a1-247f-407a-ace5-c8214be2869f"
      },
      "source": [
        "df"
      ],
      "execution_count": 6,
      "outputs": [
        {
          "output_type": "execute_result",
          "data": {
            "text/html": [
              "<div>\n",
              "<style scoped>\n",
              "    .dataframe tbody tr th:only-of-type {\n",
              "        vertical-align: middle;\n",
              "    }\n",
              "\n",
              "    .dataframe tbody tr th {\n",
              "        vertical-align: top;\n",
              "    }\n",
              "\n",
              "    .dataframe thead th {\n",
              "        text-align: right;\n",
              "    }\n",
              "</style>\n",
              "<table border=\"1\" class=\"dataframe\">\n",
              "  <thead>\n",
              "    <tr style=\"text-align: right;\">\n",
              "      <th></th>\n",
              "      <th>ArticleId</th>\n",
              "      <th>Text</th>\n",
              "    </tr>\n",
              "  </thead>\n",
              "  <tbody>\n",
              "    <tr>\n",
              "      <th>0</th>\n",
              "      <td>1833</td>\n",
              "      <td>worldcom ex-boss launches defence lawyers defending former worldcom chief bernie ebbers against a battery of fraud charges have called a company whistleblower as their first witness.  cynthia cooper  worldcom s ex-head of internal accounting  alerted directors to irregular accounting practices at the us telecoms giant in 2002. her warnings led to the collapse of the firm following the discovery of an $11bn (£5.7bn) accounting fraud. mr ebbers has pleaded not guilty to charges of fraud and conspiracy.  prosecution lawyers have argued that mr ebbers orchestrated a series of accounting tricks at worldcom  ordering employees to hide expenses and inflate revenues to meet wall street earnings estimates. but ms cooper  who now runs her own consulting business  told a jury in new york on wednesday that external auditors arthur andersen had approved worldcom s accounting in early 2001 and 2002. she said andersen had given a  green light  to the procedures and practices used by worldcom. mr ebber s lawyers have said he was unaware of the fraud  arguing that auditors did not alert him to any problems.  ms cooper also said that during shareholder meetings mr ebbers often passed over technical questions to the company s finance chief  giving only  brief  answers himself. the prosecution s star witness  former worldcom financial chief scott sullivan  has said that mr ebbers ordered accounting adjustments at the firm  telling him to  hit our books . however  ms cooper said mr sullivan had not mentioned  anything uncomfortable  about worldcom s accounting during a 2001 audit committee meeting. mr ebbers could face a jail sentence of 85 years if convicted of all the charges he is facing. worldcom emerged from bankruptcy protection in 2004  and is now known as mci. last week  mci agreed to a buyout by verizon communications in a deal valued at $6.75bn.</td>\n",
              "    </tr>\n",
              "    <tr>\n",
              "      <th>1</th>\n",
              "      <td>154</td>\n",
              "      <td>german business confidence slides german business confidence fell in february knocking hopes of a speedy recovery in europe s largest economy.  munich-based research institute ifo said that its confidence index fell to 95.5 in february from 97.5 in january  its first decline in three months. the study found that the outlook in both the manufacturing and retail sectors had worsened. observers had been hoping that a more confident business sector would signal that economic activity was picking up.   we re surprised that the ifo index has taken such a knock   said dz bank economist bernd weidensteiner.  the main reason is probably that the domestic economy is still weak  particularly in the retail trade.  economy and labour minister wolfgang clement called the dip in february s ifo confidence figure  a very mild decline . he said that despite the retreat  the index remained at a relatively high level and that he expected  a modest economic upswing  to continue.  germany s economy grew 1.6% last year after shrinking in 2003. however  the economy contracted by 0.2% during the last three months of 2004  mainly due to the reluctance of consumers to spend. latest indications are that growth is still proving elusive and ifo president hans-werner sinn said any improvement in german domestic demand was sluggish. exports had kept things going during the first half of 2004  but demand for exports was then hit as the value of the euro hit record levels making german products less competitive overseas. on top of that  the unemployment rate has been stuck at close to 10% and manufacturing firms  including daimlerchrysler  siemens and volkswagen  have been negotiating with unions over cost cutting measures. analysts said that the ifo figures and germany s continuing problems may delay an interest rate rise by the european central bank. eurozone interest rates are at 2%  but comments from senior officials have recently focused on the threat of inflation  prompting fears that interest rates may rise.</td>\n",
              "    </tr>\n",
              "    <tr>\n",
              "      <th>2</th>\n",
              "      <td>1101</td>\n",
              "      <td>bbc poll indicates economic gloom citizens in a majority of nations surveyed in a bbc world service poll believe the world economy is worsening.  most respondents also said their national economy was getting worse. but when asked about their own family s financial outlook  a majority in 14 countries said they were positive about the future. almost 23 000 people in 22 countries were questioned for the poll  which was mostly conducted before the asian tsunami disaster. the poll found that a majority or plurality of people in 13 countries believed the economy was going downhill  compared with respondents in nine countries who believed it was improving. those surveyed in three countries were split. in percentage terms  an average of 44% of respondents in each country said the world economy was getting worse  compared to 34% who said it was improving. similarly  48% were pessimistic about their national economy  while 41% were optimistic. and 47% saw their family s economic conditions improving  as against 36% who said they were getting worse.  the poll of 22 953 people was conducted by the international polling firm globescan  together with the program on international policy attitudes (pipa) at the university of maryland.  while the world economy has picked up from difficult times just a few years ago  people seem to not have fully absorbed this development  though they are personally experiencing its effects   said pipa director steven kull.  people around the world are saying:  i m ok  but the world isn t .  there may be a perception that war  terrorism and religious and political divisions are making the world a worse place  even though that has not so far been reflected in global economic performance  says the bbc s elizabeth blunt.  the countries where people were most optimistic  both for the world and for their own families  were two fast-growing developing economies  china and india  followed by indonesia. china has seen two decades of blistering economic growth  which has led to wealth creation on a huge scale  says the bbc s louisa lim in beijing. but the results also may reflect the untrammelled confidence of people who are subject to endless government propaganda about their country s rosy economic future  our correspondent says. south korea was the most pessimistic  while respondents in italy and mexico were also quite gloomy. the bbc s david willey in rome says one reason for that result is the changeover from the lira to the euro in 2001  which is widely viewed as the biggest reason why their wages and salaries are worth less than they used to be. the philippines was among the most upbeat countries on prospects for respondents  families  but one of the most pessimistic about the world economy. pipa conducted the poll from 15 november 2004 to 3 january 2005 across 22 countries in face-to-face or telephone interviews. the interviews took place between 15 november 2004 and 5 january 2005. the margin of error is between 2.5 and 4 points  depending on the country. in eight of the countries  the sample was limited to major metropolitan areas.</td>\n",
              "    </tr>\n",
              "    <tr>\n",
              "      <th>3</th>\n",
              "      <td>1976</td>\n",
              "      <td>lifestyle  governs mobile choice  faster  better or funkier hardware alone is not going to help phone firms sell more handsets  research suggests.  instead  phone firms keen to get more out of their customers should not just be pushing the technology for its own sake. consumers are far more interested in how handsets fit in with their lifestyle than they are in screen size  onboard memory or the chip inside  shows an in-depth study by handset maker ericsson.  historically in the industry there has been too much focus on using technology   said dr michael bjorn  senior advisor on mobile media at ericsson s consumer and enterprise lab.  we have to stop saying that these technologies will change their lives   he said.  we should try to speak to consumers in their own language and help them see how it fits in with what they are doing   he told the bbc news website.  for the study  ericsson interviewed 14 000 mobile phone owners on the ways they use their phone.  people s habits remain the same   said dr bjorn.  they just move the activity into the mobile phone as it s a much more convenient way to do it.   one good example of this was diary-writing among younger people  he said. while diaries have always been popular  a mobile phone -- especially one equipped with a camera -- helps them keep it in a different form. youngsters  use of text messages also reflects their desire to chat and keep in contact with friends and again just lets them do it in a slightly changed way. dr bjorn said that although consumers do what they always did but use a phone to do it  the sheer variety of what the new handset technologies make possible does gradually drive new habits and lifestyles. ericsson s research has shown that consumers divide into different  tribes  that use phones in different ways. dr bjorn said groups dubbed  pioneers  and  materialists  were most interested in trying new things and were behind the start of many trends in phone use.  for instance   he said   older people are using sms much more than they did five years ago.  this was because younger users  often the children of ageing mobile owners  encouraged older people to try it so they could keep in touch.  another factor governing the speed of change in mobile phone use was the simple speed with which new devices are bought by pioneers and materialists. only when about 25% of people have handsets with new innovations on them  such as cameras  can consumers stop worrying that if they send a picture message the person at the other end will be able to see it.  once this significant number of users is passed  use of new innovations tends to take off. dr bjorn said that early reports of camera phone usage in japan seemed to imply that the innovation was going to be a flop. however  he said  now 45% of the japanese people ericsson questioned use their camera phone at least once a month. in 2003 the figure was 29%. similarly  across europe the numbers of people taking snaps with cameras is starting to rise. in 2003 only 4% of the people in the uk took a phonecam snap at least once a month. now the figure is 14%. similar rises have been seen in many other european nations. dr bjorn said that people also used their camera phones in very different ways to film and even digital cameras.  usage patterns for digital cameras are almost exactly replacing usage patterns for analogue cameras   he said. digital cameras tend to be used on significant events such as weddings  holidays and birthdays. by contrast  he said  camera phones were being used much more to capture a moment and were being woven into everyday life.</td>\n",
              "    </tr>\n",
              "    <tr>\n",
              "      <th>4</th>\n",
              "      <td>917</td>\n",
              "      <td>enron bosses in $168m payout eighteen former enron directors have agreed a $168m (£89m) settlement deal in a shareholder lawsuit over the collapse of the energy firm.  leading plaintiff  the university of california  announced the news  adding that 10 of the former directors will pay $13m from their own pockets. the settlement will be put to the courts for approval next week. enron went bankrupt in 2001 after it emerged it had hidden hundreds of millions of dollars in debt.  before its collapse  the firm was the seventh biggest public us company by revenue. its demise sent shockwaves through financial markets and dented investor confidence in corporate america.   the settlement is very significant in holding these outside directors at least partially personally responsible   william lerach  the lawyer leading the class action suit against enron  said.  hopefully  this will help send a message to corporate boardrooms of the importance of directors performing their legal duties   he added. under the terms of the $168m settlement - $155m of which will be covered by insurance - none of the 18 former directors will admit any wrongdoing. the deal is the fourth major settlement negotiated by lawyers who filed a class action on behalf of enron s shareholders almost three years ago. so far  including the latest deal  just under $500m (£378.8m) has been retrieved for investors.  however  the latest deal does not include former enron chief executives ken lay and jeff skilling. both men are facing criminal charges for their alleged misconduct in the run up to the firm s collapse. neither does it cover andrew fastow  who has pleaded guilty to taking part in an illegal conspiracy while he was chief financial officer at the group. enron s shareholders are still seeking damages from a long list of other big name defendants including the financial institutions jp morgan chase  citigroup  merrill lynch and credit suisse first boston. the university of california said the trial in the case is scheduled to begin in october 2006. it joined the lawsuit in december 2001alleging  massive insider trading  and fraud  claiming it had lost $145m on its investments in the company.</td>\n",
              "    </tr>\n",
              "    <tr>\n",
              "      <th>...</th>\n",
              "      <td>...</td>\n",
              "      <td>...</td>\n",
              "    </tr>\n",
              "    <tr>\n",
              "      <th>1485</th>\n",
              "      <td>857</td>\n",
              "      <td>double eviction from big brother model caprice and holby city actor jeremy edwards have both left the celebrity big brother house in a surprise double eviction on friday.  caprice  who left in the scheduled fourth eviction having gained just 5% of the public vote  afterwards said:  i am so happy  i am so glad i m out.  edwards then left in a surprise eviction  with 12% of the vote. nineteen-year-old blazin  squad singer kenzie is currently favourite to win the £50 000 charity prize. caprice had been the pre-show favourite to be voted out of the house  with bookmakers ladbrokes offering odds of 1/5 on her departure. ladbrokes spokesman warren lush had said she was  the hottest eviction favourite so far this series .  odds on kenzie s victory have been slashed from 4/6 to 1/2  although bookmakers have said they are not ruling out a late rally from former happy mondays star bez. the other remaining housemate is actress brigitte nielsen. dj lisa i anson became the third housemate to be voted out on wednesday when she became the victim of a surprise eviction during a game of hide-and-seek on the channel 4 show. i anson said she was  glad to be out  and predicted that kenzie would emerge as the winner. the winner is due to be announced on sunday night.</td>\n",
              "    </tr>\n",
              "    <tr>\n",
              "      <th>1486</th>\n",
              "      <td>325</td>\n",
              "      <td>dj double act revamp chart show dj duo jk and joel are taking over bbc radio 1 s flagship chart show on sunday  adding showbiz news  celebrity interviews and between-song banter.  they hope to boost ratings for the long-running show  which has been overtaken in popularity by independent radio s hit 40 uk rundown.  radio 1 s chart show is an institution and remains the station s single most popular show   says jk  also known as jason king.  for years people have been tuning in at four o clock with their tape recorders ready to record their favourite tunes. not that i ever did that.  but things have moved on a lot now so it was time for a change.   that change involved ejecting previous host wes butters and relocating king and dj partner joel ross from their weekend afternoon radio 1 slot. the pair have worked together for a decade - meeting on viking radio in hull before moving to manchester station key 103 and winning two sony radio awards. they also presented gadget series playboyz and car show motor maniacs for cable tv channel granada men and motors  and pure soap on bbc three.  on the revamped chart show their cheeky  laddish banter will punctuate star interviews and competitions  film and dvd charts plus a look at future single releases  in addition to the singles chart itself.  the chart rundown is no longer the only point of the programme   says ross.  the show used to be the only way to discover who was in the top 40. now you can just click on the internet to find that out  so the show has plenty of extra items too.  the show s reduced reliance upon the top 40 also reflects the fact that music fans are now more likely to download songs in digital format rather than buy them on compact disc  vinyl or cassette.   i personally buy downloads rather than cd singles   says 27-year-old ross.  even my grandma can download songs now. jk is still struggling with the technology  though.   but it s premature for people to say that the singles chart is dead   ross adds.  while sales of singles on traditional formats are down  interest in songs has been revived by download sales  which will be incorporated into our main chart rundown from april.  music fans still want to know what is the most popular song of the week.   ross will be plumping for chart success from rapper verbalicious and the stereophonics on sunday  while king is more of an r&amp;b and dance music fan.  so listeners will get the advantage of both our music tastes   says king  30  who describes outgoing host butters as  an extremely professional and competent broadcaster .   the advantage joel and i have is that we re a double act  with a rapport between us that makes the show much more interactive   king says.  wes has a great broadcasting career ahead of him. and if not  i could always use a cleaner   he jokes. ross says the pair have done their best to ignore the weight of expectation placed upon the revamped show.  other people can worry about that  we are going to continue doing what we do well   he says.  at the end of the day this is a radio show that is meant to be entertaining. nobody died.</td>\n",
              "    </tr>\n",
              "    <tr>\n",
              "      <th>1487</th>\n",
              "      <td>1590</td>\n",
              "      <td>weak dollar hits reuters revenues at media group reuters slipped 11% during 2004  mainly due to the weakness of the dollar  the group said.  the company said it was optimistic about growth even as revenues slipped 11% from £3.24bn ($6.13bn) in 2003 to £2.89bn in 2004. reuters beat profit forecasts  posting a 52% rise in profits for the year to £198m from the £130m seen a year earlier. reuters also beat its savings target for 2004  delivering £234m of cuts. under its three-year fast forward turnaround plan it had aimed to save £220m during the 12 months to 31 december.  reuters also managed to slow a decline in underlying revenues to 5.4% from 10.2% in 2003 and cut its debt back to £160m from £610m a year earlier. the news and financial data seller said the year had begun well  adding it expected  further gradual improvement  in the second quarter of the year after good january sales. it added it was planning to deliver a further £105m of savings over the coming year - but said it expects to be hit with an £80m restructuring charge to pay for the cost of moving from fleet street to new headquarters in london at canary wharf.  improving customer relationships  more competitive products and continued strong cost discipline position us well for 2005   chief executive tom glocer said  adding the company was beginning  to look beyond recovery to growth .</td>\n",
              "    </tr>\n",
              "    <tr>\n",
              "      <th>1488</th>\n",
              "      <td>1587</td>\n",
              "      <td>apple ipod family expands market apple has expanded its ipod family with the release of its next generation of the digital music players.  its latest challenges to the growing digital music gadget market include an ipod mini model which can hold 6gb compared to a previous 4gb. the company  which hopes to keep its dominant place in the digital music market  also said the gold coloured version of the mini would be dropped. a 30gb version has also been added to the ipod photo family. the latest models have a longer battery life and their prices have been cut by an average of £40. the original ipod took an early lead in the digital music player market thanks to its large storage capacity and simple design.  during 2004 about 25 million portable players were sold  10 million of which were apple ipods. but analysts agree that the success is also down to its integration with the itunes online store  which has given the company a 70% share of the legal download music market. mike mcguire  a research director at analyst gartner  told the bbc news website that apple had done a good job in  sealing off the market from competition  so far.  they have created a very seamless package which i think is the idea of the product - the design  function and the software are very impressive   he said. he added that the threat from others was always present  however.  creative  other microsoft-partnered devices  real  sony and so on  are ratcheting up the marketing message and advertising   he said. creative was very upbeat about how many of its creative zen players it had shipped by the end of last year  he said. its second-generation models  like the creative zen micro photo  is due out in the summer. it will have 5gb of memory on board.  digital music players are now the gadget of choice among young americans  according to recent research by the pew internet and american life project. one in 10 us adults - 22 million people - now owns a digital music player of some sort. sales of legally downloaded songs also rose more than tenfold in 2004  according to the record industry  with 200 million tracks bought online in the us and europe in 12 months. the ifpi industry body said that the popularity of portable music players was behind the growth. analysts say that the ease of use and growth of music services available on the net will continue to drive the trend towards portable music players.  people are also starting to use them in novel ways. some are combining automatic syncing functions many of them have with other net functions to automatically distribute diy radio shows  called podcasts. but 2005 will also see more competition from mobile phone operators who are keen to offer streaming services on much more powerful and sophisticated handsets. according to mr mcguire  research suggests that people like the idea of building up huge libraries of music  which they can do with high-capacity storage devices  like ipods and creative zens. mobiles do not yet have this capacity though  and there are issues about the ease of portability of mobile music. mr mcguire said apple was ensuring it kept a foot in the mobile music door with its recent deal with motorola to produce a version of itunes for motorola phones.</td>\n",
              "    </tr>\n",
              "    <tr>\n",
              "      <th>1489</th>\n",
              "      <td>538</td>\n",
              "      <td>santy worm makes unwelcome visit thousands of website bulletin boards have been defaced by a virus that used google to spread across the net.  the santy worm first appeared on 20 december and within 24 hours had successfully hit more than 40 000 websites. the malicious program exploits a vulnerability in the widely used phpbb software. santy s spread has now been stopped after google began blocking infected sites searching for new victims.  the worm replaces chat forums with a webpage announcing that the site had been defaced by the malicious program. soon after being infected  sites hit by the worm started randomly searching for other websites running the vulnerable phpbb software. once google started blocking these search queries the rate of infection tailed off sharply. a message sent to finnish security firm f-secure by google s security team said:  while a seven hour response for something like this is not outrageous  we think we can and should do better.   we will be reviewing our procedures to improve our response time in the future to similar problems   the google team said. security firms estimate that about 1m websites run their discussion groups and forums with the open source phpbb program. the worst of the attack now seems to be over as a search conducted on the morning of the 22 december produced only 1 440 hits for sites showing the text used in the defacement message. people using the sites hit by santy will not be affected by the worm. santy is not the first malicious program to use google to help it spread. in july a variant of the mydoom virus slowed down searches on google as the program flooded the search site with queries looking for new e-mail addresses to send itself to.</td>\n",
              "    </tr>\n",
              "  </tbody>\n",
              "</table>\n",
              "<p>1490 rows × 2 columns</p>\n",
              "</div>"
            ],
            "text/plain": [
              "      ArticleId                                                                                                                                                                                                                                                                                                                                                                                                                                                                                                                                                                                                                                                                                                                                                                                                                                                                                                                                                                                                                                                                                                                                                                                                                                                                                                                                                                                                                                                                                                                                                                                                                                                                                                                                                                                                                                                                                                                                                                                                                                                                                                                                                                                                                                                                                                                                                                                                                                                                                                                                                                                                                                                                                                                                                                                                                                                                                                                                                                                                                                                                                                                                                                                                                                                                                                                                                                                                                                                                                                                                                                                                                                                                                                                                                                Text\n",
              "0     1833       worldcom ex-boss launches defence lawyers defending former worldcom chief bernie ebbers against a battery of fraud charges have called a company whistleblower as their first witness.  cynthia cooper  worldcom s ex-head of internal accounting  alerted directors to irregular accounting practices at the us telecoms giant in 2002. her warnings led to the collapse of the firm following the discovery of an $11bn (£5.7bn) accounting fraud. mr ebbers has pleaded not guilty to charges of fraud and conspiracy.  prosecution lawyers have argued that mr ebbers orchestrated a series of accounting tricks at worldcom  ordering employees to hide expenses and inflate revenues to meet wall street earnings estimates. but ms cooper  who now runs her own consulting business  told a jury in new york on wednesday that external auditors arthur andersen had approved worldcom s accounting in early 2001 and 2002. she said andersen had given a  green light  to the procedures and practices used by worldcom. mr ebber s lawyers have said he was unaware of the fraud  arguing that auditors did not alert him to any problems.  ms cooper also said that during shareholder meetings mr ebbers often passed over technical questions to the company s finance chief  giving only  brief  answers himself. the prosecution s star witness  former worldcom financial chief scott sullivan  has said that mr ebbers ordered accounting adjustments at the firm  telling him to  hit our books . however  ms cooper said mr sullivan had not mentioned  anything uncomfortable  about worldcom s accounting during a 2001 audit committee meeting. mr ebbers could face a jail sentence of 85 years if convicted of all the charges he is facing. worldcom emerged from bankruptcy protection in 2004  and is now known as mci. last week  mci agreed to a buyout by verizon communications in a deal valued at $6.75bn.                                                                                                                                                                                                                                                                                                                                                                                                                                                                                                                                                                                                                                                                                                                                                                                                                                                                                                                                                                                                                                                                                                                                                                                                                                                                                                                                                                                                                                                                                                                                                                                                                                                                                                                                                                                                                        \n",
              "1     154        german business confidence slides german business confidence fell in february knocking hopes of a speedy recovery in europe s largest economy.  munich-based research institute ifo said that its confidence index fell to 95.5 in february from 97.5 in january  its first decline in three months. the study found that the outlook in both the manufacturing and retail sectors had worsened. observers had been hoping that a more confident business sector would signal that economic activity was picking up.   we re surprised that the ifo index has taken such a knock   said dz bank economist bernd weidensteiner.  the main reason is probably that the domestic economy is still weak  particularly in the retail trade.  economy and labour minister wolfgang clement called the dip in february s ifo confidence figure  a very mild decline . he said that despite the retreat  the index remained at a relatively high level and that he expected  a modest economic upswing  to continue.  germany s economy grew 1.6% last year after shrinking in 2003. however  the economy contracted by 0.2% during the last three months of 2004  mainly due to the reluctance of consumers to spend. latest indications are that growth is still proving elusive and ifo president hans-werner sinn said any improvement in german domestic demand was sluggish. exports had kept things going during the first half of 2004  but demand for exports was then hit as the value of the euro hit record levels making german products less competitive overseas. on top of that  the unemployment rate has been stuck at close to 10% and manufacturing firms  including daimlerchrysler  siemens and volkswagen  have been negotiating with unions over cost cutting measures. analysts said that the ifo figures and germany s continuing problems may delay an interest rate rise by the european central bank. eurozone interest rates are at 2%  but comments from senior officials have recently focused on the threat of inflation  prompting fears that interest rates may rise.                                                                                                                                                                                                                                                                                                                                                                                                                                                                                                                                                                                                                                                                                                                                                                                                                                                                                                                                                                                                                                                                                                                                                                                                                                                                                                                                                                                                                                                                                                                                                                                                                                                                  \n",
              "2     1101       bbc poll indicates economic gloom citizens in a majority of nations surveyed in a bbc world service poll believe the world economy is worsening.  most respondents also said their national economy was getting worse. but when asked about their own family s financial outlook  a majority in 14 countries said they were positive about the future. almost 23 000 people in 22 countries were questioned for the poll  which was mostly conducted before the asian tsunami disaster. the poll found that a majority or plurality of people in 13 countries believed the economy was going downhill  compared with respondents in nine countries who believed it was improving. those surveyed in three countries were split. in percentage terms  an average of 44% of respondents in each country said the world economy was getting worse  compared to 34% who said it was improving. similarly  48% were pessimistic about their national economy  while 41% were optimistic. and 47% saw their family s economic conditions improving  as against 36% who said they were getting worse.  the poll of 22 953 people was conducted by the international polling firm globescan  together with the program on international policy attitudes (pipa) at the university of maryland.  while the world economy has picked up from difficult times just a few years ago  people seem to not have fully absorbed this development  though they are personally experiencing its effects   said pipa director steven kull.  people around the world are saying:  i m ok  but the world isn t .  there may be a perception that war  terrorism and religious and political divisions are making the world a worse place  even though that has not so far been reflected in global economic performance  says the bbc s elizabeth blunt.  the countries where people were most optimistic  both for the world and for their own families  were two fast-growing developing economies  china and india  followed by indonesia. china has seen two decades of blistering economic growth  which has led to wealth creation on a huge scale  says the bbc s louisa lim in beijing. but the results also may reflect the untrammelled confidence of people who are subject to endless government propaganda about their country s rosy economic future  our correspondent says. south korea was the most pessimistic  while respondents in italy and mexico were also quite gloomy. the bbc s david willey in rome says one reason for that result is the changeover from the lira to the euro in 2001  which is widely viewed as the biggest reason why their wages and salaries are worth less than they used to be. the philippines was among the most upbeat countries on prospects for respondents  families  but one of the most pessimistic about the world economy. pipa conducted the poll from 15 november 2004 to 3 january 2005 across 22 countries in face-to-face or telephone interviews. the interviews took place between 15 november 2004 and 5 january 2005. the margin of error is between 2.5 and 4 points  depending on the country. in eight of the countries  the sample was limited to major metropolitan areas.                                                                                                                                                                                                                                                                                                                                                                                                                                                                                                                                  \n",
              "3     1976       lifestyle  governs mobile choice  faster  better or funkier hardware alone is not going to help phone firms sell more handsets  research suggests.  instead  phone firms keen to get more out of their customers should not just be pushing the technology for its own sake. consumers are far more interested in how handsets fit in with their lifestyle than they are in screen size  onboard memory or the chip inside  shows an in-depth study by handset maker ericsson.  historically in the industry there has been too much focus on using technology   said dr michael bjorn  senior advisor on mobile media at ericsson s consumer and enterprise lab.  we have to stop saying that these technologies will change their lives   he said.  we should try to speak to consumers in their own language and help them see how it fits in with what they are doing   he told the bbc news website.  for the study  ericsson interviewed 14 000 mobile phone owners on the ways they use their phone.  people s habits remain the same   said dr bjorn.  they just move the activity into the mobile phone as it s a much more convenient way to do it.   one good example of this was diary-writing among younger people  he said. while diaries have always been popular  a mobile phone -- especially one equipped with a camera -- helps them keep it in a different form. youngsters  use of text messages also reflects their desire to chat and keep in contact with friends and again just lets them do it in a slightly changed way. dr bjorn said that although consumers do what they always did but use a phone to do it  the sheer variety of what the new handset technologies make possible does gradually drive new habits and lifestyles. ericsson s research has shown that consumers divide into different  tribes  that use phones in different ways. dr bjorn said groups dubbed  pioneers  and  materialists  were most interested in trying new things and were behind the start of many trends in phone use.  for instance   he said   older people are using sms much more than they did five years ago.  this was because younger users  often the children of ageing mobile owners  encouraged older people to try it so they could keep in touch.  another factor governing the speed of change in mobile phone use was the simple speed with which new devices are bought by pioneers and materialists. only when about 25% of people have handsets with new innovations on them  such as cameras  can consumers stop worrying that if they send a picture message the person at the other end will be able to see it.  once this significant number of users is passed  use of new innovations tends to take off. dr bjorn said that early reports of camera phone usage in japan seemed to imply that the innovation was going to be a flop. however  he said  now 45% of the japanese people ericsson questioned use their camera phone at least once a month. in 2003 the figure was 29%. similarly  across europe the numbers of people taking snaps with cameras is starting to rise. in 2003 only 4% of the people in the uk took a phonecam snap at least once a month. now the figure is 14%. similar rises have been seen in many other european nations. dr bjorn said that people also used their camera phones in very different ways to film and even digital cameras.  usage patterns for digital cameras are almost exactly replacing usage patterns for analogue cameras   he said. digital cameras tend to be used on significant events such as weddings  holidays and birthdays. by contrast  he said  camera phones were being used much more to capture a moment and were being woven into everyday life.\n",
              "4     917        enron bosses in $168m payout eighteen former enron directors have agreed a $168m (£89m) settlement deal in a shareholder lawsuit over the collapse of the energy firm.  leading plaintiff  the university of california  announced the news  adding that 10 of the former directors will pay $13m from their own pockets. the settlement will be put to the courts for approval next week. enron went bankrupt in 2001 after it emerged it had hidden hundreds of millions of dollars in debt.  before its collapse  the firm was the seventh biggest public us company by revenue. its demise sent shockwaves through financial markets and dented investor confidence in corporate america.   the settlement is very significant in holding these outside directors at least partially personally responsible   william lerach  the lawyer leading the class action suit against enron  said.  hopefully  this will help send a message to corporate boardrooms of the importance of directors performing their legal duties   he added. under the terms of the $168m settlement - $155m of which will be covered by insurance - none of the 18 former directors will admit any wrongdoing. the deal is the fourth major settlement negotiated by lawyers who filed a class action on behalf of enron s shareholders almost three years ago. so far  including the latest deal  just under $500m (£378.8m) has been retrieved for investors.  however  the latest deal does not include former enron chief executives ken lay and jeff skilling. both men are facing criminal charges for their alleged misconduct in the run up to the firm s collapse. neither does it cover andrew fastow  who has pleaded guilty to taking part in an illegal conspiracy while he was chief financial officer at the group. enron s shareholders are still seeking damages from a long list of other big name defendants including the financial institutions jp morgan chase  citigroup  merrill lynch and credit suisse first boston. the university of california said the trial in the case is scheduled to begin in october 2006. it joined the lawsuit in december 2001alleging  massive insider trading  and fraud  claiming it had lost $145m on its investments in the company.                                                                                                                                                                                                                                                                                                                                                                                                                                                                                                                                                                                                                                                                                                                                                                                                                                                                                                                                                                                                                                                                                                                                                                                                                                                                                                                                                                                                                                                                                    \n",
              "...   ...                                                                                                                                                                                                                                                                                                                                                                                                                                                                                                                                                                                                                                                                                                                                                                                                                                                                                                                                                                                                                                                                                                                                                                                                                                                                                                                                                                                                                                                                                                                                                                                                                                                                                                                                                                                                                                                                                                                                                                                                                                                                                                                                                                                                                                                                                   ...                                                                                                                                                                                                                                                                                                                                                                                                                                                                                                                                                                                                                                                                                                                                                                                                                                                                                                                                                                                                                                                                                                                                                                                                                                                                                                                                                                                                                                                                                    \n",
              "1485  857        double eviction from big brother model caprice and holby city actor jeremy edwards have both left the celebrity big brother house in a surprise double eviction on friday.  caprice  who left in the scheduled fourth eviction having gained just 5% of the public vote  afterwards said:  i am so happy  i am so glad i m out.  edwards then left in a surprise eviction  with 12% of the vote. nineteen-year-old blazin  squad singer kenzie is currently favourite to win the £50 000 charity prize. caprice had been the pre-show favourite to be voted out of the house  with bookmakers ladbrokes offering odds of 1/5 on her departure. ladbrokes spokesman warren lush had said she was  the hottest eviction favourite so far this series .  odds on kenzie s victory have been slashed from 4/6 to 1/2  although bookmakers have said they are not ruling out a late rally from former happy mondays star bez. the other remaining housemate is actress brigitte nielsen. dj lisa i anson became the third housemate to be voted out on wednesday when she became the victim of a surprise eviction during a game of hide-and-seek on the channel 4 show. i anson said she was  glad to be out  and predicted that kenzie would emerge as the winner. the winner is due to be announced on sunday night.                                                                                                                                                                                                                                                                                                                                                                                                                                                                                                                                                                                                                                                                                                                                                                                                                                                                                                                                                                                                                                                                                                                                                                                                                                                                                                                                                                                                                                                                                                                                                                                                                                                                                                                                                                                                                                                                                                                                                                                                                                                                                                                                                                                                                                                                                                                                                                                                                                                \n",
              "1486  325        dj double act revamp chart show dj duo jk and joel are taking over bbc radio 1 s flagship chart show on sunday  adding showbiz news  celebrity interviews and between-song banter.  they hope to boost ratings for the long-running show  which has been overtaken in popularity by independent radio s hit 40 uk rundown.  radio 1 s chart show is an institution and remains the station s single most popular show   says jk  also known as jason king.  for years people have been tuning in at four o clock with their tape recorders ready to record their favourite tunes. not that i ever did that.  but things have moved on a lot now so it was time for a change.   that change involved ejecting previous host wes butters and relocating king and dj partner joel ross from their weekend afternoon radio 1 slot. the pair have worked together for a decade - meeting on viking radio in hull before moving to manchester station key 103 and winning two sony radio awards. they also presented gadget series playboyz and car show motor maniacs for cable tv channel granada men and motors  and pure soap on bbc three.  on the revamped chart show their cheeky  laddish banter will punctuate star interviews and competitions  film and dvd charts plus a look at future single releases  in addition to the singles chart itself.  the chart rundown is no longer the only point of the programme   says ross.  the show used to be the only way to discover who was in the top 40. now you can just click on the internet to find that out  so the show has plenty of extra items too.  the show s reduced reliance upon the top 40 also reflects the fact that music fans are now more likely to download songs in digital format rather than buy them on compact disc  vinyl or cassette.   i personally buy downloads rather than cd singles   says 27-year-old ross.  even my grandma can download songs now. jk is still struggling with the technology  though.   but it s premature for people to say that the singles chart is dead   ross adds.  while sales of singles on traditional formats are down  interest in songs has been revived by download sales  which will be incorporated into our main chart rundown from april.  music fans still want to know what is the most popular song of the week.   ross will be plumping for chart success from rapper verbalicious and the stereophonics on sunday  while king is more of an r&b and dance music fan.  so listeners will get the advantage of both our music tastes   says king  30  who describes outgoing host butters as  an extremely professional and competent broadcaster .   the advantage joel and i have is that we re a double act  with a rapport between us that makes the show much more interactive   king says.  wes has a great broadcasting career ahead of him. and if not  i could always use a cleaner   he jokes. ross says the pair have done their best to ignore the weight of expectation placed upon the revamped show.  other people can worry about that  we are going to continue doing what we do well   he says.  at the end of the day this is a radio show that is meant to be entertaining. nobody died.                                                                                                                                                                                                                                                                                                                                                                                                                                                                                                                           \n",
              "1487  1590       weak dollar hits reuters revenues at media group reuters slipped 11% during 2004  mainly due to the weakness of the dollar  the group said.  the company said it was optimistic about growth even as revenues slipped 11% from £3.24bn ($6.13bn) in 2003 to £2.89bn in 2004. reuters beat profit forecasts  posting a 52% rise in profits for the year to £198m from the £130m seen a year earlier. reuters also beat its savings target for 2004  delivering £234m of cuts. under its three-year fast forward turnaround plan it had aimed to save £220m during the 12 months to 31 december.  reuters also managed to slow a decline in underlying revenues to 5.4% from 10.2% in 2003 and cut its debt back to £160m from £610m a year earlier. the news and financial data seller said the year had begun well  adding it expected  further gradual improvement  in the second quarter of the year after good january sales. it added it was planning to deliver a further £105m of savings over the coming year - but said it expects to be hit with an £80m restructuring charge to pay for the cost of moving from fleet street to new headquarters in london at canary wharf.  improving customer relationships  more competitive products and continued strong cost discipline position us well for 2005   chief executive tom glocer said  adding the company was beginning  to look beyond recovery to growth .                                                                                                                                                                                                                                                                                                                                                                                                                                                                                                                                                                                                                                                                                                                                                                                                                                                                                                                                                                                                                                                                                                                                                                                                                                                                                                                                                                                                                                                                                                                                                                                                                                                                                                                                                                                                                                                                                                                                                                                                                                                                                                                                                                                                                                                                                                                                        \n",
              "1488  1587       apple ipod family expands market apple has expanded its ipod family with the release of its next generation of the digital music players.  its latest challenges to the growing digital music gadget market include an ipod mini model which can hold 6gb compared to a previous 4gb. the company  which hopes to keep its dominant place in the digital music market  also said the gold coloured version of the mini would be dropped. a 30gb version has also been added to the ipod photo family. the latest models have a longer battery life and their prices have been cut by an average of £40. the original ipod took an early lead in the digital music player market thanks to its large storage capacity and simple design.  during 2004 about 25 million portable players were sold  10 million of which were apple ipods. but analysts agree that the success is also down to its integration with the itunes online store  which has given the company a 70% share of the legal download music market. mike mcguire  a research director at analyst gartner  told the bbc news website that apple had done a good job in  sealing off the market from competition  so far.  they have created a very seamless package which i think is the idea of the product - the design  function and the software are very impressive   he said. he added that the threat from others was always present  however.  creative  other microsoft-partnered devices  real  sony and so on  are ratcheting up the marketing message and advertising   he said. creative was very upbeat about how many of its creative zen players it had shipped by the end of last year  he said. its second-generation models  like the creative zen micro photo  is due out in the summer. it will have 5gb of memory on board.  digital music players are now the gadget of choice among young americans  according to recent research by the pew internet and american life project. one in 10 us adults - 22 million people - now owns a digital music player of some sort. sales of legally downloaded songs also rose more than tenfold in 2004  according to the record industry  with 200 million tracks bought online in the us and europe in 12 months. the ifpi industry body said that the popularity of portable music players was behind the growth. analysts say that the ease of use and growth of music services available on the net will continue to drive the trend towards portable music players.  people are also starting to use them in novel ways. some are combining automatic syncing functions many of them have with other net functions to automatically distribute diy radio shows  called podcasts. but 2005 will also see more competition from mobile phone operators who are keen to offer streaming services on much more powerful and sophisticated handsets. according to mr mcguire  research suggests that people like the idea of building up huge libraries of music  which they can do with high-capacity storage devices  like ipods and creative zens. mobiles do not yet have this capacity though  and there are issues about the ease of portability of mobile music. mr mcguire said apple was ensuring it kept a foot in the mobile music door with its recent deal with motorola to produce a version of itunes for motorola phones.                                                                                                                                                                                                                                                                                                                                                                                        \n",
              "1489  538        santy worm makes unwelcome visit thousands of website bulletin boards have been defaced by a virus that used google to spread across the net.  the santy worm first appeared on 20 december and within 24 hours had successfully hit more than 40 000 websites. the malicious program exploits a vulnerability in the widely used phpbb software. santy s spread has now been stopped after google began blocking infected sites searching for new victims.  the worm replaces chat forums with a webpage announcing that the site had been defaced by the malicious program. soon after being infected  sites hit by the worm started randomly searching for other websites running the vulnerable phpbb software. once google started blocking these search queries the rate of infection tailed off sharply. a message sent to finnish security firm f-secure by google s security team said:  while a seven hour response for something like this is not outrageous  we think we can and should do better.   we will be reviewing our procedures to improve our response time in the future to similar problems   the google team said. security firms estimate that about 1m websites run their discussion groups and forums with the open source phpbb program. the worst of the attack now seems to be over as a search conducted on the morning of the 22 december produced only 1 440 hits for sites showing the text used in the defacement message. people using the sites hit by santy will not be affected by the worm. santy is not the first malicious program to use google to help it spread. in july a variant of the mydoom virus slowed down searches on google as the program flooded the search site with queries looking for new e-mail addresses to send itself to.                                                                                                                                                                                                                                                                                                                                                                                                                                                                                                                                                                                                                                                                                                                                                                                                                                                                                                                                                                                                                                                                                                                                                                                                                                                                                                                                                                                                                                                                                                                                                                                                                                                                                                                                                                                                                                                                                                                                                                       \n",
              "\n",
              "[1490 rows x 2 columns]"
            ]
          },
          "metadata": {
            "tags": []
          },
          "execution_count": 6
        }
      ]
    },
    {
      "cell_type": "code",
      "metadata": {
        "id": "DkCp4HV_xMp5",
        "colab_type": "code",
        "colab": {}
      },
      "source": [
        "from sklearn.feature_extraction.text import TfidfVectorizer"
      ],
      "execution_count": 7,
      "outputs": []
    },
    {
      "cell_type": "code",
      "metadata": {
        "id": "WIvWOWqqxa8B",
        "colab_type": "code",
        "colab": {}
      },
      "source": [
        "vectorizer = TfidfVectorizer(stop_words='english')\n",
        "Vect = vectorizer.fit_transform(df['Text'])"
      ],
      "execution_count": 8,
      "outputs": []
    },
    {
      "cell_type": "code",
      "metadata": {
        "id": "89v17b8W1OEl",
        "colab_type": "code",
        "colab": {
          "base_uri": "https://localhost:8080/",
          "height": 51
        },
        "outputId": "a60f0dc8-e759-4faa-aab3-188558e22bf1"
      },
      "source": [
        "Vect"
      ],
      "execution_count": 13,
      "outputs": [
        {
          "output_type": "execute_result",
          "data": {
            "text/plain": [
              "<1490x24456 sparse matrix of type '<class 'numpy.float64'>'\n",
              "\twith 213866 stored elements in Compressed Sparse Row format>"
            ]
          },
          "metadata": {
            "tags": []
          },
          "execution_count": 13
        }
      ]
    },
    {
      "cell_type": "code",
      "metadata": {
        "id": "0QauK3Q7xp31",
        "colab_type": "code",
        "colab": {}
      },
      "source": [
        "from sklearn.cluster import KMeans\n",
        "wcss = []\n",
        "for i in range(1,11):\n",
        "    kmeans = KMeans(n_clusters=i)\n",
        "    kmeans.fit(Vect)\n",
        "    wcss.append(kmeans.inertia_)"
      ],
      "execution_count": 14,
      "outputs": []
    },
    {
      "cell_type": "code",
      "metadata": {
        "id": "dTSrBgRm4A2c",
        "colab_type": "code",
        "colab": {}
      },
      "source": [
        "import seaborn as sns\n",
        "import matplotlib.pyplot as plt"
      ],
      "execution_count": 22,
      "outputs": []
    },
    {
      "cell_type": "code",
      "metadata": {
        "id": "8Uv2WJiT6-33",
        "colab_type": "code",
        "colab": {
          "base_uri": "https://localhost:8080/",
          "height": 187
        },
        "outputId": "98cbc6e0-85e7-46da-d574-5665599ed775"
      },
      "source": [
        "wcss"
      ],
      "execution_count": 21,
      "outputs": [
        {
          "output_type": "execute_result",
          "data": {
            "text/plain": [
              "[1457.4153694660044,\n",
              " 1444.5377845124117,\n",
              " 1434.6328864156285,\n",
              " 1425.5041567131532,\n",
              " 1418.2296205062773,\n",
              " 1411.7297215844824,\n",
              " 1407.2822219830184,\n",
              " 1403.1673108661705,\n",
              " 1397.7136647811913,\n",
              " 1391.3922021069336]"
            ]
          },
          "metadata": {
            "tags": []
          },
          "execution_count": 21
        }
      ]
    },
    {
      "cell_type": "code",
      "metadata": {
        "id": "qzQmApVk6JGO",
        "colab_type": "code",
        "colab": {
          "base_uri": "https://localhost:8080/",
          "height": 592
        },
        "outputId": "e9e3d49d-8c16-4d3c-ba80-d8b0ee3d57d5"
      },
      "source": [
        "plt.subplots(figsize=(20,10))\n",
        "sns.lineplot(list(range(1,11)),wcss,marker='o')\n",
        "plt.show()"
      ],
      "execution_count": 24,
      "outputs": [
        {
          "output_type": "display_data",
          "data": {
            "image/png": "[encoded data removed]",
            "text/plain": [
              "<Figure size 1440x720 with 1 Axes>"
            ]
          },
          "metadata": {
            "tags": [],
            "needs_background": "light"
          }
        }
      ]
    },
    {
      "cell_type": "code",
      "metadata": {
        "id": "MhDDGkzO7jo5",
        "colab_type": "code",
        "colab": {}
      },
      "source": [
        "# So , selecting no of clusters as 6 from the elbow diagram"
      ],
      "execution_count": 28,
      "outputs": []
    },
    {
      "cell_type": "code",
      "metadata": {
        "id": "wr4QNSri9lNW",
        "colab_type": "code",
        "colab": {}
      },
      "source": [
        "kmm = KMeans(6).fit(Vect)"
      ],
      "execution_count": 29,
      "outputs": []
    },
    {
      "cell_type": "code",
      "metadata": {
        "id": "JgFesuM59ubK",
        "colab_type": "code",
        "colab": {
          "base_uri": "https://localhost:8080/",
          "height": 34
        },
        "outputId": "58748afe-e276-4cbc-c10f-371590f358a9"
      },
      "source": [
        "kmm.labels_"
      ],
      "execution_count": 30,
      "outputs": [
        {
          "output_type": "execute_result",
          "data": {
            "text/plain": [
              "array([5, 1, 1, ..., 1, 0, 0], dtype=int32)"
            ]
          },
          "metadata": {
            "tags": []
          },
          "execution_count": 30
        }
      ]
    },
    {
      "cell_type": "code",
      "metadata": {
        "id": "UKW1H6Av-HFM",
        "colab_type": "code",
        "colab": {}
      },
      "source": [
        "df['Cluster_Labels'] = kmm.labels_"
      ],
      "execution_count": 31,
      "outputs": []
    },
    {
      "cell_type": "code",
      "metadata": {
        "id": "2t2m3nof-MV9",
        "colab_type": "code",
        "colab": {
          "base_uri": "https://localhost:8080/",
          "height": 1000
        },
        "outputId": "7624d9be-bb39-471d-f3bf-ff0adb51d4a4"
      },
      "source": [
        "df"
      ],
      "execution_count": 32,
      "outputs": [
        {
          "output_type": "execute_result",
          "data": {
            "text/html": [
              "<div>\n",
              "<style scoped>\n",
              "    .dataframe tbody tr th:only-of-type {\n",
              "        vertical-align: middle;\n",
              "    }\n",
              "\n",
              "    .dataframe tbody tr th {\n",
              "        vertical-align: top;\n",
              "    }\n",
              "\n",
              "    .dataframe thead th {\n",
              "        text-align: right;\n",
              "    }\n",
              "</style>\n",
              "<table border=\"1\" class=\"dataframe\">\n",
              "  <thead>\n",
              "    <tr style=\"text-align: right;\">\n",
              "      <th></th>\n",
              "      <th>ArticleId</th>\n",
              "      <th>Text</th>\n",
              "      <th>Cluster_Labels</th>\n",
              "    </tr>\n",
              "  </thead>\n",
              "  <tbody>\n",
              "    <tr>\n",
              "      <th>0</th>\n",
              "      <td>1833</td>\n",
              "      <td>worldcom ex-boss launches defence lawyers defending former worldcom chief bernie ebbers against a battery of fraud charges have called a company whistleblower as their first witness.  cynthia cooper  worldcom s ex-head of internal accounting  alerted directors to irregular accounting practices at the us telecoms giant in 2002. her warnings led to the collapse of the firm following the discovery of an $11bn (£5.7bn) accounting fraud. mr ebbers has pleaded not guilty to charges of fraud and conspiracy.  prosecution lawyers have argued that mr ebbers orchestrated a series of accounting tricks at worldcom  ordering employees to hide expenses and inflate revenues to meet wall street earnings estimates. but ms cooper  who now runs her own consulting business  told a jury in new york on wednesday that external auditors arthur andersen had approved worldcom s accounting in early 2001 and 2002. she said andersen had given a  green light  to the procedures and practices used by worldcom. mr ebber s lawyers have said he was unaware of the fraud  arguing that auditors did not alert him to any problems.  ms cooper also said that during shareholder meetings mr ebbers often passed over technical questions to the company s finance chief  giving only  brief  answers himself. the prosecution s star witness  former worldcom financial chief scott sullivan  has said that mr ebbers ordered accounting adjustments at the firm  telling him to  hit our books . however  ms cooper said mr sullivan had not mentioned  anything uncomfortable  about worldcom s accounting during a 2001 audit committee meeting. mr ebbers could face a jail sentence of 85 years if convicted of all the charges he is facing. worldcom emerged from bankruptcy protection in 2004  and is now known as mci. last week  mci agreed to a buyout by verizon communications in a deal valued at $6.75bn.</td>\n",
              "      <td>5</td>\n",
              "    </tr>\n",
              "    <tr>\n",
              "      <th>1</th>\n",
              "      <td>154</td>\n",
              "      <td>german business confidence slides german business confidence fell in february knocking hopes of a speedy recovery in europe s largest economy.  munich-based research institute ifo said that its confidence index fell to 95.5 in february from 97.5 in january  its first decline in three months. the study found that the outlook in both the manufacturing and retail sectors had worsened. observers had been hoping that a more confident business sector would signal that economic activity was picking up.   we re surprised that the ifo index has taken such a knock   said dz bank economist bernd weidensteiner.  the main reason is probably that the domestic economy is still weak  particularly in the retail trade.  economy and labour minister wolfgang clement called the dip in february s ifo confidence figure  a very mild decline . he said that despite the retreat  the index remained at a relatively high level and that he expected  a modest economic upswing  to continue.  germany s economy grew 1.6% last year after shrinking in 2003. however  the economy contracted by 0.2% during the last three months of 2004  mainly due to the reluctance of consumers to spend. latest indications are that growth is still proving elusive and ifo president hans-werner sinn said any improvement in german domestic demand was sluggish. exports had kept things going during the first half of 2004  but demand for exports was then hit as the value of the euro hit record levels making german products less competitive overseas. on top of that  the unemployment rate has been stuck at close to 10% and manufacturing firms  including daimlerchrysler  siemens and volkswagen  have been negotiating with unions over cost cutting measures. analysts said that the ifo figures and germany s continuing problems may delay an interest rate rise by the european central bank. eurozone interest rates are at 2%  but comments from senior officials have recently focused on the threat of inflation  prompting fears that interest rates may rise.</td>\n",
              "      <td>1</td>\n",
              "    </tr>\n",
              "    <tr>\n",
              "      <th>2</th>\n",
              "      <td>1101</td>\n",
              "      <td>bbc poll indicates economic gloom citizens in a majority of nations surveyed in a bbc world service poll believe the world economy is worsening.  most respondents also said their national economy was getting worse. but when asked about their own family s financial outlook  a majority in 14 countries said they were positive about the future. almost 23 000 people in 22 countries were questioned for the poll  which was mostly conducted before the asian tsunami disaster. the poll found that a majority or plurality of people in 13 countries believed the economy was going downhill  compared with respondents in nine countries who believed it was improving. those surveyed in three countries were split. in percentage terms  an average of 44% of respondents in each country said the world economy was getting worse  compared to 34% who said it was improving. similarly  48% were pessimistic about their national economy  while 41% were optimistic. and 47% saw their family s economic conditions improving  as against 36% who said they were getting worse.  the poll of 22 953 people was conducted by the international polling firm globescan  together with the program on international policy attitudes (pipa) at the university of maryland.  while the world economy has picked up from difficult times just a few years ago  people seem to not have fully absorbed this development  though they are personally experiencing its effects   said pipa director steven kull.  people around the world are saying:  i m ok  but the world isn t .  there may be a perception that war  terrorism and religious and political divisions are making the world a worse place  even though that has not so far been reflected in global economic performance  says the bbc s elizabeth blunt.  the countries where people were most optimistic  both for the world and for their own families  were two fast-growing developing economies  china and india  followed by indonesia. china has seen two decades of blistering economic growth  which has led to wealth creation on a huge scale  says the bbc s louisa lim in beijing. but the results also may reflect the untrammelled confidence of people who are subject to endless government propaganda about their country s rosy economic future  our correspondent says. south korea was the most pessimistic  while respondents in italy and mexico were also quite gloomy. the bbc s david willey in rome says one reason for that result is the changeover from the lira to the euro in 2001  which is widely viewed as the biggest reason why their wages and salaries are worth less than they used to be. the philippines was among the most upbeat countries on prospects for respondents  families  but one of the most pessimistic about the world economy. pipa conducted the poll from 15 november 2004 to 3 january 2005 across 22 countries in face-to-face or telephone interviews. the interviews took place between 15 november 2004 and 5 january 2005. the margin of error is between 2.5 and 4 points  depending on the country. in eight of the countries  the sample was limited to major metropolitan areas.</td>\n",
              "      <td>1</td>\n",
              "    </tr>\n",
              "    <tr>\n",
              "      <th>3</th>\n",
              "      <td>1976</td>\n",
              "      <td>lifestyle  governs mobile choice  faster  better or funkier hardware alone is not going to help phone firms sell more handsets  research suggests.  instead  phone firms keen to get more out of their customers should not just be pushing the technology for its own sake. consumers are far more interested in how handsets fit in with their lifestyle than they are in screen size  onboard memory or the chip inside  shows an in-depth study by handset maker ericsson.  historically in the industry there has been too much focus on using technology   said dr michael bjorn  senior advisor on mobile media at ericsson s consumer and enterprise lab.  we have to stop saying that these technologies will change their lives   he said.  we should try to speak to consumers in their own language and help them see how it fits in with what they are doing   he told the bbc news website.  for the study  ericsson interviewed 14 000 mobile phone owners on the ways they use their phone.  people s habits remain the same   said dr bjorn.  they just move the activity into the mobile phone as it s a much more convenient way to do it.   one good example of this was diary-writing among younger people  he said. while diaries have always been popular  a mobile phone -- especially one equipped with a camera -- helps them keep it in a different form. youngsters  use of text messages also reflects their desire to chat and keep in contact with friends and again just lets them do it in a slightly changed way. dr bjorn said that although consumers do what they always did but use a phone to do it  the sheer variety of what the new handset technologies make possible does gradually drive new habits and lifestyles. ericsson s research has shown that consumers divide into different  tribes  that use phones in different ways. dr bjorn said groups dubbed  pioneers  and  materialists  were most interested in trying new things and were behind the start of many trends in phone use.  for instance   he said   older people are using sms much more than they did five years ago.  this was because younger users  often the children of ageing mobile owners  encouraged older people to try it so they could keep in touch.  another factor governing the speed of change in mobile phone use was the simple speed with which new devices are bought by pioneers and materialists. only when about 25% of people have handsets with new innovations on them  such as cameras  can consumers stop worrying that if they send a picture message the person at the other end will be able to see it.  once this significant number of users is passed  use of new innovations tends to take off. dr bjorn said that early reports of camera phone usage in japan seemed to imply that the innovation was going to be a flop. however  he said  now 45% of the japanese people ericsson questioned use their camera phone at least once a month. in 2003 the figure was 29%. similarly  across europe the numbers of people taking snaps with cameras is starting to rise. in 2003 only 4% of the people in the uk took a phonecam snap at least once a month. now the figure is 14%. similar rises have been seen in many other european nations. dr bjorn said that people also used their camera phones in very different ways to film and even digital cameras.  usage patterns for digital cameras are almost exactly replacing usage patterns for analogue cameras   he said. digital cameras tend to be used on significant events such as weddings  holidays and birthdays. by contrast  he said  camera phones were being used much more to capture a moment and were being woven into everyday life.</td>\n",
              "      <td>0</td>\n",
              "    </tr>\n",
              "    <tr>\n",
              "      <th>4</th>\n",
              "      <td>917</td>\n",
              "      <td>enron bosses in $168m payout eighteen former enron directors have agreed a $168m (£89m) settlement deal in a shareholder lawsuit over the collapse of the energy firm.  leading plaintiff  the university of california  announced the news  adding that 10 of the former directors will pay $13m from their own pockets. the settlement will be put to the courts for approval next week. enron went bankrupt in 2001 after it emerged it had hidden hundreds of millions of dollars in debt.  before its collapse  the firm was the seventh biggest public us company by revenue. its demise sent shockwaves through financial markets and dented investor confidence in corporate america.   the settlement is very significant in holding these outside directors at least partially personally responsible   william lerach  the lawyer leading the class action suit against enron  said.  hopefully  this will help send a message to corporate boardrooms of the importance of directors performing their legal duties   he added. under the terms of the $168m settlement - $155m of which will be covered by insurance - none of the 18 former directors will admit any wrongdoing. the deal is the fourth major settlement negotiated by lawyers who filed a class action on behalf of enron s shareholders almost three years ago. so far  including the latest deal  just under $500m (£378.8m) has been retrieved for investors.  however  the latest deal does not include former enron chief executives ken lay and jeff skilling. both men are facing criminal charges for their alleged misconduct in the run up to the firm s collapse. neither does it cover andrew fastow  who has pleaded guilty to taking part in an illegal conspiracy while he was chief financial officer at the group. enron s shareholders are still seeking damages from a long list of other big name defendants including the financial institutions jp morgan chase  citigroup  merrill lynch and credit suisse first boston. the university of california said the trial in the case is scheduled to begin in october 2006. it joined the lawsuit in december 2001alleging  massive insider trading  and fraud  claiming it had lost $145m on its investments in the company.</td>\n",
              "      <td>5</td>\n",
              "    </tr>\n",
              "    <tr>\n",
              "      <th>...</th>\n",
              "      <td>...</td>\n",
              "      <td>...</td>\n",
              "      <td>...</td>\n",
              "    </tr>\n",
              "    <tr>\n",
              "      <th>1485</th>\n",
              "      <td>857</td>\n",
              "      <td>double eviction from big brother model caprice and holby city actor jeremy edwards have both left the celebrity big brother house in a surprise double eviction on friday.  caprice  who left in the scheduled fourth eviction having gained just 5% of the public vote  afterwards said:  i am so happy  i am so glad i m out.  edwards then left in a surprise eviction  with 12% of the vote. nineteen-year-old blazin  squad singer kenzie is currently favourite to win the £50 000 charity prize. caprice had been the pre-show favourite to be voted out of the house  with bookmakers ladbrokes offering odds of 1/5 on her departure. ladbrokes spokesman warren lush had said she was  the hottest eviction favourite so far this series .  odds on kenzie s victory have been slashed from 4/6 to 1/2  although bookmakers have said they are not ruling out a late rally from former happy mondays star bez. the other remaining housemate is actress brigitte nielsen. dj lisa i anson became the third housemate to be voted out on wednesday when she became the victim of a surprise eviction during a game of hide-and-seek on the channel 4 show. i anson said she was  glad to be out  and predicted that kenzie would emerge as the winner. the winner is due to be announced on sunday night.</td>\n",
              "      <td>2</td>\n",
              "    </tr>\n",
              "    <tr>\n",
              "      <th>1486</th>\n",
              "      <td>325</td>\n",
              "      <td>dj double act revamp chart show dj duo jk and joel are taking over bbc radio 1 s flagship chart show on sunday  adding showbiz news  celebrity interviews and between-song banter.  they hope to boost ratings for the long-running show  which has been overtaken in popularity by independent radio s hit 40 uk rundown.  radio 1 s chart show is an institution and remains the station s single most popular show   says jk  also known as jason king.  for years people have been tuning in at four o clock with their tape recorders ready to record their favourite tunes. not that i ever did that.  but things have moved on a lot now so it was time for a change.   that change involved ejecting previous host wes butters and relocating king and dj partner joel ross from their weekend afternoon radio 1 slot. the pair have worked together for a decade - meeting on viking radio in hull before moving to manchester station key 103 and winning two sony radio awards. they also presented gadget series playboyz and car show motor maniacs for cable tv channel granada men and motors  and pure soap on bbc three.  on the revamped chart show their cheeky  laddish banter will punctuate star interviews and competitions  film and dvd charts plus a look at future single releases  in addition to the singles chart itself.  the chart rundown is no longer the only point of the programme   says ross.  the show used to be the only way to discover who was in the top 40. now you can just click on the internet to find that out  so the show has plenty of extra items too.  the show s reduced reliance upon the top 40 also reflects the fact that music fans are now more likely to download songs in digital format rather than buy them on compact disc  vinyl or cassette.   i personally buy downloads rather than cd singles   says 27-year-old ross.  even my grandma can download songs now. jk is still struggling with the technology  though.   but it s premature for people to say that the singles chart is dead   ross adds.  while sales of singles on traditional formats are down  interest in songs has been revived by download sales  which will be incorporated into our main chart rundown from april.  music fans still want to know what is the most popular song of the week.   ross will be plumping for chart success from rapper verbalicious and the stereophonics on sunday  while king is more of an r&amp;b and dance music fan.  so listeners will get the advantage of both our music tastes   says king  30  who describes outgoing host butters as  an extremely professional and competent broadcaster .   the advantage joel and i have is that we re a double act  with a rapport between us that makes the show much more interactive   king says.  wes has a great broadcasting career ahead of him. and if not  i could always use a cleaner   he jokes. ross says the pair have done their best to ignore the weight of expectation placed upon the revamped show.  other people can worry about that  we are going to continue doing what we do well   he says.  at the end of the day this is a radio show that is meant to be entertaining. nobody died.</td>\n",
              "      <td>2</td>\n",
              "    </tr>\n",
              "    <tr>\n",
              "      <th>1487</th>\n",
              "      <td>1590</td>\n",
              "      <td>weak dollar hits reuters revenues at media group reuters slipped 11% during 2004  mainly due to the weakness of the dollar  the group said.  the company said it was optimistic about growth even as revenues slipped 11% from £3.24bn ($6.13bn) in 2003 to £2.89bn in 2004. reuters beat profit forecasts  posting a 52% rise in profits for the year to £198m from the £130m seen a year earlier. reuters also beat its savings target for 2004  delivering £234m of cuts. under its three-year fast forward turnaround plan it had aimed to save £220m during the 12 months to 31 december.  reuters also managed to slow a decline in underlying revenues to 5.4% from 10.2% in 2003 and cut its debt back to £160m from £610m a year earlier. the news and financial data seller said the year had begun well  adding it expected  further gradual improvement  in the second quarter of the year after good january sales. it added it was planning to deliver a further £105m of savings over the coming year - but said it expects to be hit with an £80m restructuring charge to pay for the cost of moving from fleet street to new headquarters in london at canary wharf.  improving customer relationships  more competitive products and continued strong cost discipline position us well for 2005   chief executive tom glocer said  adding the company was beginning  to look beyond recovery to growth .</td>\n",
              "      <td>1</td>\n",
              "    </tr>\n",
              "    <tr>\n",
              "      <th>1488</th>\n",
              "      <td>1587</td>\n",
              "      <td>apple ipod family expands market apple has expanded its ipod family with the release of its next generation of the digital music players.  its latest challenges to the growing digital music gadget market include an ipod mini model which can hold 6gb compared to a previous 4gb. the company  which hopes to keep its dominant place in the digital music market  also said the gold coloured version of the mini would be dropped. a 30gb version has also been added to the ipod photo family. the latest models have a longer battery life and their prices have been cut by an average of £40. the original ipod took an early lead in the digital music player market thanks to its large storage capacity and simple design.  during 2004 about 25 million portable players were sold  10 million of which were apple ipods. but analysts agree that the success is also down to its integration with the itunes online store  which has given the company a 70% share of the legal download music market. mike mcguire  a research director at analyst gartner  told the bbc news website that apple had done a good job in  sealing off the market from competition  so far.  they have created a very seamless package which i think is the idea of the product - the design  function and the software are very impressive   he said. he added that the threat from others was always present  however.  creative  other microsoft-partnered devices  real  sony and so on  are ratcheting up the marketing message and advertising   he said. creative was very upbeat about how many of its creative zen players it had shipped by the end of last year  he said. its second-generation models  like the creative zen micro photo  is due out in the summer. it will have 5gb of memory on board.  digital music players are now the gadget of choice among young americans  according to recent research by the pew internet and american life project. one in 10 us adults - 22 million people - now owns a digital music player of some sort. sales of legally downloaded songs also rose more than tenfold in 2004  according to the record industry  with 200 million tracks bought online in the us and europe in 12 months. the ifpi industry body said that the popularity of portable music players was behind the growth. analysts say that the ease of use and growth of music services available on the net will continue to drive the trend towards portable music players.  people are also starting to use them in novel ways. some are combining automatic syncing functions many of them have with other net functions to automatically distribute diy radio shows  called podcasts. but 2005 will also see more competition from mobile phone operators who are keen to offer streaming services on much more powerful and sophisticated handsets. according to mr mcguire  research suggests that people like the idea of building up huge libraries of music  which they can do with high-capacity storage devices  like ipods and creative zens. mobiles do not yet have this capacity though  and there are issues about the ease of portability of mobile music. mr mcguire said apple was ensuring it kept a foot in the mobile music door with its recent deal with motorola to produce a version of itunes for motorola phones.</td>\n",
              "      <td>0</td>\n",
              "    </tr>\n",
              "    <tr>\n",
              "      <th>1489</th>\n",
              "      <td>538</td>\n",
              "      <td>santy worm makes unwelcome visit thousands of website bulletin boards have been defaced by a virus that used google to spread across the net.  the santy worm first appeared on 20 december and within 24 hours had successfully hit more than 40 000 websites. the malicious program exploits a vulnerability in the widely used phpbb software. santy s spread has now been stopped after google began blocking infected sites searching for new victims.  the worm replaces chat forums with a webpage announcing that the site had been defaced by the malicious program. soon after being infected  sites hit by the worm started randomly searching for other websites running the vulnerable phpbb software. once google started blocking these search queries the rate of infection tailed off sharply. a message sent to finnish security firm f-secure by google s security team said:  while a seven hour response for something like this is not outrageous  we think we can and should do better.   we will be reviewing our procedures to improve our response time in the future to similar problems   the google team said. security firms estimate that about 1m websites run their discussion groups and forums with the open source phpbb program. the worst of the attack now seems to be over as a search conducted on the morning of the 22 december produced only 1 440 hits for sites showing the text used in the defacement message. people using the sites hit by santy will not be affected by the worm. santy is not the first malicious program to use google to help it spread. in july a variant of the mydoom virus slowed down searches on google as the program flooded the search site with queries looking for new e-mail addresses to send itself to.</td>\n",
              "      <td>0</td>\n",
              "    </tr>\n",
              "  </tbody>\n",
              "</table>\n",
              "<p>1490 rows × 3 columns</p>\n",
              "</div>"
            ],
            "text/plain": [
              "      ArticleId  ... Cluster_Labels\n",
              "0     1833       ...  5            \n",
              "1     154        ...  1            \n",
              "2     1101       ...  1            \n",
              "3     1976       ...  0            \n",
              "4     917        ...  5            \n",
              "...   ...        ... ..            \n",
              "1485  857        ...  2            \n",
              "1486  325        ...  2            \n",
              "1487  1590       ...  1            \n",
              "1488  1587       ...  0            \n",
              "1489  538        ...  0            \n",
              "\n",
              "[1490 rows x 3 columns]"
            ]
          },
          "metadata": {
            "tags": []
          },
          "execution_count": 32
        }
      ]
    },
    {
      "cell_type": "code",
      "metadata": {
        "id": "IaCIZuHE-SWs",
        "colab_type": "code",
        "colab": {}
      },
      "source": [
        "# NAmed entity mapping"
      ],
      "execution_count": 33,
      "outputs": []
    },
    {
      "cell_type": "code",
      "metadata": {
        "id": "ZRAD6H3P-UzR",
        "colab_type": "code",
        "colab": {}
      },
      "source": [
        "import spacy\n",
        "from spacy import displacy\n",
        "from collections import Counter\n",
        "import en_core_web_sm\n",
        "nlp = en_core_web_sm.load()\n",
        "from pprint import pprint"
      ],
      "execution_count": 34,
      "outputs": []
    },
    {
      "cell_type": "code",
      "metadata": {
        "id": "00hIYup3-a8N",
        "colab_type": "code",
        "colab": {}
      },
      "source": [
        "entity=[]\n",
        "for i in df['Text']:\n",
        "  doc = nlp(i)\n",
        "  a=([(X.text, X.label_) for X in doc.ents])\n",
        "  entity.append(a)"
      ],
      "execution_count": 123,
      "outputs": []
    },
    {
      "cell_type": "code",
      "metadata": {
        "id": "FtXPf_I0_f4g",
        "colab_type": "code",
        "colab": {}
      },
      "source": [
        "ent=[]\n",
        "for i in entity:\n",
        "  res = set(i)\n",
        "  ent.append(res)"
      ],
      "execution_count": 124,
      "outputs": []
    },
    {
      "cell_type": "code",
      "metadata": {
        "id": "b7Zg-FG7BJP7",
        "colab_type": "code",
        "colab": {}
      },
      "source": [
        "df['Entities'] = ent"
      ],
      "execution_count": 47,
      "outputs": []
    },
    {
      "cell_type": "code",
      "metadata": {
        "id": "xZxSVASNBMXy",
        "colab_type": "code",
        "colab": {
          "base_uri": "https://localhost:8080/",
          "height": 1000
        },
        "outputId": "0d8b75bc-7ac2-4822-d4c2-90eb6925c082"
      },
      "source": [
        "df"
      ],
      "execution_count": 48,
      "outputs": [
        {
          "output_type": "execute_result",
          "data": {
            "text/html": [
              "<div>\n",
              "<style scoped>\n",
              "    .dataframe tbody tr th:only-of-type {\n",
              "        vertical-align: middle;\n",
              "    }\n",
              "\n",
              "    .dataframe tbody tr th {\n",
              "        vertical-align: top;\n",
              "    }\n",
              "\n",
              "    .dataframe thead th {\n",
              "        text-align: right;\n",
              "    }\n",
              "</style>\n",
              "<table border=\"1\" class=\"dataframe\">\n",
              "  <thead>\n",
              "    <tr style=\"text-align: right;\">\n",
              "      <th></th>\n",
              "      <th>ArticleId</th>\n",
              "      <th>Text</th>\n",
              "      <th>Cluster_Labels</th>\n",
              "      <th>Entities</th>\n",
              "    </tr>\n",
              "  </thead>\n",
              "  <tbody>\n",
              "    <tr>\n",
              "      <th>0</th>\n",
              "      <td>1833</td>\n",
              "      <td>worldcom ex-boss launches defence lawyers defending former worldcom chief bernie ebbers against a battery of fraud charges have called a company whistleblower as their first witness.  cynthia cooper  worldcom s ex-head of internal accounting  alerted directors to irregular accounting practices at the us telecoms giant in 2002. her warnings led to the collapse of the firm following the discovery of an $11bn (£5.7bn) accounting fraud. mr ebbers has pleaded not guilty to charges of fraud and conspiracy.  prosecution lawyers have argued that mr ebbers orchestrated a series of accounting tricks at worldcom  ordering employees to hide expenses and inflate revenues to meet wall street earnings estimates. but ms cooper  who now runs her own consulting business  told a jury in new york on wednesday that external auditors arthur andersen had approved worldcom s accounting in early 2001 and 2002. she said andersen had given a  green light  to the procedures and practices used by worldcom. mr ebber s lawyers have said he was unaware of the fraud  arguing that auditors did not alert him to any problems.  ms cooper also said that during shareholder meetings mr ebbers often passed over technical questions to the company s finance chief  giving only  brief  answers himself. the prosecution s star witness  former worldcom financial chief scott sullivan  has said that mr ebbers ordered accounting adjustments at the firm  telling him to  hit our books . however  ms cooper said mr sullivan had not mentioned  anything uncomfortable  about worldcom s accounting during a 2001 audit committee meeting. mr ebbers could face a jail sentence of 85 years if convicted of all the charges he is facing. worldcom emerged from bankruptcy protection in 2004  and is now known as mci. last week  mci agreed to a buyout by verizon communications in a deal valued at $6.75bn.</td>\n",
              "      <td>5</td>\n",
              "      <td>{(2004, DATE), (us, GPE), (sullivan, PERSON), (first, ORDINAL), (2002, DATE), (new york, GPE), (scott sullivan, PERSON), (early 2001 and 2002, DATE), (arthur andersen, PERSON), (85 years, DATE), (worldcom, ORG), (6.75bn, MONEY), (mci, ORG), (ms cooper, ORG), (wednesday, DATE), (bernie ebbers, PERSON), (2001, DATE), (s, PRODUCT), (5.7bn, MONEY), (ebber s, PRODUCT), (cynthia cooper, PERSON), (11bn, MONEY), (last week, DATE), (cooper, PERSON)}</td>\n",
              "    </tr>\n",
              "    <tr>\n",
              "      <th>1</th>\n",
              "      <td>154</td>\n",
              "      <td>german business confidence slides german business confidence fell in february knocking hopes of a speedy recovery in europe s largest economy.  munich-based research institute ifo said that its confidence index fell to 95.5 in february from 97.5 in january  its first decline in three months. the study found that the outlook in both the manufacturing and retail sectors had worsened. observers had been hoping that a more confident business sector would signal that economic activity was picking up.   we re surprised that the ifo index has taken such a knock   said dz bank economist bernd weidensteiner.  the main reason is probably that the domestic economy is still weak  particularly in the retail trade.  economy and labour minister wolfgang clement called the dip in february s ifo confidence figure  a very mild decline . he said that despite the retreat  the index remained at a relatively high level and that he expected  a modest economic upswing  to continue.  germany s economy grew 1.6% last year after shrinking in 2003. however  the economy contracted by 0.2% during the last three months of 2004  mainly due to the reluctance of consumers to spend. latest indications are that growth is still proving elusive and ifo president hans-werner sinn said any improvement in german domestic demand was sluggish. exports had kept things going during the first half of 2004  but demand for exports was then hit as the value of the euro hit record levels making german products less competitive overseas. on top of that  the unemployment rate has been stuck at close to 10% and manufacturing firms  including daimlerchrysler  siemens and volkswagen  have been negotiating with unions over cost cutting measures. analysts said that the ifo figures and germany s continuing problems may delay an interest rate rise by the european central bank. eurozone interest rates are at 2%  but comments from senior officials have recently focused on the threat of inflation  prompting fears that interest rates may rise.</td>\n",
              "      <td>1</td>\n",
              "      <td>{(january, DATE), (three months, DATE), (2003, DATE), (first, ORDINAL), (dz bank, ORG), (ifo, PERSON), (the last three months of 2004, DATE), (europe, LOC), (0.2%, PERCENT), (1.6%, PERCENT), (february, DATE), (close to 10%, PERCENT), (2%, PERCENT), (the european central bank, ORG), (volkswagen, ORG), (97.5, CARDINAL), (last year, DATE), (german, NORP), (95.5, CARDINAL), (ifo, ORG), (bernd weidensteiner, PERSON), (munich, GPE), (wolfgang clement, PERSON), (siemens, ORG), (germany, GPE), (hans-werner sinn, PERSON), (the first half of 2004, DATE)}</td>\n",
              "    </tr>\n",
              "    <tr>\n",
              "      <th>2</th>\n",
              "      <td>1101</td>\n",
              "      <td>bbc poll indicates economic gloom citizens in a majority of nations surveyed in a bbc world service poll believe the world economy is worsening.  most respondents also said their national economy was getting worse. but when asked about their own family s financial outlook  a majority in 14 countries said they were positive about the future. almost 23 000 people in 22 countries were questioned for the poll  which was mostly conducted before the asian tsunami disaster. the poll found that a majority or plurality of people in 13 countries believed the economy was going downhill  compared with respondents in nine countries who believed it was improving. those surveyed in three countries were split. in percentage terms  an average of 44% of respondents in each country said the world economy was getting worse  compared to 34% who said it was improving. similarly  48% were pessimistic about their national economy  while 41% were optimistic. and 47% saw their family s economic conditions improving  as against 36% who said they were getting worse.  the poll of 22 953 people was conducted by the international polling firm globescan  together with the program on international policy attitudes (pipa) at the university of maryland.  while the world economy has picked up from difficult times just a few years ago  people seem to not have fully absorbed this development  though they are personally experiencing its effects   said pipa director steven kull.  people around the world are saying:  i m ok  but the world isn t .  there may be a perception that war  terrorism and religious and political divisions are making the world a worse place  even though that has not so far been reflected in global economic performance  says the bbc s elizabeth blunt.  the countries where people were most optimistic  both for the world and for their own families  were two fast-growing developing economies  china and india  followed by indonesia. china has seen two decades of blistering economic growth  which has led to wealth creation on a huge scale  says the bbc s louisa lim in beijing. but the results also may reflect the untrammelled confidence of people who are subject to endless government propaganda about their country s rosy economic future  our correspondent says. south korea was the most pessimistic  while respondents in italy and mexico were also quite gloomy. the bbc s david willey in rome says one reason for that result is the changeover from the lira to the euro in 2001  which is widely viewed as the biggest reason why their wages and salaries are worth less than they used to be. the philippines was among the most upbeat countries on prospects for respondents  families  but one of the most pessimistic about the world economy. pipa conducted the poll from 15 november 2004 to 3 january 2005 across 22 countries in face-to-face or telephone interviews. the interviews took place between 15 november 2004 and 5 january 2005. the margin of error is between 2.5 and 4 points  depending on the country. in eight of the countries  the sample was limited to major metropolitan areas.</td>\n",
              "      <td>1</td>\n",
              "      <td>{(eight, CARDINAL), (a few years ago, DATE), (22 953, CARDINAL), (indonesia, GPE), (rome, GPE), (between 2.5 and 4, CARDINAL), (beijing, GPE), (bbc world, ORG), (44%, PERCENT), (italy, GPE), (philippines, GPE), (41%, PERCENT), (15, CARDINAL), (14, CARDINAL), (s louisa lim, PRODUCT), (three, CARDINAL), (the university of maryland, ORG), (november 2004 to, DATE), (mexico, GPE), (bbc, ORG), (china, GPE), (two, CARDINAL), (almost 23 000, CARDINAL), (2001, DATE), (one, CARDINAL), (david willey, PERSON), (13, CARDINAL), (5 january 2005, DATE), (steven kull, PERSON), (two decades, DATE), (3 january 2005, DATE), (48%, PERCENT), (nine, CARDINAL), (india, GPE), (34%, PERCENT), (36%, PERCENT), (asian, NORP), (22, CARDINAL), (s elizabeth blunt, PRODUCT), (south korea, GPE), (between 15 november 2004, DATE), (47%, PERCENT)}</td>\n",
              "    </tr>\n",
              "    <tr>\n",
              "      <th>3</th>\n",
              "      <td>1976</td>\n",
              "      <td>lifestyle  governs mobile choice  faster  better or funkier hardware alone is not going to help phone firms sell more handsets  research suggests.  instead  phone firms keen to get more out of their customers should not just be pushing the technology for its own sake. consumers are far more interested in how handsets fit in with their lifestyle than they are in screen size  onboard memory or the chip inside  shows an in-depth study by handset maker ericsson.  historically in the industry there has been too much focus on using technology   said dr michael bjorn  senior advisor on mobile media at ericsson s consumer and enterprise lab.  we have to stop saying that these technologies will change their lives   he said.  we should try to speak to consumers in their own language and help them see how it fits in with what they are doing   he told the bbc news website.  for the study  ericsson interviewed 14 000 mobile phone owners on the ways they use their phone.  people s habits remain the same   said dr bjorn.  they just move the activity into the mobile phone as it s a much more convenient way to do it.   one good example of this was diary-writing among younger people  he said. while diaries have always been popular  a mobile phone -- especially one equipped with a camera -- helps them keep it in a different form. youngsters  use of text messages also reflects their desire to chat and keep in contact with friends and again just lets them do it in a slightly changed way. dr bjorn said that although consumers do what they always did but use a phone to do it  the sheer variety of what the new handset technologies make possible does gradually drive new habits and lifestyles. ericsson s research has shown that consumers divide into different  tribes  that use phones in different ways. dr bjorn said groups dubbed  pioneers  and  materialists  were most interested in trying new things and were behind the start of many trends in phone use.  for instance   he said   older people are using sms much more than they did five years ago.  this was because younger users  often the children of ageing mobile owners  encouraged older people to try it so they could keep in touch.  another factor governing the speed of change in mobile phone use was the simple speed with which new devices are bought by pioneers and materialists. only when about 25% of people have handsets with new innovations on them  such as cameras  can consumers stop worrying that if they send a picture message the person at the other end will be able to see it.  once this significant number of users is passed  use of new innovations tends to take off. dr bjorn said that early reports of camera phone usage in japan seemed to imply that the innovation was going to be a flop. however  he said  now 45% of the japanese people ericsson questioned use their camera phone at least once a month. in 2003 the figure was 29%. similarly  across europe the numbers of people taking snaps with cameras is starting to rise. in 2003 only 4% of the people in the uk took a phonecam snap at least once a month. now the figure is 14%. similar rises have been seen in many other european nations. dr bjorn said that people also used their camera phones in very different ways to film and even digital cameras.  usage patterns for digital cameras are almost exactly replacing usage patterns for analogue cameras   he said. digital cameras tend to be used on significant events such as weddings  holidays and birthdays. by contrast  he said  camera phones were being used much more to capture a moment and were being woven into everyday life.</td>\n",
              "      <td>0</td>\n",
              "      <td>{(japan, GPE), (about 25%, PERCENT), (michael bjorn, PERSON), (digital, ORG), (2003, DATE), (uk, GPE), (ericsson s research, ORG), (bjorn, PERSON), (ericsson s consumer, ORG), (five years ago, DATE), (europe, LOC), (european, NORP), (groups, ORG), (dr bjorn, PERSON), (29%, PERCENT), (one, CARDINAL), (14 000, QUANTITY), (only 4%, PERCENT), (45%, PERCENT), (ericsson, PERSON), (14%, PERCENT), (japanese, NORP), (the bbc news website, ORG)}</td>\n",
              "    </tr>\n",
              "    <tr>\n",
              "      <th>4</th>\n",
              "      <td>917</td>\n",
              "      <td>enron bosses in $168m payout eighteen former enron directors have agreed a $168m (£89m) settlement deal in a shareholder lawsuit over the collapse of the energy firm.  leading plaintiff  the university of california  announced the news  adding that 10 of the former directors will pay $13m from their own pockets. the settlement will be put to the courts for approval next week. enron went bankrupt in 2001 after it emerged it had hidden hundreds of millions of dollars in debt.  before its collapse  the firm was the seventh biggest public us company by revenue. its demise sent shockwaves through financial markets and dented investor confidence in corporate america.   the settlement is very significant in holding these outside directors at least partially personally responsible   william lerach  the lawyer leading the class action suit against enron  said.  hopefully  this will help send a message to corporate boardrooms of the importance of directors performing their legal duties   he added. under the terms of the $168m settlement - $155m of which will be covered by insurance - none of the 18 former directors will admit any wrongdoing. the deal is the fourth major settlement negotiated by lawyers who filed a class action on behalf of enron s shareholders almost three years ago. so far  including the latest deal  just under $500m (£378.8m) has been retrieved for investors.  however  the latest deal does not include former enron chief executives ken lay and jeff skilling. both men are facing criminal charges for their alleged misconduct in the run up to the firm s collapse. neither does it cover andrew fastow  who has pleaded guilty to taking part in an illegal conspiracy while he was chief financial officer at the group. enron s shareholders are still seeking damages from a long list of other big name defendants including the financial institutions jp morgan chase  citigroup  merrill lynch and credit suisse first boston. the university of california said the trial in the case is scheduled to begin in october 2006. it joined the lawsuit in december 2001alleging  massive insider trading  and fraud  claiming it had lost $145m on its investments in the company.</td>\n",
              "      <td>5</td>\n",
              "      <td>{(18, CARDINAL), (us, GPE), (andrew fastow, PERSON), (america, GPE), (ken lay, PERSON), (october 2006, DATE), (just under $500m, MONEY), ($168m, MONEY), (£378.8m, MONEY), (£89, MONEY), (jp morgan, PERSON), (december, DATE), (seventh, ORDINAL), (william lerach, PERSON), (credit suisse first boston, ORG), (2001, DATE), (10, CARDINAL), (jeff, PERSON), (hundreds of millions of dollars, MONEY), (fourth, ORDINAL), ($145m, MONEY), (enron, ORG), (merrill lynch, ORG), (next week, DATE), ($155m, MONEY), (almost three years ago, DATE), ($13m, MONEY), (the university of california, ORG), (citigroup, ORG)}</td>\n",
              "    </tr>\n",
              "    <tr>\n",
              "      <th>...</th>\n",
              "      <td>...</td>\n",
              "      <td>...</td>\n",
              "      <td>...</td>\n",
              "      <td>...</td>\n",
              "    </tr>\n",
              "    <tr>\n",
              "      <th>1485</th>\n",
              "      <td>857</td>\n",
              "      <td>double eviction from big brother model caprice and holby city actor jeremy edwards have both left the celebrity big brother house in a surprise double eviction on friday.  caprice  who left in the scheduled fourth eviction having gained just 5% of the public vote  afterwards said:  i am so happy  i am so glad i m out.  edwards then left in a surprise eviction  with 12% of the vote. nineteen-year-old blazin  squad singer kenzie is currently favourite to win the £50 000 charity prize. caprice had been the pre-show favourite to be voted out of the house  with bookmakers ladbrokes offering odds of 1/5 on her departure. ladbrokes spokesman warren lush had said she was  the hottest eviction favourite so far this series .  odds on kenzie s victory have been slashed from 4/6 to 1/2  although bookmakers have said they are not ruling out a late rally from former happy mondays star bez. the other remaining housemate is actress brigitte nielsen. dj lisa i anson became the third housemate to be voted out on wednesday when she became the victim of a surprise eviction during a game of hide-and-seek on the channel 4 show. i anson said she was  glad to be out  and predicted that kenzie would emerge as the winner. the winner is due to be announced on sunday night.</td>\n",
              "      <td>2</td>\n",
              "      <td>{(ladbrokes, PERSON), (anson, PERSON), (holby city, GPE), (12%, PERCENT), (4/6, CARDINAL), (jeremy edwards, PERSON), (wednesday, DATE), (sunday night, TIME), (just 5%, PERCENT), (friday, DATE), (£50 000, MONEY), (warren lush, PERSON), (brigitte nielsen, PERSON), (dj lisa, PERSON), (1/2, CARDINAL), (nineteen-year-old, DATE), (series, EVENT), (third, ORDINAL), (1/5, CARDINAL), (fourth, ORDINAL)}</td>\n",
              "    </tr>\n",
              "    <tr>\n",
              "      <th>1486</th>\n",
              "      <td>325</td>\n",
              "      <td>dj double act revamp chart show dj duo jk and joel are taking over bbc radio 1 s flagship chart show on sunday  adding showbiz news  celebrity interviews and between-song banter.  they hope to boost ratings for the long-running show  which has been overtaken in popularity by independent radio s hit 40 uk rundown.  radio 1 s chart show is an institution and remains the station s single most popular show   says jk  also known as jason king.  for years people have been tuning in at four o clock with their tape recorders ready to record their favourite tunes. not that i ever did that.  but things have moved on a lot now so it was time for a change.   that change involved ejecting previous host wes butters and relocating king and dj partner joel ross from their weekend afternoon radio 1 slot. the pair have worked together for a decade - meeting on viking radio in hull before moving to manchester station key 103 and winning two sony radio awards. they also presented gadget series playboyz and car show motor maniacs for cable tv channel granada men and motors  and pure soap on bbc three.  on the revamped chart show their cheeky  laddish banter will punctuate star interviews and competitions  film and dvd charts plus a look at future single releases  in addition to the singles chart itself.  the chart rundown is no longer the only point of the programme   says ross.  the show used to be the only way to discover who was in the top 40. now you can just click on the internet to find that out  so the show has plenty of extra items too.  the show s reduced reliance upon the top 40 also reflects the fact that music fans are now more likely to download songs in digital format rather than buy them on compact disc  vinyl or cassette.   i personally buy downloads rather than cd singles   says 27-year-old ross.  even my grandma can download songs now. jk is still struggling with the technology  though.   but it s premature for people to say that the singles chart is dead   ross adds.  while sales of singles on traditional formats are down  interest in songs has been revived by download sales  which will be incorporated into our main chart rundown from april.  music fans still want to know what is the most popular song of the week.   ross will be plumping for chart success from rapper verbalicious and the stereophonics on sunday  while king is more of an r&amp;b and dance music fan.  so listeners will get the advantage of both our music tastes   says king  30  who describes outgoing host butters as  an extremely professional and competent broadcaster .   the advantage joel and i have is that we re a double act  with a rapport between us that makes the show much more interactive   king says.  wes has a great broadcasting career ahead of him. and if not  i could always use a cleaner   he jokes. ross says the pair have done their best to ignore the weight of expectation placed upon the revamped show.  other people can worry about that  we are going to continue doing what we do well   he says.  at the end of the day this is a radio show that is meant to be entertaining. nobody died.</td>\n",
              "      <td>2</td>\n",
              "      <td>{(40, CARDINAL), (ross, PERSON), (bbc radio, ORG), (uk, GPE), (103, CARDINAL), (the end of the day, DATE), (joel ross, PERSON), (independent radio s, ORG), (a decade, DATE), (1, CARDINAL), (afternoon, TIME), (jk, PERSON), (two, CARDINAL), (years, DATE), (four, CARDINAL), (april, DATE), (laddish, NORP), (jason king, PERSON), (s, PRODUCT), (radio 1, ORG), (bbc three, ORG), (30, CARDINAL), (sony, ORG), (sunday, DATE), (the week, DATE)}</td>\n",
              "    </tr>\n",
              "    <tr>\n",
              "      <th>1487</th>\n",
              "      <td>1590</td>\n",
              "      <td>weak dollar hits reuters revenues at media group reuters slipped 11% during 2004  mainly due to the weakness of the dollar  the group said.  the company said it was optimistic about growth even as revenues slipped 11% from £3.24bn ($6.13bn) in 2003 to £2.89bn in 2004. reuters beat profit forecasts  posting a 52% rise in profits for the year to £198m from the £130m seen a year earlier. reuters also beat its savings target for 2004  delivering £234m of cuts. under its three-year fast forward turnaround plan it had aimed to save £220m during the 12 months to 31 december.  reuters also managed to slow a decline in underlying revenues to 5.4% from 10.2% in 2003 and cut its debt back to £160m from £610m a year earlier. the news and financial data seller said the year had begun well  adding it expected  further gradual improvement  in the second quarter of the year after good january sales. it added it was planning to deliver a further £105m of savings over the coming year - but said it expects to be hit with an £80m restructuring charge to pay for the cost of moving from fleet street to new headquarters in london at canary wharf.  improving customer relationships  more competitive products and continued strong cost discipline position us well for 2005   chief executive tom glocer said  adding the company was beginning  to look beyond recovery to growth .</td>\n",
              "      <td>1</td>\n",
              "      <td>{(fleet street, FAC), (2004, DATE), (january, DATE), (2003, DATE), (5.4%, PERCENT), (£234m, MONEY), (the year, DATE), (3.24bn, MONEY), (220, MONEY), (52%, PERCENT), (tom glocer, PERSON), (2.89bn, MONEY), (london, GPE), (the second quarter of the year, DATE), (the coming year, DATE), (£198m, MONEY), (6.13bn, MONEY), (10.2%, PERCENT), (11%, PERCENT), (three-year, DATE), (reuters, ORG), (the 12 months to 31 december, DATE), (canary wharf, FAC), (2005, DATE), (a year earlier, DATE), (media group reuters, ORG), (£130m, MONEY)}</td>\n",
              "    </tr>\n",
              "    <tr>\n",
              "      <th>1488</th>\n",
              "      <td>1587</td>\n",
              "      <td>apple ipod family expands market apple has expanded its ipod family with the release of its next generation of the digital music players.  its latest challenges to the growing digital music gadget market include an ipod mini model which can hold 6gb compared to a previous 4gb. the company  which hopes to keep its dominant place in the digital music market  also said the gold coloured version of the mini would be dropped. a 30gb version has also been added to the ipod photo family. the latest models have a longer battery life and their prices have been cut by an average of £40. the original ipod took an early lead in the digital music player market thanks to its large storage capacity and simple design.  during 2004 about 25 million portable players were sold  10 million of which were apple ipods. but analysts agree that the success is also down to its integration with the itunes online store  which has given the company a 70% share of the legal download music market. mike mcguire  a research director at analyst gartner  told the bbc news website that apple had done a good job in  sealing off the market from competition  so far.  they have created a very seamless package which i think is the idea of the product - the design  function and the software are very impressive   he said. he added that the threat from others was always present  however.  creative  other microsoft-partnered devices  real  sony and so on  are ratcheting up the marketing message and advertising   he said. creative was very upbeat about how many of its creative zen players it had shipped by the end of last year  he said. its second-generation models  like the creative zen micro photo  is due out in the summer. it will have 5gb of memory on board.  digital music players are now the gadget of choice among young americans  according to recent research by the pew internet and american life project. one in 10 us adults - 22 million people - now owns a digital music player of some sort. sales of legally downloaded songs also rose more than tenfold in 2004  according to the record industry  with 200 million tracks bought online in the us and europe in 12 months. the ifpi industry body said that the popularity of portable music players was behind the growth. analysts say that the ease of use and growth of music services available on the net will continue to drive the trend towards portable music players.  people are also starting to use them in novel ways. some are combining automatic syncing functions many of them have with other net functions to automatically distribute diy radio shows  called podcasts. but 2005 will also see more competition from mobile phone operators who are keen to offer streaming services on much more powerful and sophisticated handsets. according to mr mcguire  research suggests that people like the idea of building up huge libraries of music  which they can do with high-capacity storage devices  like ipods and creative zens. mobiles do not yet have this capacity though  and there are issues about the ease of portability of mobile music. mr mcguire said apple was ensuring it kept a foot in the mobile music door with its recent deal with motorola to produce a version of itunes for motorola phones.</td>\n",
              "      <td>0</td>\n",
              "      <td>{(2004, DATE), (5gb, QUANTITY), (americans, NORP), (us, GPE), (6gb, QUANTITY), (70%, PERCENT), (the summer, DATE), (apple ipod, PERSON), (mike mcguire, PERSON), (mcguire, PERSON), (microsoft, ORG), (europe, LOC), (4gb, QUANTITY), (22 million, CARDINAL), (second, ORDINAL), (apple, ORG), (the end of last year, DATE), (10, CARDINAL), (10 million, CARDINAL), (one, CARDINAL), (30, CARDINAL), (sony, ORG), (12 months, DATE), (2005, DATE), (motorola, ORG), (40, MONEY), (200 million, CARDINAL), (about 25 million, CARDINAL), (the bbc news website, ORG), (american, NORP)}</td>\n",
              "    </tr>\n",
              "    <tr>\n",
              "      <th>1489</th>\n",
              "      <td>538</td>\n",
              "      <td>santy worm makes unwelcome visit thousands of website bulletin boards have been defaced by a virus that used google to spread across the net.  the santy worm first appeared on 20 december and within 24 hours had successfully hit more than 40 000 websites. the malicious program exploits a vulnerability in the widely used phpbb software. santy s spread has now been stopped after google began blocking infected sites searching for new victims.  the worm replaces chat forums with a webpage announcing that the site had been defaced by the malicious program. soon after being infected  sites hit by the worm started randomly searching for other websites running the vulnerable phpbb software. once google started blocking these search queries the rate of infection tailed off sharply. a message sent to finnish security firm f-secure by google s security team said:  while a seven hour response for something like this is not outrageous  we think we can and should do better.   we will be reviewing our procedures to improve our response time in the future to similar problems   the google team said. security firms estimate that about 1m websites run their discussion groups and forums with the open source phpbb program. the worst of the attack now seems to be over as a search conducted on the morning of the 22 december produced only 1 440 hits for sites showing the text used in the defacement message. people using the sites hit by santy will not be affected by the worm. santy is not the first malicious program to use google to help it spread. in july a variant of the mydoom virus slowed down searches on google as the program flooded the search site with queries looking for new e-mail addresses to send itself to.</td>\n",
              "      <td>0</td>\n",
              "      <td>{(seven hour, TIME), (santy worm, ORG), (24 hours, TIME), (finnish, NORP), (first, ORDINAL), (more than 40 000, CARDINAL), (22 december, DATE), (about 1, CARDINAL), (20 december, DATE), (july, DATE), (only 1 440, CARDINAL), (google, ORG), (the morning, TIME), (google s security team, ORG), (thousands, CARDINAL)}</td>\n",
              "    </tr>\n",
              "  </tbody>\n",
              "</table>\n",
              "<p>1490 rows × 4 columns</p>\n",
              "</div>"
            ],
            "text/plain": [
              "      ArticleId  ...                                                                                                                                                                                                                                                                                                                                                                                                                                                                                                                                                                                                                                                                                                                                                                                                                                                Entities\n",
              "0     1833       ...  {(2004, DATE), (us, GPE), (sullivan, PERSON), (first, ORDINAL), (2002, DATE), (new york, GPE), (scott sullivan, PERSON), (early 2001 and 2002, DATE), (arthur andersen, PERSON), (85 years, DATE), (worldcom, ORG), (6.75bn, MONEY), (mci, ORG), (ms cooper, ORG), (wednesday, DATE), (bernie ebbers, PERSON), (2001, DATE), (s, PRODUCT), (5.7bn, MONEY), (ebber s, PRODUCT), (cynthia cooper, PERSON), (11bn, MONEY), (last week, DATE), (cooper, PERSON)}                                                                                                                                                                                                                                                                                                                                                                                          \n",
              "1     154        ...  {(january, DATE), (three months, DATE), (2003, DATE), (first, ORDINAL), (dz bank, ORG), (ifo, PERSON), (the last three months of 2004, DATE), (europe, LOC), (0.2%, PERCENT), (1.6%, PERCENT), (february, DATE), (close to 10%, PERCENT), (2%, PERCENT), (the european central bank, ORG), (volkswagen, ORG), (97.5, CARDINAL), (last year, DATE), (german, NORP), (95.5, CARDINAL), (ifo, ORG), (bernd weidensteiner, PERSON), (munich, GPE), (wolfgang clement, PERSON), (siemens, ORG), (germany, GPE), (hans-werner sinn, PERSON), (the first half of 2004, DATE)}                                                                                                                                                                                                                                                                                \n",
              "2     1101       ...  {(eight, CARDINAL), (a few years ago, DATE), (22 953, CARDINAL), (indonesia, GPE), (rome, GPE), (between 2.5 and 4, CARDINAL), (beijing, GPE), (bbc world, ORG), (44%, PERCENT), (italy, GPE), (philippines, GPE), (41%, PERCENT), (15, CARDINAL), (14, CARDINAL), (s louisa lim, PRODUCT), (three, CARDINAL), (the university of maryland, ORG), (november 2004 to, DATE), (mexico, GPE), (bbc, ORG), (china, GPE), (two, CARDINAL), (almost 23 000, CARDINAL), (2001, DATE), (one, CARDINAL), (david willey, PERSON), (13, CARDINAL), (5 january 2005, DATE), (steven kull, PERSON), (two decades, DATE), (3 january 2005, DATE), (48%, PERCENT), (nine, CARDINAL), (india, GPE), (34%, PERCENT), (36%, PERCENT), (asian, NORP), (22, CARDINAL), (s elizabeth blunt, PRODUCT), (south korea, GPE), (between 15 november 2004, DATE), (47%, PERCENT)}\n",
              "3     1976       ...  {(japan, GPE), (about 25%, PERCENT), (michael bjorn, PERSON), (digital, ORG), (2003, DATE), (uk, GPE), (ericsson s research, ORG), (bjorn, PERSON), (ericsson s consumer, ORG), (five years ago, DATE), (europe, LOC), (european, NORP), (groups, ORG), (dr bjorn, PERSON), (29%, PERCENT), (one, CARDINAL), (14 000, QUANTITY), (only 4%, PERCENT), (45%, PERCENT), (ericsson, PERSON), (14%, PERCENT), (japanese, NORP), (the bbc news website, ORG)}                                                                                                                                                                                                                                                                                                                                                                                               \n",
              "4     917        ...  {(18, CARDINAL), (us, GPE), (andrew fastow, PERSON), (america, GPE), (ken lay, PERSON), (october 2006, DATE), (just under $500m, MONEY), ($168m, MONEY), (£378.8m, MONEY), (£89, MONEY), (jp morgan, PERSON), (december, DATE), (seventh, ORDINAL), (william lerach, PERSON), (credit suisse first boston, ORG), (2001, DATE), (10, CARDINAL), (jeff, PERSON), (hundreds of millions of dollars, MONEY), (fourth, ORDINAL), ($145m, MONEY), (enron, ORG), (merrill lynch, ORG), (next week, DATE), ($155m, MONEY), (almost three years ago, DATE), ($13m, MONEY), (the university of california, ORG), (citigroup, ORG)}                                                                                                                                                                                                                              \n",
              "...   ...        ...                                                                                                                                                                                                                                                                                                                                                                                                                                                                                                                                                                                                                       ...                                                                                                                                                                                                                              \n",
              "1485  857        ...  {(ladbrokes, PERSON), (anson, PERSON), (holby city, GPE), (12%, PERCENT), (4/6, CARDINAL), (jeremy edwards, PERSON), (wednesday, DATE), (sunday night, TIME), (just 5%, PERCENT), (friday, DATE), (£50 000, MONEY), (warren lush, PERSON), (brigitte nielsen, PERSON), (dj lisa, PERSON), (1/2, CARDINAL), (nineteen-year-old, DATE), (series, EVENT), (third, ORDINAL), (1/5, CARDINAL), (fourth, ORDINAL)}                                                                                                                                                                                                                                                                                                                                                                                                                                          \n",
              "1486  325        ...  {(40, CARDINAL), (ross, PERSON), (bbc radio, ORG), (uk, GPE), (103, CARDINAL), (the end of the day, DATE), (joel ross, PERSON), (independent radio s, ORG), (a decade, DATE), (1, CARDINAL), (afternoon, TIME), (jk, PERSON), (two, CARDINAL), (years, DATE), (four, CARDINAL), (april, DATE), (laddish, NORP), (jason king, PERSON), (s, PRODUCT), (radio 1, ORG), (bbc three, ORG), (30, CARDINAL), (sony, ORG), (sunday, DATE), (the week, DATE)}                                                                                                                                                                                                                                                                                                                                                                                                  \n",
              "1487  1590       ...  {(fleet street, FAC), (2004, DATE), (january, DATE), (2003, DATE), (5.4%, PERCENT), (£234m, MONEY), (the year, DATE), (3.24bn, MONEY), (220, MONEY), (52%, PERCENT), (tom glocer, PERSON), (2.89bn, MONEY), (london, GPE), (the second quarter of the year, DATE), (the coming year, DATE), (£198m, MONEY), (6.13bn, MONEY), (10.2%, PERCENT), (11%, PERCENT), (three-year, DATE), (reuters, ORG), (the 12 months to 31 december, DATE), (canary wharf, FAC), (2005, DATE), (a year earlier, DATE), (media group reuters, ORG), (£130m, MONEY)}                                                                                                                                                                                                                                                                                                       \n",
              "1488  1587       ...  {(2004, DATE), (5gb, QUANTITY), (americans, NORP), (us, GPE), (6gb, QUANTITY), (70%, PERCENT), (the summer, DATE), (apple ipod, PERSON), (mike mcguire, PERSON), (mcguire, PERSON), (microsoft, ORG), (europe, LOC), (4gb, QUANTITY), (22 million, CARDINAL), (second, ORDINAL), (apple, ORG), (the end of last year, DATE), (10, CARDINAL), (10 million, CARDINAL), (one, CARDINAL), (30, CARDINAL), (sony, ORG), (12 months, DATE), (2005, DATE), (motorola, ORG), (40, MONEY), (200 million, CARDINAL), (about 25 million, CARDINAL), (the bbc news website, ORG), (american, NORP)}                                                                                                                                                                                                                                                               \n",
              "1489  538        ...  {(seven hour, TIME), (santy worm, ORG), (24 hours, TIME), (finnish, NORP), (first, ORDINAL), (more than 40 000, CARDINAL), (22 december, DATE), (about 1, CARDINAL), (20 december, DATE), (july, DATE), (only 1 440, CARDINAL), (google, ORG), (the morning, TIME), (google s security team, ORG), (thousands, CARDINAL)}                                                                                                                                                                                                                                                                                                                                                                                                                                                                                                                             \n",
              "\n",
              "[1490 rows x 4 columns]"
            ]
          },
          "metadata": {
            "tags": []
          },
          "execution_count": 48
        }
      ]
    },
    {
      "cell_type": "code",
      "metadata": {
        "id": "ZN1fIfySBe58",
        "colab_type": "code",
        "colab": {}
      },
      "source": [
        "# Key information from each article"
      ],
      "execution_count": 49,
      "outputs": []
    },
    {
      "cell_type": "code",
      "metadata": {
        "id": "hN3djmFvB2wi",
        "colab_type": "code",
        "colab": {}
      },
      "source": [
        "import nltk"
      ],
      "execution_count": 54,
      "outputs": []
    },
    {
      "cell_type": "code",
      "metadata": {
        "id": "M0tTwIQuBslI",
        "colab_type": "code",
        "colab": {
          "base_uri": "https://localhost:8080/",
          "height": 224
        },
        "outputId": "82daba71-40fe-4725-94cf-db5afa6ac295"
      },
      "source": [
        "!pip install rake-nltk"
      ],
      "execution_count": 57,
      "outputs": [
        {
          "output_type": "stream",
          "text": [
            "Collecting rake-nltk\n",
            "  Downloading https://files.pythonhosted.org/packages/8e/c4/b4ff57e541ac5624ad4b20b89c2bafd4e98f29fd83139f3a81858bdb3815/rake_nltk-1.0.4.tar.gz\n",
            "Requirement already satisfied: nltk in /usr/local/lib/python3.6/dist-packages (from rake-nltk) (3.2.5)\n",
            "Requirement already satisfied: six in /usr/local/lib/python3.6/dist-packages (from nltk->rake-nltk) (1.15.0)\n",
            "Building wheels for collected packages: rake-nltk\n",
            "  Building wheel for rake-nltk (setup.py) ... \u001b[?25l\u001b[?25hdone\n",
            "  Created wheel for rake-nltk: filename=rake_nltk-1.0.4-py2.py3-none-any.whl size=7819 sha256=6448d87fc442d5d359c5a8693a3a239d5138bf330ddc135e153e1a4e69eb0945\n",
            "  Stored in directory: /root/.cache/pip/wheels/ef/92/fc/271b3709e71a96ffe934b27818946b795ac6b9b8ff8682483f\n",
            "Successfully built rake-nltk\n",
            "Installing collected packages: rake-nltk\n",
            "Successfully installed rake-nltk-1.0.4\n"
          ],
          "name": "stdout"
        }
      ]
    },
    {
      "cell_type": "code",
      "metadata": {
        "id": "Y3uyu-vlBjEe",
        "colab_type": "code",
        "colab": {}
      },
      "source": [
        "from rake_nltk import Rake\n",
        "r = Rake()"
      ],
      "execution_count": 58,
      "outputs": []
    },
    {
      "cell_type": "code",
      "metadata": {
        "id": "sSZQYT6KCTVB",
        "colab_type": "code",
        "colab": {}
      },
      "source": [
        "key=[]\n",
        "for i in df['Text']:\n",
        "    #Example\n",
        "    a=r.extract_keywords_from_text(i)\n",
        "    b=r.get_ranked_phrases()\n",
        "    c=r.get_ranked_phrases_with_scores()\n",
        "    key.append(c)"
      ],
      "execution_count": 59,
      "outputs": []
    },
    {
      "cell_type": "code",
      "metadata": {
        "id": "oLxida6HCajc",
        "colab_type": "code",
        "colab": {}
      },
      "source": [
        "# we calculate the means scores for each article and take the words who have their scores > mean*2"
      ],
      "execution_count": 60,
      "outputs": []
    },
    {
      "cell_type": "code",
      "metadata": {
        "id": "pcNceFxFCex1",
        "colab_type": "code",
        "colab": {}
      },
      "source": [
        "score=[]\n",
        "avg=[]\n",
        "for i in key:\n",
        "    score=[]\n",
        "    for j in i:\n",
        "        #print(j[0])\n",
        "        score.append(j[0])\n",
        "    avg.append(np.mean(score)*2)"
      ],
      "execution_count": 66,
      "outputs": []
    },
    {
      "cell_type": "code",
      "metadata": {
        "id": "uKMuFzUBClD6",
        "colab_type": "code",
        "colab": {}
      },
      "source": [
        "main=[]\n",
        "for i,j in zip(key,avg):\n",
        "    filt=[]\n",
        "    \n",
        "   \n",
        "    \n",
        "    \n",
        "    for q in range(0,len(i)):\n",
        "        if(i[q][0]>j):\n",
        "                \n",
        "            filt.append((i[q][1]))\n",
        "    main.append(str(filt))"
      ],
      "execution_count": 67,
      "outputs": []
    },
    {
      "cell_type": "code",
      "metadata": {
        "id": "KzinazGEC4kD",
        "colab_type": "code",
        "colab": {}
      },
      "source": [
        "df['Key_Info'] = main"
      ],
      "execution_count": 68,
      "outputs": []
    },
    {
      "cell_type": "code",
      "metadata": {
        "id": "wTdpj30LC8_X",
        "colab_type": "code",
        "colab": {
          "base_uri": "https://localhost:8080/",
          "height": 1000
        },
        "outputId": "9485805d-0f45-4dff-efcc-6e761479b8d3"
      },
      "source": [
        "df"
      ],
      "execution_count": 69,
      "outputs": [
        {
          "output_type": "execute_result",
          "data": {
            "text/html": [
              "<div>\n",
              "<style scoped>\n",
              "    .dataframe tbody tr th:only-of-type {\n",
              "        vertical-align: middle;\n",
              "    }\n",
              "\n",
              "    .dataframe tbody tr th {\n",
              "        vertical-align: top;\n",
              "    }\n",
              "\n",
              "    .dataframe thead th {\n",
              "        text-align: right;\n",
              "    }\n",
              "</style>\n",
              "<table border=\"1\" class=\"dataframe\">\n",
              "  <thead>\n",
              "    <tr style=\"text-align: right;\">\n",
              "      <th></th>\n",
              "      <th>ArticleId</th>\n",
              "      <th>Text</th>\n",
              "      <th>Cluster_Labels</th>\n",
              "      <th>Entities</th>\n",
              "      <th>Key_Info</th>\n",
              "    </tr>\n",
              "  </thead>\n",
              "  <tbody>\n",
              "    <tr>\n",
              "      <th>0</th>\n",
              "      <td>1833</td>\n",
              "      <td>worldcom ex-boss launches defence lawyers defending former worldcom chief bernie ebbers against a battery of fraud charges have called a company whistleblower as their first witness.  cynthia cooper  worldcom s ex-head of internal accounting  alerted directors to irregular accounting practices at the us telecoms giant in 2002. her warnings led to the collapse of the firm following the discovery of an $11bn (£5.7bn) accounting fraud. mr ebbers has pleaded not guilty to charges of fraud and conspiracy.  prosecution lawyers have argued that mr ebbers orchestrated a series of accounting tricks at worldcom  ordering employees to hide expenses and inflate revenues to meet wall street earnings estimates. but ms cooper  who now runs her own consulting business  told a jury in new york on wednesday that external auditors arthur andersen had approved worldcom s accounting in early 2001 and 2002. she said andersen had given a  green light  to the procedures and practices used by worldcom. mr ebber s lawyers have said he was unaware of the fraud  arguing that auditors did not alert him to any problems.  ms cooper also said that during shareholder meetings mr ebbers often passed over technical questions to the company s finance chief  giving only  brief  answers himself. the prosecution s star witness  former worldcom financial chief scott sullivan  has said that mr ebbers ordered accounting adjustments at the firm  telling him to  hit our books . however  ms cooper said mr sullivan had not mentioned  anything uncomfortable  about worldcom s accounting during a 2001 audit committee meeting. mr ebbers could face a jail sentence of 85 years if convicted of all the charges he is facing. worldcom emerged from bankruptcy protection in 2004  and is now known as mci. last week  mci agreed to a buyout by verizon communications in a deal valued at $6.75bn.</td>\n",
              "      <td>5</td>\n",
              "      <td>{(2004, DATE), (us, GPE), (sullivan, PERSON), (first, ORDINAL), (2002, DATE), (new york, GPE), (scott sullivan, PERSON), (early 2001 and 2002, DATE), (arthur andersen, PERSON), (85 years, DATE), (worldcom, ORG), (6.75bn, MONEY), (mci, ORG), (ms cooper, ORG), (wednesday, DATE), (bernie ebbers, PERSON), (2001, DATE), (s, PRODUCT), (5.7bn, MONEY), (ebber s, PRODUCT), (cynthia cooper, PERSON), (11bn, MONEY), (last week, DATE), (cooper, PERSON)}</td>\n",
              "      <td>['boss launches defence lawyers defending former worldcom chief bernie ebbers', 'star witness former worldcom financial chief scott sullivan', 'shareholder meetings mr ebbers often passed', 'however ms cooper said mr sullivan', 'meet wall street earnings estimates', 'mr ebbers ordered accounting adjustments', 'mr ebbers could face', 'ms cooper also said', '2001 audit committee meeting', 'internal accounting alerted directors', 'last week mci agreed']</td>\n",
              "    </tr>\n",
              "    <tr>\n",
              "      <th>1</th>\n",
              "      <td>154</td>\n",
              "      <td>german business confidence slides german business confidence fell in february knocking hopes of a speedy recovery in europe s largest economy.  munich-based research institute ifo said that its confidence index fell to 95.5 in february from 97.5 in january  its first decline in three months. the study found that the outlook in both the manufacturing and retail sectors had worsened. observers had been hoping that a more confident business sector would signal that economic activity was picking up.   we re surprised that the ifo index has taken such a knock   said dz bank economist bernd weidensteiner.  the main reason is probably that the domestic economy is still weak  particularly in the retail trade.  economy and labour minister wolfgang clement called the dip in february s ifo confidence figure  a very mild decline . he said that despite the retreat  the index remained at a relatively high level and that he expected  a modest economic upswing  to continue.  germany s economy grew 1.6% last year after shrinking in 2003. however  the economy contracted by 0.2% during the last three months of 2004  mainly due to the reluctance of consumers to spend. latest indications are that growth is still proving elusive and ifo president hans-werner sinn said any improvement in german domestic demand was sluggish. exports had kept things going during the first half of 2004  but demand for exports was then hit as the value of the euro hit record levels making german products less competitive overseas. on top of that  the unemployment rate has been stuck at close to 10% and manufacturing firms  including daimlerchrysler  siemens and volkswagen  have been negotiating with unions over cost cutting measures. analysts said that the ifo figures and germany s continuing problems may delay an interest rate rise by the european central bank. eurozone interest rates are at 2%  but comments from senior officials have recently focused on the threat of inflation  prompting fears that interest rates may rise.</td>\n",
              "      <td>1</td>\n",
              "      <td>{(january, DATE), (three months, DATE), (2003, DATE), (first, ORDINAL), (dz bank, ORG), (ifo, PERSON), (the last three months of 2004, DATE), (europe, LOC), (0.2%, PERCENT), (1.6%, PERCENT), (february, DATE), (close to 10%, PERCENT), (2%, PERCENT), (the european central bank, ORG), (volkswagen, ORG), (97.5, CARDINAL), (last year, DATE), (german, NORP), (95.5, CARDINAL), (ifo, ORG), (bernd weidensteiner, PERSON), (munich, GPE), (wolfgang clement, PERSON), (siemens, ORG), (germany, GPE), (hans-werner sinn, PERSON), (the first half of 2004, DATE)}</td>\n",
              "      <td>['euro hit record levels making german products less competitive overseas', 'german business confidence slides german business confidence fell', 'knock said dz bank economist bernd weidensteiner', 'confident business sector would signal', 'labour minister wolfgang clement called', 'manufacturing firms including daimlerchrysler siemens', 'based research institute ifo said', 'continuing problems may delay', 'interest rates may rise', 'confidence index fell']</td>\n",
              "    </tr>\n",
              "    <tr>\n",
              "      <th>2</th>\n",
              "      <td>1101</td>\n",
              "      <td>bbc poll indicates economic gloom citizens in a majority of nations surveyed in a bbc world service poll believe the world economy is worsening.  most respondents also said their national economy was getting worse. but when asked about their own family s financial outlook  a majority in 14 countries said they were positive about the future. almost 23 000 people in 22 countries were questioned for the poll  which was mostly conducted before the asian tsunami disaster. the poll found that a majority or plurality of people in 13 countries believed the economy was going downhill  compared with respondents in nine countries who believed it was improving. those surveyed in three countries were split. in percentage terms  an average of 44% of respondents in each country said the world economy was getting worse  compared to 34% who said it was improving. similarly  48% were pessimistic about their national economy  while 41% were optimistic. and 47% saw their family s economic conditions improving  as against 36% who said they were getting worse.  the poll of 22 953 people was conducted by the international polling firm globescan  together with the program on international policy attitudes (pipa) at the university of maryland.  while the world economy has picked up from difficult times just a few years ago  people seem to not have fully absorbed this development  though they are personally experiencing its effects   said pipa director steven kull.  people around the world are saying:  i m ok  but the world isn t .  there may be a perception that war  terrorism and religious and political divisions are making the world a worse place  even though that has not so far been reflected in global economic performance  says the bbc s elizabeth blunt.  the countries where people were most optimistic  both for the world and for their own families  were two fast-growing developing economies  china and india  followed by indonesia. china has seen two decades of blistering economic growth  which has led to wealth creation on a huge scale  says the bbc s louisa lim in beijing. but the results also may reflect the untrammelled confidence of people who are subject to endless government propaganda about their country s rosy economic future  our correspondent says. south korea was the most pessimistic  while respondents in italy and mexico were also quite gloomy. the bbc s david willey in rome says one reason for that result is the changeover from the lira to the euro in 2001  which is widely viewed as the biggest reason why their wages and salaries are worth less than they used to be. the philippines was among the most upbeat countries on prospects for respondents  families  but one of the most pessimistic about the world economy. pipa conducted the poll from 15 november 2004 to 3 january 2005 across 22 countries in face-to-face or telephone interviews. the interviews took place between 15 november 2004 and 5 january 2005. the margin of error is between 2.5 and 4 points  depending on the country. in eight of the countries  the sample was limited to major metropolitan areas.</td>\n",
              "      <td>1</td>\n",
              "      <td>{(eight, CARDINAL), (a few years ago, DATE), (22 953, CARDINAL), (indonesia, GPE), (rome, GPE), (between 2.5 and 4, CARDINAL), (beijing, GPE), (bbc world, ORG), (44%, PERCENT), (italy, GPE), (philippines, GPE), (41%, PERCENT), (15, CARDINAL), (14, CARDINAL), (s louisa lim, PRODUCT), (three, CARDINAL), (the university of maryland, ORG), (november 2004 to, DATE), (mexico, GPE), (bbc, ORG), (china, GPE), (two, CARDINAL), (almost 23 000, CARDINAL), (2001, DATE), (one, CARDINAL), (david willey, PERSON), (13, CARDINAL), (5 january 2005, DATE), (steven kull, PERSON), (two decades, DATE), (3 january 2005, DATE), (48%, PERCENT), (nine, CARDINAL), (india, GPE), (34%, PERCENT), (36%, PERCENT), (asian, NORP), (22, CARDINAL), (s elizabeth blunt, PRODUCT), (south korea, GPE), (between 15 november 2004, DATE), (47%, PERCENT)}</td>\n",
              "      <td>['effects said pipa director steven kull', 'bbc poll indicates economic gloom citizens', '3 january 2005 across 22 countries', 'international polling firm globescan together', 'bbc world service poll believe', 'global economic performance says', 'years ago people seem', 'almost 23 000 people', 'growing developing economies china', 'results also may reflect', 'worse place even though', 'rome says one reason', '5 january 2005', 'international policy attitudes', 'blistering economic growth']</td>\n",
              "    </tr>\n",
              "    <tr>\n",
              "      <th>3</th>\n",
              "      <td>1976</td>\n",
              "      <td>lifestyle  governs mobile choice  faster  better or funkier hardware alone is not going to help phone firms sell more handsets  research suggests.  instead  phone firms keen to get more out of their customers should not just be pushing the technology for its own sake. consumers are far more interested in how handsets fit in with their lifestyle than they are in screen size  onboard memory or the chip inside  shows an in-depth study by handset maker ericsson.  historically in the industry there has been too much focus on using technology   said dr michael bjorn  senior advisor on mobile media at ericsson s consumer and enterprise lab.  we have to stop saying that these technologies will change their lives   he said.  we should try to speak to consumers in their own language and help them see how it fits in with what they are doing   he told the bbc news website.  for the study  ericsson interviewed 14 000 mobile phone owners on the ways they use their phone.  people s habits remain the same   said dr bjorn.  they just move the activity into the mobile phone as it s a much more convenient way to do it.   one good example of this was diary-writing among younger people  he said. while diaries have always been popular  a mobile phone -- especially one equipped with a camera -- helps them keep it in a different form. youngsters  use of text messages also reflects their desire to chat and keep in contact with friends and again just lets them do it in a slightly changed way. dr bjorn said that although consumers do what they always did but use a phone to do it  the sheer variety of what the new handset technologies make possible does gradually drive new habits and lifestyles. ericsson s research has shown that consumers divide into different  tribes  that use phones in different ways. dr bjorn said groups dubbed  pioneers  and  materialists  were most interested in trying new things and were behind the start of many trends in phone use.  for instance   he said   older people are using sms much more than they did five years ago.  this was because younger users  often the children of ageing mobile owners  encouraged older people to try it so they could keep in touch.  another factor governing the speed of change in mobile phone use was the simple speed with which new devices are bought by pioneers and materialists. only when about 25% of people have handsets with new innovations on them  such as cameras  can consumers stop worrying that if they send a picture message the person at the other end will be able to see it.  once this significant number of users is passed  use of new innovations tends to take off. dr bjorn said that early reports of camera phone usage in japan seemed to imply that the innovation was going to be a flop. however  he said  now 45% of the japanese people ericsson questioned use their camera phone at least once a month. in 2003 the figure was 29%. similarly  across europe the numbers of people taking snaps with cameras is starting to rise. in 2003 only 4% of the people in the uk took a phonecam snap at least once a month. now the figure is 14%. similar rises have been seen in many other european nations. dr bjorn said that people also used their camera phones in very different ways to film and even digital cameras.  usage patterns for digital cameras are almost exactly replacing usage patterns for analogue cameras   he said. digital cameras tend to be used on significant events such as weddings  holidays and birthdays. by contrast  he said  camera phones were being used much more to capture a moment and were being woven into everyday life.</td>\n",
              "      <td>0</td>\n",
              "      <td>{(japan, GPE), (about 25%, PERCENT), (michael bjorn, PERSON), (digital, ORG), (2003, DATE), (uk, GPE), (ericsson s research, ORG), (bjorn, PERSON), (ericsson s consumer, ORG), (five years ago, DATE), (europe, LOC), (european, NORP), (groups, ORG), (dr bjorn, PERSON), (29%, PERCENT), (one, CARDINAL), (14 000, QUANTITY), (only 4%, PERCENT), (45%, PERCENT), (ericsson, PERSON), (14%, PERCENT), (japanese, NORP), (the bbc news website, ORG)}</td>\n",
              "      <td>['using technology said dr michael bjorn senior advisor', 'study ericsson interviewed 14 000 mobile phone owners', 'lifestyle governs mobile choice faster better', 'ageing mobile owners encouraged older people', 'dr bjorn said groups dubbed pioneers', 'mobile phone -- especially one equipped', 'almost exactly replacing usage patterns', 'japanese people ericsson questioned use', 'new handset technologies make possible', 'screen size onboard memory', 'text messages also reflects', 'instead phone firms keen', 'writing among younger people', 'gradually drive new habits', 'help phone firms sell', 'said dr bjorn', 'dr bjorn said', 'said older people', 'handset maker ericsson']</td>\n",
              "    </tr>\n",
              "    <tr>\n",
              "      <th>4</th>\n",
              "      <td>917</td>\n",
              "      <td>enron bosses in $168m payout eighteen former enron directors have agreed a $168m (£89m) settlement deal in a shareholder lawsuit over the collapse of the energy firm.  leading plaintiff  the university of california  announced the news  adding that 10 of the former directors will pay $13m from their own pockets. the settlement will be put to the courts for approval next week. enron went bankrupt in 2001 after it emerged it had hidden hundreds of millions of dollars in debt.  before its collapse  the firm was the seventh biggest public us company by revenue. its demise sent shockwaves through financial markets and dented investor confidence in corporate america.   the settlement is very significant in holding these outside directors at least partially personally responsible   william lerach  the lawyer leading the class action suit against enron  said.  hopefully  this will help send a message to corporate boardrooms of the importance of directors performing their legal duties   he added. under the terms of the $168m settlement - $155m of which will be covered by insurance - none of the 18 former directors will admit any wrongdoing. the deal is the fourth major settlement negotiated by lawyers who filed a class action on behalf of enron s shareholders almost three years ago. so far  including the latest deal  just under $500m (£378.8m) has been retrieved for investors.  however  the latest deal does not include former enron chief executives ken lay and jeff skilling. both men are facing criminal charges for their alleged misconduct in the run up to the firm s collapse. neither does it cover andrew fastow  who has pleaded guilty to taking part in an illegal conspiracy while he was chief financial officer at the group. enron s shareholders are still seeking damages from a long list of other big name defendants including the financial institutions jp morgan chase  citigroup  merrill lynch and credit suisse first boston. the university of california said the trial in the case is scheduled to begin in october 2006. it joined the lawsuit in december 2001alleging  massive insider trading  and fraud  claiming it had lost $145m on its investments in the company.</td>\n",
              "      <td>5</td>\n",
              "      <td>{(18, CARDINAL), (us, GPE), (andrew fastow, PERSON), (america, GPE), (ken lay, PERSON), (october 2006, DATE), (just under $500m, MONEY), ($168m, MONEY), (£378.8m, MONEY), (£89, MONEY), (jp morgan, PERSON), (december, DATE), (seventh, ORDINAL), (william lerach, PERSON), (credit suisse first boston, ORG), (2001, DATE), (10, CARDINAL), (jeff, PERSON), (hundreds of millions of dollars, MONEY), (fourth, ORDINAL), ($145m, MONEY), (enron, ORG), (merrill lynch, ORG), (next week, DATE), ($155m, MONEY), (almost three years ago, DATE), ($13m, MONEY), (the university of california, ORG), (citigroup, ORG)}</td>\n",
              "      <td>['financial institutions jp morgan chase citigroup merrill lynch', 'include former enron chief executives ken lay', 'least partially personally responsible william lerach', '168m payout eighteen former enron directors', 'december 2001alleging massive insider trading', 'shareholders almost three years ago', 'seventh biggest public us company', 'credit suisse first boston', 'big name defendants including', 'fourth major settlement negotiated', 'chief financial officer']</td>\n",
              "    </tr>\n",
              "    <tr>\n",
              "      <th>...</th>\n",
              "      <td>...</td>\n",
              "      <td>...</td>\n",
              "      <td>...</td>\n",
              "      <td>...</td>\n",
              "      <td>...</td>\n",
              "    </tr>\n",
              "    <tr>\n",
              "      <th>1485</th>\n",
              "      <td>857</td>\n",
              "      <td>double eviction from big brother model caprice and holby city actor jeremy edwards have both left the celebrity big brother house in a surprise double eviction on friday.  caprice  who left in the scheduled fourth eviction having gained just 5% of the public vote  afterwards said:  i am so happy  i am so glad i m out.  edwards then left in a surprise eviction  with 12% of the vote. nineteen-year-old blazin  squad singer kenzie is currently favourite to win the £50 000 charity prize. caprice had been the pre-show favourite to be voted out of the house  with bookmakers ladbrokes offering odds of 1/5 on her departure. ladbrokes spokesman warren lush had said she was  the hottest eviction favourite so far this series .  odds on kenzie s victory have been slashed from 4/6 to 1/2  although bookmakers have said they are not ruling out a late rally from former happy mondays star bez. the other remaining housemate is actress brigitte nielsen. dj lisa i anson became the third housemate to be voted out on wednesday when she became the victim of a surprise eviction during a game of hide-and-seek on the channel 4 show. i anson said she was  glad to be out  and predicted that kenzie would emerge as the winner. the winner is due to be announced on sunday night.</td>\n",
              "      <td>2</td>\n",
              "      <td>{(ladbrokes, PERSON), (anson, PERSON), (holby city, GPE), (12%, PERCENT), (4/6, CARDINAL), (jeremy edwards, PERSON), (wednesday, DATE), (sunday night, TIME), (just 5%, PERCENT), (friday, DATE), (£50 000, MONEY), (warren lush, PERSON), (brigitte nielsen, PERSON), (dj lisa, PERSON), (1/2, CARDINAL), (nineteen-year-old, DATE), (series, EVENT), (third, ORDINAL), (1/5, CARDINAL), (fourth, ORDINAL)}</td>\n",
              "      <td>['£ 50 000 charity prize', 'old blazin squad singer kenzie', 'holby city actor jeremy edwards', 'former happy mondays star bez', 'ladbrokes spokesman warren lush', 'celebrity big brother house', 'big brother model caprice', 'bookmakers ladbrokes offering odds', 'public vote afterwards said']</td>\n",
              "    </tr>\n",
              "    <tr>\n",
              "      <th>1486</th>\n",
              "      <td>325</td>\n",
              "      <td>dj double act revamp chart show dj duo jk and joel are taking over bbc radio 1 s flagship chart show on sunday  adding showbiz news  celebrity interviews and between-song banter.  they hope to boost ratings for the long-running show  which has been overtaken in popularity by independent radio s hit 40 uk rundown.  radio 1 s chart show is an institution and remains the station s single most popular show   says jk  also known as jason king.  for years people have been tuning in at four o clock with their tape recorders ready to record their favourite tunes. not that i ever did that.  but things have moved on a lot now so it was time for a change.   that change involved ejecting previous host wes butters and relocating king and dj partner joel ross from their weekend afternoon radio 1 slot. the pair have worked together for a decade - meeting on viking radio in hull before moving to manchester station key 103 and winning two sony radio awards. they also presented gadget series playboyz and car show motor maniacs for cable tv channel granada men and motors  and pure soap on bbc three.  on the revamped chart show their cheeky  laddish banter will punctuate star interviews and competitions  film and dvd charts plus a look at future single releases  in addition to the singles chart itself.  the chart rundown is no longer the only point of the programme   says ross.  the show used to be the only way to discover who was in the top 40. now you can just click on the internet to find that out  so the show has plenty of extra items too.  the show s reduced reliance upon the top 40 also reflects the fact that music fans are now more likely to download songs in digital format rather than buy them on compact disc  vinyl or cassette.   i personally buy downloads rather than cd singles   says 27-year-old ross.  even my grandma can download songs now. jk is still struggling with the technology  though.   but it s premature for people to say that the singles chart is dead   ross adds.  while sales of singles on traditional formats are down  interest in songs has been revived by download sales  which will be incorporated into our main chart rundown from april.  music fans still want to know what is the most popular song of the week.   ross will be plumping for chart success from rapper verbalicious and the stereophonics on sunday  while king is more of an r&amp;b and dance music fan.  so listeners will get the advantage of both our music tastes   says king  30  who describes outgoing host butters as  an extremely professional and competent broadcaster .   the advantage joel and i have is that we re a double act  with a rapport between us that makes the show much more interactive   king says.  wes has a great broadcasting career ahead of him. and if not  i could always use a cleaner   he jokes. ross says the pair have done their best to ignore the weight of expectation placed upon the revamped show.  other people can worry about that  we are going to continue doing what we do well   he says.  at the end of the day this is a radio show that is meant to be entertaining. nobody died.</td>\n",
              "      <td>2</td>\n",
              "      <td>{(40, CARDINAL), (ross, PERSON), (bbc radio, ORG), (uk, GPE), (103, CARDINAL), (the end of the day, DATE), (joel ross, PERSON), (independent radio s, ORG), (a decade, DATE), (1, CARDINAL), (afternoon, TIME), (jk, PERSON), (two, CARDINAL), (years, DATE), (four, CARDINAL), (april, DATE), (laddish, NORP), (jason king, PERSON), (s, PRODUCT), (radio 1, ORG), (bbc three, ORG), (30, CARDINAL), (sony, ORG), (sunday, DATE), (the week, DATE)}</td>\n",
              "      <td>['dj double act revamp chart show dj duo jk', 'change involved ejecting previous host wes butters', 'sunday adding showbiz news celebrity interviews', 'popular show says jk also known', 'cable tv channel granada men', 'also presented gadget series playboyz', 'winning two sony radio awards', 'weekend afternoon radio 1 slot', 'music tastes says king 30', 'describes outgoing host butters', 'dj partner joel ross', 'great broadcasting career ahead', 'top 40 also reflects', 'car show motor maniacs', 'manchester station key 103', 'hit 40 uk rundown', 'personally buy downloads rather', 'cd singles says 27', 'music fans still want']</td>\n",
              "    </tr>\n",
              "    <tr>\n",
              "      <th>1487</th>\n",
              "      <td>1590</td>\n",
              "      <td>weak dollar hits reuters revenues at media group reuters slipped 11% during 2004  mainly due to the weakness of the dollar  the group said.  the company said it was optimistic about growth even as revenues slipped 11% from £3.24bn ($6.13bn) in 2003 to £2.89bn in 2004. reuters beat profit forecasts  posting a 52% rise in profits for the year to £198m from the £130m seen a year earlier. reuters also beat its savings target for 2004  delivering £234m of cuts. under its three-year fast forward turnaround plan it had aimed to save £220m during the 12 months to 31 december.  reuters also managed to slow a decline in underlying revenues to 5.4% from 10.2% in 2003 and cut its debt back to £160m from £610m a year earlier. the news and financial data seller said the year had begun well  adding it expected  further gradual improvement  in the second quarter of the year after good january sales. it added it was planning to deliver a further £105m of savings over the coming year - but said it expects to be hit with an £80m restructuring charge to pay for the cost of moving from fleet street to new headquarters in london at canary wharf.  improving customer relationships  more competitive products and continued strong cost discipline position us well for 2005   chief executive tom glocer said  adding the company was beginning  to look beyond recovery to growth .</td>\n",
              "      <td>1</td>\n",
              "      <td>{(fleet street, FAC), (2004, DATE), (january, DATE), (2003, DATE), (5.4%, PERCENT), (£234m, MONEY), (the year, DATE), (3.24bn, MONEY), (220, MONEY), (52%, PERCENT), (tom glocer, PERSON), (2.89bn, MONEY), (london, GPE), (the second quarter of the year, DATE), (the coming year, DATE), (£198m, MONEY), (6.13bn, MONEY), (10.2%, PERCENT), (11%, PERCENT), (three-year, DATE), (reuters, ORG), (the 12 months to 31 december, DATE), (canary wharf, FAC), (2005, DATE), (a year earlier, DATE), (media group reuters, ORG), (£130m, MONEY)}</td>\n",
              "      <td>['continued strong cost discipline position us well', '2005 chief executive tom glocer said adding', 'reuters beat profit forecasts posting', 'year fast forward turnaround plan', 'media group reuters slipped 11', 'weak dollar hits reuters revenues', 'financial data seller said', '£ 80m restructuring charge', '2004 delivering £ 234m', 'begun well adding']</td>\n",
              "    </tr>\n",
              "    <tr>\n",
              "      <th>1488</th>\n",
              "      <td>1587</td>\n",
              "      <td>apple ipod family expands market apple has expanded its ipod family with the release of its next generation of the digital music players.  its latest challenges to the growing digital music gadget market include an ipod mini model which can hold 6gb compared to a previous 4gb. the company  which hopes to keep its dominant place in the digital music market  also said the gold coloured version of the mini would be dropped. a 30gb version has also been added to the ipod photo family. the latest models have a longer battery life and their prices have been cut by an average of £40. the original ipod took an early lead in the digital music player market thanks to its large storage capacity and simple design.  during 2004 about 25 million portable players were sold  10 million of which were apple ipods. but analysts agree that the success is also down to its integration with the itunes online store  which has given the company a 70% share of the legal download music market. mike mcguire  a research director at analyst gartner  told the bbc news website that apple had done a good job in  sealing off the market from competition  so far.  they have created a very seamless package which i think is the idea of the product - the design  function and the software are very impressive   he said. he added that the threat from others was always present  however.  creative  other microsoft-partnered devices  real  sony and so on  are ratcheting up the marketing message and advertising   he said. creative was very upbeat about how many of its creative zen players it had shipped by the end of last year  he said. its second-generation models  like the creative zen micro photo  is due out in the summer. it will have 5gb of memory on board.  digital music players are now the gadget of choice among young americans  according to recent research by the pew internet and american life project. one in 10 us adults - 22 million people - now owns a digital music player of some sort. sales of legally downloaded songs also rose more than tenfold in 2004  according to the record industry  with 200 million tracks bought online in the us and europe in 12 months. the ifpi industry body said that the popularity of portable music players was behind the growth. analysts say that the ease of use and growth of music services available on the net will continue to drive the trend towards portable music players.  people are also starting to use them in novel ways. some are combining automatic syncing functions many of them have with other net functions to automatically distribute diy radio shows  called podcasts. but 2005 will also see more competition from mobile phone operators who are keen to offer streaming services on much more powerful and sophisticated handsets. according to mr mcguire  research suggests that people like the idea of building up huge libraries of music  which they can do with high-capacity storage devices  like ipods and creative zens. mobiles do not yet have this capacity though  and there are issues about the ease of portability of mobile music. mr mcguire said apple was ensuring it kept a foot in the mobile music door with its recent deal with motorola to produce a version of itunes for motorola phones.</td>\n",
              "      <td>0</td>\n",
              "      <td>{(2004, DATE), (5gb, QUANTITY), (americans, NORP), (us, GPE), (6gb, QUANTITY), (70%, PERCENT), (the summer, DATE), (apple ipod, PERSON), (mike mcguire, PERSON), (mcguire, PERSON), (microsoft, ORG), (europe, LOC), (4gb, QUANTITY), (22 million, CARDINAL), (second, ORDINAL), (apple, ORG), (the end of last year, DATE), (10, CARDINAL), (10 million, CARDINAL), (one, CARDINAL), (30, CARDINAL), (sony, ORG), (12 months, DATE), (2005, DATE), (motorola, ORG), (40, MONEY), (200 million, CARDINAL), (about 25 million, CARDINAL), (the bbc news website, ORG), (american, NORP)}</td>\n",
              "      <td>['automatically distribute diy radio shows called podcasts', 'growing digital music gadget market include', 'apple ipod family expands market apple', 'legally downloaded songs also rose', '200 million tracks bought online', 'choice among young americans according', 'combining automatic syncing functions many', 'digital music player market thanks', 'trend towards portable music players', 'digital music market also said', 'capacity storage devices like ipods', 'partnered devices real sony', 'legal download music market', '25 million portable players', 'mr mcguire said apple', 'ifpi industry body said', 'mr mcguire research suggests', 'creative zen micro photo', 'digital music player', 'digital music players', 'portable music players']</td>\n",
              "    </tr>\n",
              "    <tr>\n",
              "      <th>1489</th>\n",
              "      <td>538</td>\n",
              "      <td>santy worm makes unwelcome visit thousands of website bulletin boards have been defaced by a virus that used google to spread across the net.  the santy worm first appeared on 20 december and within 24 hours had successfully hit more than 40 000 websites. the malicious program exploits a vulnerability in the widely used phpbb software. santy s spread has now been stopped after google began blocking infected sites searching for new victims.  the worm replaces chat forums with a webpage announcing that the site had been defaced by the malicious program. soon after being infected  sites hit by the worm started randomly searching for other websites running the vulnerable phpbb software. once google started blocking these search queries the rate of infection tailed off sharply. a message sent to finnish security firm f-secure by google s security team said:  while a seven hour response for something like this is not outrageous  we think we can and should do better.   we will be reviewing our procedures to improve our response time in the future to similar problems   the google team said. security firms estimate that about 1m websites run their discussion groups and forums with the open source phpbb program. the worst of the attack now seems to be over as a search conducted on the morning of the 22 december produced only 1 440 hits for sites showing the text used in the defacement message. people using the sites hit by santy will not be affected by the worm. santy is not the first malicious program to use google to help it spread. in july a variant of the mydoom virus slowed down searches on google as the program flooded the search site with queries looking for new e-mail addresses to send itself to.</td>\n",
              "      <td>0</td>\n",
              "      <td>{(seven hour, TIME), (santy worm, ORG), (24 hours, TIME), (finnish, NORP), (first, ORDINAL), (more than 40 000, CARDINAL), (22 december, DATE), (about 1, CARDINAL), (20 december, DATE), (july, DATE), (only 1 440, CARDINAL), (google, ORG), (the morning, TIME), (google s security team, ORG), (thousands, CARDINAL)}</td>\n",
              "      <td>['santy worm makes unwelcome visit thousands', 'google began blocking infected sites searching', 'worm started randomly searching', 'finnish security firm f', 'santy worm first appeared', 'open source phpbb program', 'worm replaces chat forums', 'widely used phpbb software']</td>\n",
              "    </tr>\n",
              "  </tbody>\n",
              "</table>\n",
              "<p>1490 rows × 5 columns</p>\n",
              "</div>"
            ],
            "text/plain": [
              "      ArticleId  ...                                                                                                                                                                                                                                                                                                                                                                                                                                                                                                                                                                                                                                                                                                                                                                Key_Info\n",
              "0     1833       ...  ['boss launches defence lawyers defending former worldcom chief bernie ebbers', 'star witness former worldcom financial chief scott sullivan', 'shareholder meetings mr ebbers often passed', 'however ms cooper said mr sullivan', 'meet wall street earnings estimates', 'mr ebbers ordered accounting adjustments', 'mr ebbers could face', 'ms cooper also said', '2001 audit committee meeting', 'internal accounting alerted directors', 'last week mci agreed']                                                                                                                                                                                                                                                                                                \n",
              "1     154        ...  ['euro hit record levels making german products less competitive overseas', 'german business confidence slides german business confidence fell', 'knock said dz bank economist bernd weidensteiner', 'confident business sector would signal', 'labour minister wolfgang clement called', 'manufacturing firms including daimlerchrysler siemens', 'based research institute ifo said', 'continuing problems may delay', 'interest rates may rise', 'confidence index fell']                                                                                                                                                                                                                                                                                          \n",
              "2     1101       ...  ['effects said pipa director steven kull', 'bbc poll indicates economic gloom citizens', '3 january 2005 across 22 countries', 'international polling firm globescan together', 'bbc world service poll believe', 'global economic performance says', 'years ago people seem', 'almost 23 000 people', 'growing developing economies china', 'results also may reflect', 'worse place even though', 'rome says one reason', '5 january 2005', 'international policy attitudes', 'blistering economic growth']                                                                                                                                                                                                                                                         \n",
              "3     1976       ...  ['using technology said dr michael bjorn senior advisor', 'study ericsson interviewed 14 000 mobile phone owners', 'lifestyle governs mobile choice faster better', 'ageing mobile owners encouraged older people', 'dr bjorn said groups dubbed pioneers', 'mobile phone -- especially one equipped', 'almost exactly replacing usage patterns', 'japanese people ericsson questioned use', 'new handset technologies make possible', 'screen size onboard memory', 'text messages also reflects', 'instead phone firms keen', 'writing among younger people', 'gradually drive new habits', 'help phone firms sell', 'said dr bjorn', 'dr bjorn said', 'said older people', 'handset maker ericsson']                                                               \n",
              "4     917        ...  ['financial institutions jp morgan chase citigroup merrill lynch', 'include former enron chief executives ken lay', 'least partially personally responsible william lerach', '168m payout eighteen former enron directors', 'december 2001alleging massive insider trading', 'shareholders almost three years ago', 'seventh biggest public us company', 'credit suisse first boston', 'big name defendants including', 'fourth major settlement negotiated', 'chief financial officer']                                                                                                                                                                                                                                                                              \n",
              "...   ...        ...                                                                                                                                                                                                                                                                                                                                                                                                                                                                                       ...                                                                                                                                                                                                                                                                              \n",
              "1485  857        ...  ['£ 50 000 charity prize', 'old blazin squad singer kenzie', 'holby city actor jeremy edwards', 'former happy mondays star bez', 'ladbrokes spokesman warren lush', 'celebrity big brother house', 'big brother model caprice', 'bookmakers ladbrokes offering odds', 'public vote afterwards said']                                                                                                                                                                                                                                                                                                                                                                                                                                                                  \n",
              "1486  325        ...  ['dj double act revamp chart show dj duo jk', 'change involved ejecting previous host wes butters', 'sunday adding showbiz news celebrity interviews', 'popular show says jk also known', 'cable tv channel granada men', 'also presented gadget series playboyz', 'winning two sony radio awards', 'weekend afternoon radio 1 slot', 'music tastes says king 30', 'describes outgoing host butters', 'dj partner joel ross', 'great broadcasting career ahead', 'top 40 also reflects', 'car show motor maniacs', 'manchester station key 103', 'hit 40 uk rundown', 'personally buy downloads rather', 'cd singles says 27', 'music fans still want']                                                                                                               \n",
              "1487  1590       ...  ['continued strong cost discipline position us well', '2005 chief executive tom glocer said adding', 'reuters beat profit forecasts posting', 'year fast forward turnaround plan', 'media group reuters slipped 11', 'weak dollar hits reuters revenues', 'financial data seller said', '£ 80m restructuring charge', '2004 delivering £ 234m', 'begun well adding']                                                                                                                                                                                                                                                                                                                                                                                                  \n",
              "1488  1587       ...  ['automatically distribute diy radio shows called podcasts', 'growing digital music gadget market include', 'apple ipod family expands market apple', 'legally downloaded songs also rose', '200 million tracks bought online', 'choice among young americans according', 'combining automatic syncing functions many', 'digital music player market thanks', 'trend towards portable music players', 'digital music market also said', 'capacity storage devices like ipods', 'partnered devices real sony', 'legal download music market', '25 million portable players', 'mr mcguire said apple', 'ifpi industry body said', 'mr mcguire research suggests', 'creative zen micro photo', 'digital music player', 'digital music players', 'portable music players']\n",
              "1489  538        ...  ['santy worm makes unwelcome visit thousands', 'google began blocking infected sites searching', 'worm started randomly searching', 'finnish security firm f', 'santy worm first appeared', 'open source phpbb program', 'worm replaces chat forums', 'widely used phpbb software']                                                                                                                                                                                                                                                                                                                                                                                                                                                                                   \n",
              "\n",
              "[1490 rows x 5 columns]"
            ]
          },
          "metadata": {
            "tags": []
          },
          "execution_count": 69
        }
      ]
    },
    {
      "cell_type": "code",
      "metadata": {
        "id": "mwzVc1SpDakv",
        "colab_type": "code",
        "colab": {}
      },
      "source": [
        "# TO find  key info from each cluster"
      ],
      "execution_count": 70,
      "outputs": []
    },
    {
      "cell_type": "code",
      "metadata": {
        "id": "rxeeHz93DgBo",
        "colab_type": "code",
        "colab": {}
      },
      "source": [
        "clus=[]\n",
        "for i in range(0,6):\n",
        "  a = df[df['Cluster_Labels']==i]\n",
        "  clus.append(a['Text'].values)\n",
        "  \n",
        "    \n",
        "\n",
        "\n"
      ],
      "execution_count": 102,
      "outputs": []
    },
    {
      "cell_type": "code",
      "metadata": {
        "id": "plXchWdxFI9u",
        "colab_type": "code",
        "colab": {
          "base_uri": "https://localhost:8080/",
          "height": 34
        },
        "outputId": "d923b747-d022-4d92-e982-66287cc78600"
      },
      "source": [
        "len(clus)"
      ],
      "execution_count": 103,
      "outputs": [
        {
          "output_type": "execute_result",
          "data": {
            "text/plain": [
              "6"
            ]
          },
          "metadata": {
            "tags": []
          },
          "execution_count": 103
        }
      ]
    },
    {
      "cell_type": "code",
      "metadata": {
        "id": "OG39FiCaEzop",
        "colab_type": "code",
        "colab": {}
      },
      "source": [
        "key1=[]\n",
        "for i in clus:\n",
        "    #Example\n",
        "    d = str(i)\n",
        "    a=r.extract_keywords_from_text(d)\n",
        "    b=r.get_ranked_phrases()\n",
        "    c=r.get_ranked_phrases_with_scores()\n",
        "    key1.append(c)"
      ],
      "execution_count": 104,
      "outputs": []
    },
    {
      "cell_type": "code",
      "metadata": {
        "id": "e1aF7kAMGGwd",
        "colab_type": "code",
        "colab": {}
      },
      "source": [
        "score=[]\n",
        "avg=[]\n",
        "for i in key1:\n",
        "    score=[]\n",
        "    for j in i:\n",
        "        #print(j[0])\n",
        "        score.append(j[0])\n",
        "    avg.append(np.mean(score)*1.5)"
      ],
      "execution_count": 105,
      "outputs": []
    },
    {
      "cell_type": "code",
      "metadata": {
        "id": "mjedKVrIGXO_",
        "colab_type": "code",
        "colab": {}
      },
      "source": [
        "main1=[]\n",
        "for i,j in zip(key,avg):\n",
        "    filt=[]\n",
        "    \n",
        "   \n",
        "    \n",
        "    \n",
        "    for q in range(0,len(i)):\n",
        "        if(i[q][0]>j):\n",
        "                \n",
        "            filt.append((i[q][1]))\n",
        "    main1.append(str(filt))"
      ],
      "execution_count": 106,
      "outputs": []
    },
    {
      "cell_type": "code",
      "metadata": {
        "id": "SmS3cKsAGb0i",
        "colab_type": "code",
        "colab": {
          "base_uri": "https://localhost:8080/",
          "height": 139
        },
        "outputId": "9e4ec07e-1b64-4646-80cc-1e3a14166ead"
      },
      "source": [
        "main1"
      ],
      "execution_count": 108,
      "outputs": [
        {
          "output_type": "execute_result",
          "data": {
            "text/plain": [
              "[\"['boss launches defence lawyers defending former worldcom chief bernie ebbers', 'star witness former worldcom financial chief scott sullivan', 'shareholder meetings mr ebbers often passed', 'however ms cooper said mr sullivan', 'meet wall street earnings estimates', 'mr ebbers ordered accounting adjustments', 'mr ebbers could face', 'ms cooper also said', '2001 audit committee meeting', 'internal accounting alerted directors', 'last week mci agreed', 'external auditors arthur andersen', 'finance chief giving', 'mr ebbers orchestrated']\",\n",
              " \"['euro hit record levels making german products less competitive overseas', 'german business confidence slides german business confidence fell', 'knock said dz bank economist bernd weidensteiner', 'confident business sector would signal', 'labour minister wolfgang clement called', 'manufacturing firms including daimlerchrysler siemens', 'based research institute ifo said', 'continuing problems may delay', 'interest rates may rise', 'confidence index fell', 'german domestic demand', 'ifo confidence figure']\",\n",
              " \"['effects said pipa director steven kull', 'bbc poll indicates economic gloom citizens', '3 january 2005 across 22 countries', 'international polling firm globescan together', 'bbc world service poll believe', 'global economic performance says', 'years ago people seem', 'almost 23 000 people', 'growing developing economies china', 'results also may reflect', 'worse place even though', 'rome says one reason']\",\n",
              " \"['using technology said dr michael bjorn senior advisor', 'study ericsson interviewed 14 000 mobile phone owners', 'lifestyle governs mobile choice faster better', 'ageing mobile owners encouraged older people', 'dr bjorn said groups dubbed pioneers', 'mobile phone -- especially one equipped', 'almost exactly replacing usage patterns', 'japanese people ericsson questioned use', 'new handset technologies make possible', 'screen size onboard memory', 'text messages also reflects', 'instead phone firms keen', 'writing among younger people', 'gradually drive new habits', 'help phone firms sell', 'said dr bjorn', 'dr bjorn said', 'said older people']\",\n",
              " \"['financial institutions jp morgan chase citigroup merrill lynch', 'include former enron chief executives ken lay', 'least partially personally responsible william lerach', '168m payout eighteen former enron directors', 'december 2001alleging massive insider trading', 'shareholders almost three years ago', 'seventh biggest public us company', 'credit suisse first boston', 'big name defendants including', 'fourth major settlement negotiated', 'chief financial officer']\",\n",
              " \"['previously admitted missing lessons instead spending', 'mr howard eventually left llanelli grammar school', 'play snooker conservative leader michael howard', 'terry griffiths like mr howard', 'snooker world championship six times', 'mr howard also called', 'fellow welshman ray reardon']\"]"
            ]
          },
          "metadata": {
            "tags": []
          },
          "execution_count": 108
        }
      ]
    },
    {
      "cell_type": "code",
      "metadata": {
        "id": "7-ACFSQBGtps",
        "colab_type": "code",
        "colab": {}
      },
      "source": [
        "# Main info and named entity from 6 clusters"
      ],
      "execution_count": 113,
      "outputs": []
    },
    {
      "cell_type": "code",
      "metadata": {
        "id": "0K8F2tiRGxkF",
        "colab_type": "code",
        "colab": {}
      },
      "source": [
        "info = pd.DataFrame({'Category':['Cluster1','Cluster2','Cluster3','Cluster4','Cluster5','Cluster6'],'Cluster_Info':main1})"
      ],
      "execution_count": 110,
      "outputs": []
    },
    {
      "cell_type": "code",
      "metadata": {
        "id": "mysomoptHsrs",
        "colab_type": "code",
        "colab": {
          "base_uri": "https://localhost:8080/",
          "height": 439
        },
        "outputId": "98e4169e-1efe-47cc-9480-2c836792a554"
      },
      "source": [
        "info"
      ],
      "execution_count": 111,
      "outputs": [
        {
          "output_type": "execute_result",
          "data": {
            "text/html": [
              "<div>\n",
              "<style scoped>\n",
              "    .dataframe tbody tr th:only-of-type {\n",
              "        vertical-align: middle;\n",
              "    }\n",
              "\n",
              "    .dataframe tbody tr th {\n",
              "        vertical-align: top;\n",
              "    }\n",
              "\n",
              "    .dataframe thead th {\n",
              "        text-align: right;\n",
              "    }\n",
              "</style>\n",
              "<table border=\"1\" class=\"dataframe\">\n",
              "  <thead>\n",
              "    <tr style=\"text-align: right;\">\n",
              "      <th></th>\n",
              "      <th>Category</th>\n",
              "      <th>Cluster_Info</th>\n",
              "    </tr>\n",
              "  </thead>\n",
              "  <tbody>\n",
              "    <tr>\n",
              "      <th>0</th>\n",
              "      <td>Cluster1</td>\n",
              "      <td>['boss launches defence lawyers defending former worldcom chief bernie ebbers', 'star witness former worldcom financial chief scott sullivan', 'shareholder meetings mr ebbers often passed', 'however ms cooper said mr sullivan', 'meet wall street earnings estimates', 'mr ebbers ordered accounting adjustments', 'mr ebbers could face', 'ms cooper also said', '2001 audit committee meeting', 'internal accounting alerted directors', 'last week mci agreed', 'external auditors arthur andersen', 'finance chief giving', 'mr ebbers orchestrated']</td>\n",
              "    </tr>\n",
              "    <tr>\n",
              "      <th>1</th>\n",
              "      <td>Cluster2</td>\n",
              "      <td>['euro hit record levels making german products less competitive overseas', 'german business confidence slides german business confidence fell', 'knock said dz bank economist bernd weidensteiner', 'confident business sector would signal', 'labour minister wolfgang clement called', 'manufacturing firms including daimlerchrysler siemens', 'based research institute ifo said', 'continuing problems may delay', 'interest rates may rise', 'confidence index fell', 'german domestic demand', 'ifo confidence figure']</td>\n",
              "    </tr>\n",
              "    <tr>\n",
              "      <th>2</th>\n",
              "      <td>Cluster3</td>\n",
              "      <td>['effects said pipa director steven kull', 'bbc poll indicates economic gloom citizens', '3 january 2005 across 22 countries', 'international polling firm globescan together', 'bbc world service poll believe', 'global economic performance says', 'years ago people seem', 'almost 23 000 people', 'growing developing economies china', 'results also may reflect', 'worse place even though', 'rome says one reason']</td>\n",
              "    </tr>\n",
              "    <tr>\n",
              "      <th>3</th>\n",
              "      <td>Cluster4</td>\n",
              "      <td>['using technology said dr michael bjorn senior advisor', 'study ericsson interviewed 14 000 mobile phone owners', 'lifestyle governs mobile choice faster better', 'ageing mobile owners encouraged older people', 'dr bjorn said groups dubbed pioneers', 'mobile phone -- especially one equipped', 'almost exactly replacing usage patterns', 'japanese people ericsson questioned use', 'new handset technologies make possible', 'screen size onboard memory', 'text messages also reflects', 'instead phone firms keen', 'writing among younger people', 'gradually drive new habits', 'help phone firms sell', 'said dr bjorn', 'dr bjorn said', 'said older people']</td>\n",
              "    </tr>\n",
              "    <tr>\n",
              "      <th>4</th>\n",
              "      <td>Cluster5</td>\n",
              "      <td>['financial institutions jp morgan chase citigroup merrill lynch', 'include former enron chief executives ken lay', 'least partially personally responsible william lerach', '168m payout eighteen former enron directors', 'december 2001alleging massive insider trading', 'shareholders almost three years ago', 'seventh biggest public us company', 'credit suisse first boston', 'big name defendants including', 'fourth major settlement negotiated', 'chief financial officer']</td>\n",
              "    </tr>\n",
              "    <tr>\n",
              "      <th>5</th>\n",
              "      <td>Cluster6</td>\n",
              "      <td>['previously admitted missing lessons instead spending', 'mr howard eventually left llanelli grammar school', 'play snooker conservative leader michael howard', 'terry griffiths like mr howard', 'snooker world championship six times', 'mr howard also called', 'fellow welshman ray reardon']</td>\n",
              "    </tr>\n",
              "  </tbody>\n",
              "</table>\n",
              "</div>"
            ],
            "text/plain": [
              "   Category                                                                                                                                                                                                                                                                                                                                                                                                                                                                                                                                                                                                                                                                   Cluster_Info\n",
              "0  Cluster1  ['boss launches defence lawyers defending former worldcom chief bernie ebbers', 'star witness former worldcom financial chief scott sullivan', 'shareholder meetings mr ebbers often passed', 'however ms cooper said mr sullivan', 'meet wall street earnings estimates', 'mr ebbers ordered accounting adjustments', 'mr ebbers could face', 'ms cooper also said', '2001 audit committee meeting', 'internal accounting alerted directors', 'last week mci agreed', 'external auditors arthur andersen', 'finance chief giving', 'mr ebbers orchestrated']                                                                                                                \n",
              "1  Cluster2  ['euro hit record levels making german products less competitive overseas', 'german business confidence slides german business confidence fell', 'knock said dz bank economist bernd weidensteiner', 'confident business sector would signal', 'labour minister wolfgang clement called', 'manufacturing firms including daimlerchrysler siemens', 'based research institute ifo said', 'continuing problems may delay', 'interest rates may rise', 'confidence index fell', 'german domestic demand', 'ifo confidence figure']                                                                                                                                              \n",
              "2  Cluster3  ['effects said pipa director steven kull', 'bbc poll indicates economic gloom citizens', '3 january 2005 across 22 countries', 'international polling firm globescan together', 'bbc world service poll believe', 'global economic performance says', 'years ago people seem', 'almost 23 000 people', 'growing developing economies china', 'results also may reflect', 'worse place even though', 'rome says one reason']                                                                                                                                                                                                                                                  \n",
              "3  Cluster4  ['using technology said dr michael bjorn senior advisor', 'study ericsson interviewed 14 000 mobile phone owners', 'lifestyle governs mobile choice faster better', 'ageing mobile owners encouraged older people', 'dr bjorn said groups dubbed pioneers', 'mobile phone -- especially one equipped', 'almost exactly replacing usage patterns', 'japanese people ericsson questioned use', 'new handset technologies make possible', 'screen size onboard memory', 'text messages also reflects', 'instead phone firms keen', 'writing among younger people', 'gradually drive new habits', 'help phone firms sell', 'said dr bjorn', 'dr bjorn said', 'said older people']\n",
              "4  Cluster5  ['financial institutions jp morgan chase citigroup merrill lynch', 'include former enron chief executives ken lay', 'least partially personally responsible william lerach', '168m payout eighteen former enron directors', 'december 2001alleging massive insider trading', 'shareholders almost three years ago', 'seventh biggest public us company', 'credit suisse first boston', 'big name defendants including', 'fourth major settlement negotiated', 'chief financial officer']                                                                                                                                                                                     \n",
              "5  Cluster6  ['previously admitted missing lessons instead spending', 'mr howard eventually left llanelli grammar school', 'play snooker conservative leader michael howard', 'terry griffiths like mr howard', 'snooker world championship six times', 'mr howard also called', 'fellow welshman ray reardon']                                                                                                                                                                                                                                                                                                                                                                           "
            ]
          },
          "metadata": {
            "tags": []
          },
          "execution_count": 111
        }
      ]
    },
    {
      "cell_type": "code",
      "metadata": {
        "id": "vxauTXUSHxwn",
        "colab_type": "code",
        "colab": {}
      },
      "source": [
        "entity1=[]\n",
        "for i in info['Cluster_Info']:\n",
        "  doc = nlp(i)\n",
        "  a=([(X.text, X.label_) for X in doc.ents])\n",
        "  entity1.append(a)"
      ],
      "execution_count": 112,
      "outputs": []
    },
    {
      "cell_type": "code",
      "metadata": {
        "id": "n8HSUWwpH951",
        "colab_type": "code",
        "colab": {}
      },
      "source": [
        "ent1=[]\n",
        "for i in entity1:\n",
        "  res = set(i)\n",
        "  ent1.append(res)"
      ],
      "execution_count": 120,
      "outputs": []
    },
    {
      "cell_type": "code",
      "metadata": {
        "id": "AEFoBqFTIHEi",
        "colab_type": "code",
        "colab": {}
      },
      "source": [
        "info['Entity_Mapping'] = ent1"
      ],
      "execution_count": 121,
      "outputs": []
    },
    {
      "cell_type": "code",
      "metadata": {
        "id": "O3QgI87dIWa3",
        "colab_type": "code",
        "colab": {
          "base_uri": "https://localhost:8080/",
          "height": 592
        },
        "outputId": "bdb76cac-6d94-4058-8056-f68818fd99f4"
      },
      "source": [
        "info"
      ],
      "execution_count": 122,
      "outputs": [
        {
          "output_type": "execute_result",
          "data": {
            "text/html": [
              "<div>\n",
              "<style scoped>\n",
              "    .dataframe tbody tr th:only-of-type {\n",
              "        vertical-align: middle;\n",
              "    }\n",
              "\n",
              "    .dataframe tbody tr th {\n",
              "        vertical-align: top;\n",
              "    }\n",
              "\n",
              "    .dataframe thead th {\n",
              "        text-align: right;\n",
              "    }\n",
              "</style>\n",
              "<table border=\"1\" class=\"dataframe\">\n",
              "  <thead>\n",
              "    <tr style=\"text-align: right;\">\n",
              "      <th></th>\n",
              "      <th>Category</th>\n",
              "      <th>Cluster_Info</th>\n",
              "      <th>Entity_Mapping</th>\n",
              "    </tr>\n",
              "  </thead>\n",
              "  <tbody>\n",
              "    <tr>\n",
              "      <th>0</th>\n",
              "      <td>Cluster1</td>\n",
              "      <td>['boss launches defence lawyers defending former worldcom chief bernie ebbers', 'star witness former worldcom financial chief scott sullivan', 'shareholder meetings mr ebbers often passed', 'however ms cooper said mr sullivan', 'meet wall street earnings estimates', 'mr ebbers ordered accounting adjustments', 'mr ebbers could face', 'ms cooper also said', '2001 audit committee meeting', 'internal accounting alerted directors', 'last week mci agreed', 'external auditors arthur andersen', 'finance chief giving', 'mr ebbers orchestrated']</td>\n",
              "      <td>{(last week, DATE), (2001, DATE), (cooper, PERSON), (sullivan, PERSON), (ms cooper, PERSON), (mci, ORG), (scott sullivan', PERSON), (worldcom, ORG), (arthur andersen', PERSON), (bernie ebbers', PERSON)}</td>\n",
              "    </tr>\n",
              "    <tr>\n",
              "      <th>1</th>\n",
              "      <td>Cluster2</td>\n",
              "      <td>['euro hit record levels making german products less competitive overseas', 'german business confidence slides german business confidence fell', 'knock said dz bank economist bernd weidensteiner', 'confident business sector would signal', 'labour minister wolfgang clement called', 'manufacturing firms including daimlerchrysler siemens', 'based research institute ifo said', 'continuing problems may delay', 'interest rates may rise', 'confidence index fell', 'german domestic demand', 'ifo confidence figure']</td>\n",
              "      <td>{(research institute ifo, ORG), (german, NORP), (bernd weidensteiner, PERSON), (dz bank, ORG), (daimlerchrysler siemens', ORG), (wolfgang clement, PERSON)}</td>\n",
              "    </tr>\n",
              "    <tr>\n",
              "      <th>2</th>\n",
              "      <td>Cluster3</td>\n",
              "      <td>['effects said pipa director steven kull', 'bbc poll indicates economic gloom citizens', '3 january 2005 across 22 countries', 'international polling firm globescan together', 'bbc world service poll believe', 'global economic performance says', 'years ago people seem', 'almost 23 000 people', 'growing developing economies china', 'results also may reflect', 'worse place even though', 'rome says one reason']</td>\n",
              "      <td>{(steven kull, PERSON), (3 january 2005, DATE), (rome, GPE), (22, CARDINAL), (almost 23, CARDINAL), (one, CARDINAL), (china, GPE), (bbc world service, ORG), (bbc, ORG)}</td>\n",
              "    </tr>\n",
              "    <tr>\n",
              "      <th>3</th>\n",
              "      <td>Cluster4</td>\n",
              "      <td>['using technology said dr michael bjorn senior advisor', 'study ericsson interviewed 14 000 mobile phone owners', 'lifestyle governs mobile choice faster better', 'ageing mobile owners encouraged older people', 'dr bjorn said groups dubbed pioneers', 'mobile phone -- especially one equipped', 'almost exactly replacing usage patterns', 'japanese people ericsson questioned use', 'new handset technologies make possible', 'screen size onboard memory', 'text messages also reflects', 'instead phone firms keen', 'writing among younger people', 'gradually drive new habits', 'help phone firms sell', 'said dr bjorn', 'dr bjorn said', 'said older people']</td>\n",
              "      <td>{(ericsson, PERSON), (michael bjorn, PERSON), (14 000, CARDINAL), (japanese, NORP), (bjorn, PERSON)}</td>\n",
              "    </tr>\n",
              "    <tr>\n",
              "      <th>4</th>\n",
              "      <td>Cluster5</td>\n",
              "      <td>['financial institutions jp morgan chase citigroup merrill lynch', 'include former enron chief executives ken lay', 'least partially personally responsible william lerach', '168m payout eighteen former enron directors', 'december 2001alleging massive insider trading', 'shareholders almost three years ago', 'seventh biggest public us company', 'credit suisse first boston', 'big name defendants including', 'fourth major settlement negotiated', 'chief financial officer']</td>\n",
              "      <td>{(enron, ORG), (seventh, ORDINAL), (ken lay', PERSON), (first boston', ORG), (william lerach', PERSON), (december, DATE), (almost three years ago', DATE), (jp morgan, PERSON), (merrill lynch', ORG), (fourth, ORDINAL)}</td>\n",
              "    </tr>\n",
              "    <tr>\n",
              "      <th>5</th>\n",
              "      <td>Cluster6</td>\n",
              "      <td>['previously admitted missing lessons instead spending', 'mr howard eventually left llanelli grammar school', 'play snooker conservative leader michael howard', 'terry griffiths like mr howard', 'snooker world championship six times', 'mr howard also called', 'fellow welshman ray reardon']</td>\n",
              "      <td>{(howard, PERSON), (llanelli grammar school', ORG), (terry griffiths, PERSON), (michael howard', PERSON), (ray reardon, PERSON), (six, CARDINAL)}</td>\n",
              "    </tr>\n",
              "  </tbody>\n",
              "</table>\n",
              "</div>"
            ],
            "text/plain": [
              "   Category  ...                                                                                                                                                                                                             Entity_Mapping\n",
              "0  Cluster1  ...  {(last week, DATE), (2001, DATE), (cooper, PERSON), (sullivan, PERSON), (ms cooper, PERSON), (mci, ORG), (scott sullivan', PERSON), (worldcom, ORG), (arthur andersen', PERSON), (bernie ebbers', PERSON)}               \n",
              "1  Cluster2  ...  {(research institute ifo, ORG), (german, NORP), (bernd weidensteiner, PERSON), (dz bank, ORG), (daimlerchrysler siemens', ORG), (wolfgang clement, PERSON)}                                                              \n",
              "2  Cluster3  ...  {(steven kull, PERSON), (3 january 2005, DATE), (rome, GPE), (22, CARDINAL), (almost 23, CARDINAL), (one, CARDINAL), (china, GPE), (bbc world service, ORG), (bbc, ORG)}                                                 \n",
              "3  Cluster4  ...  {(ericsson, PERSON), (michael bjorn, PERSON), (14 000, CARDINAL), (japanese, NORP), (bjorn, PERSON)}                                                                                                                     \n",
              "4  Cluster5  ...  {(enron, ORG), (seventh, ORDINAL), (ken lay', PERSON), (first boston', ORG), (william lerach', PERSON), (december, DATE), (almost three years ago', DATE), (jp morgan, PERSON), (merrill lynch', ORG), (fourth, ORDINAL)}\n",
              "5  Cluster6  ...  {(howard, PERSON), (llanelli grammar school', ORG), (terry griffiths, PERSON), (michael howard', PERSON), (ray reardon, PERSON), (six, CARDINAL)}                                                                        \n",
              "\n",
              "[6 rows x 3 columns]"
            ]
          },
          "metadata": {
            "tags": []
          },
          "execution_count": 122
        }
      ]
    }
  ]
}