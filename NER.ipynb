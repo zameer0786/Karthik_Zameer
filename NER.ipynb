{
 "cells": [
  {
   "cell_type": "code",
   "execution_count": 20,
   "metadata": {},
   "outputs": [],
   "source": [
    "import nltk\n",
    "import re\n",
    "import time\n",
    "\n",
    "\n",
    "\n",
    "\n",
    "contentArray =['Starbucks is not doing very well lately.',\n",
    "               'Overall, while it may seem there is already a Starbucks on every corner, Starbucks still has a lot of room to grow.',\n",
    "               'They just began expansion into food products, which has been going quite well so far for them.',\n",
    "               'I can attest that my own expenditure when going to Starbucks has increased, in lieu of these food products.',\n",
    "               'Starbucks is also indeed expanding their number of stores as well.',\n",
    "               'Starbucks still sees strong sales growth here in the united states, and intends to actually continue increasing this.',\n",
    "               'Starbucks also has one of the more successful loyalty programs, which accounts for 30%  of all transactions being loyalty-program-based.',\n",
    "               'As if news could not get any more positive for the company, Brazilian weather has become ideal for producing coffee beans.',\n",
    "               'Brazil is the world\\'s #1 coffee producer, the source of about 1/3rd of the entire world\\'s supply!',\n",
    "               'Given the dry weather, coffee farmers have amped up production, to take as much of an advantage as possible with the dry weather.',\n",
    "               'Increase in supply... well you know the rules...',]\n",
    "\n",
    "\n",
    "\n",
    "li\n",
    "for item in contentArray:\n",
    "    tokenized = nltk.word_tokenize(item)\n",
    "    tagged = nltk.pos_tag(tokenized)\n",
    "    \n",
    "\n",
    "    namedEnt = nltk.ne_chunk(tagged)\n",
    "    li.append(namedEnt)\n",
    "           \n",
    "\n",
    "       \n",
    "\n",
    " "
   ]
  },
  {
   "cell_type": "code",
   "execution_count": 21,
   "metadata": {},
   "outputs": [
    {
     "data": {
      "text/plain": [
       "[Tree('S', [('Starbucks', 'NNS'), ('is', 'VBZ'), ('not', 'RB'), ('doing', 'VBG'), ('very', 'RB'), ('well', 'RB'), ('lately', 'RB'), ('.', '.')]),\n",
       " Tree('S', [Tree('GPE', [('Overall', 'JJ')]), (',', ','), ('while', 'IN'), ('it', 'PRP'), ('may', 'MD'), ('seem', 'VB'), ('there', 'EX'), ('is', 'VBZ'), ('already', 'RB'), ('a', 'DT'), ('Starbucks', 'NNS'), ('on', 'IN'), ('every', 'DT'), ('corner', 'NN'), (',', ','), Tree('PERSON', [('Starbucks', 'NNP')]), ('still', 'RB'), ('has', 'VBZ'), ('a', 'DT'), ('lot', 'NN'), ('of', 'IN'), ('room', 'NN'), ('to', 'TO'), ('grow', 'VB'), ('.', '.')]),\n",
       " Tree('S', [('They', 'PRP'), ('just', 'RB'), ('began', 'VBD'), ('expansion', 'NN'), ('into', 'IN'), ('food', 'NN'), ('products', 'NNS'), (',', ','), ('which', 'WDT'), ('has', 'VBZ'), ('been', 'VBN'), ('going', 'VBG'), ('quite', 'RB'), ('well', 'RB'), ('so', 'RB'), ('far', 'RB'), ('for', 'IN'), ('them', 'PRP'), ('.', '.')]),\n",
       " Tree('S', [('I', 'PRP'), ('can', 'MD'), ('attest', 'VB'), ('that', 'IN'), ('my', 'PRP$'), ('own', 'JJ'), ('expenditure', 'NN'), ('when', 'WRB'), ('going', 'VBG'), ('to', 'TO'), Tree('PERSON', [('Starbucks', 'NNP')]), ('has', 'VBZ'), ('increased', 'VBN'), (',', ','), ('in', 'IN'), ('lieu', 'NN'), ('of', 'IN'), ('these', 'DT'), ('food', 'NN'), ('products', 'NNS'), ('.', '.')]),\n",
       " Tree('S', [('Starbucks', 'NNS'), ('is', 'VBZ'), ('also', 'RB'), ('indeed', 'RB'), ('expanding', 'VBG'), ('their', 'PRP$'), ('number', 'NN'), ('of', 'IN'), ('stores', 'NNS'), ('as', 'IN'), ('well', 'RB'), ('.', '.')]),\n",
       " Tree('S', [('Starbucks', 'NNS'), ('still', 'RB'), ('sees', 'VBZ'), ('strong', 'JJ'), ('sales', 'NNS'), ('growth', 'NN'), ('here', 'RB'), ('in', 'IN'), ('the', 'DT'), ('united', 'JJ'), ('states', 'NNS'), (',', ','), ('and', 'CC'), ('intends', 'VBZ'), ('to', 'TO'), ('actually', 'RB'), ('continue', 'VB'), ('increasing', 'VBG'), ('this', 'DT'), ('.', '.')]),\n",
       " Tree('S', [Tree('PERSON', [('Starbucks', 'NNP')]), ('also', 'RB'), ('has', 'VBZ'), ('one', 'CD'), ('of', 'IN'), ('the', 'DT'), ('more', 'RBR'), ('successful', 'JJ'), ('loyalty', 'NN'), ('programs', 'NNS'), (',', ','), ('which', 'WDT'), ('accounts', 'VBZ'), ('for', 'IN'), ('30', 'CD'), ('%', 'NN'), ('of', 'IN'), ('all', 'DT'), ('transactions', 'NNS'), ('being', 'VBG'), ('loyalty-program-based', 'JJ'), ('.', '.')]),\n",
       " Tree('S', [('As', 'IN'), ('if', 'IN'), ('news', 'NN'), ('could', 'MD'), ('not', 'RB'), ('get', 'VB'), ('any', 'DT'), ('more', 'RBR'), ('positive', 'JJ'), ('for', 'IN'), ('the', 'DT'), ('company', 'NN'), (',', ','), Tree('GPE', [('Brazilian', 'JJ')]), ('weather', 'NN'), ('has', 'VBZ'), ('become', 'VBN'), ('ideal', 'JJ'), ('for', 'IN'), ('producing', 'VBG'), ('coffee', 'NN'), ('beans', 'NNS'), ('.', '.')]),\n",
       " Tree('S', [Tree('GPE', [('Brazil', 'NNP')]), ('is', 'VBZ'), ('the', 'DT'), ('world', 'NN'), (\"'s\", 'POS'), ('#', '#'), ('1', 'CD'), ('coffee', 'NN'), ('producer', 'NN'), (',', ','), ('the', 'DT'), ('source', 'NN'), ('of', 'IN'), ('about', 'IN'), ('1/3rd', 'CD'), ('of', 'IN'), ('the', 'DT'), ('entire', 'JJ'), ('world', 'NN'), (\"'s\", 'POS'), ('supply', 'NN'), ('!', '.')]),\n",
       " Tree('S', [('Given', 'VBN'), ('the', 'DT'), ('dry', 'JJ'), ('weather', 'NN'), (',', ','), ('coffee', 'NN'), ('farmers', 'NNS'), ('have', 'VBP'), ('amped', 'VBN'), ('up', 'RP'), ('production', 'NN'), (',', ','), ('to', 'TO'), ('take', 'VB'), ('as', 'IN'), ('much', 'RB'), ('of', 'IN'), ('an', 'DT'), ('advantage', 'NN'), ('as', 'IN'), ('possible', 'JJ'), ('with', 'IN'), ('the', 'DT'), ('dry', 'JJ'), ('weather', 'NN'), ('.', '.')]),\n",
       " Tree('S', [Tree('GPE', [('Increase', 'NNP')]), ('in', 'IN'), ('supply', 'NN'), ('...', ':'), ('well', 'RB'), ('you', 'PRP'), ('know', 'VBP'), ('the', 'DT'), ('rules', 'NNS'), ('...', ':')]),\n",
       " Tree('S', [('Starbucks', 'NNS'), ('is', 'VBZ'), ('not', 'RB'), ('doing', 'VBG'), ('very', 'RB'), ('well', 'RB'), ('lately', 'RB'), ('.', '.')]),\n",
       " Tree('S', [Tree('GPE', [('Overall', 'JJ')]), (',', ','), ('while', 'IN'), ('it', 'PRP'), ('may', 'MD'), ('seem', 'VB'), ('there', 'EX'), ('is', 'VBZ'), ('already', 'RB'), ('a', 'DT'), ('Starbucks', 'NNS'), ('on', 'IN'), ('every', 'DT'), ('corner', 'NN'), (',', ','), Tree('PERSON', [('Starbucks', 'NNP')]), ('still', 'RB'), ('has', 'VBZ'), ('a', 'DT'), ('lot', 'NN'), ('of', 'IN'), ('room', 'NN'), ('to', 'TO'), ('grow', 'VB'), ('.', '.')]),\n",
       " Tree('S', [('They', 'PRP'), ('just', 'RB'), ('began', 'VBD'), ('expansion', 'NN'), ('into', 'IN'), ('food', 'NN'), ('products', 'NNS'), (',', ','), ('which', 'WDT'), ('has', 'VBZ'), ('been', 'VBN'), ('going', 'VBG'), ('quite', 'RB'), ('well', 'RB'), ('so', 'RB'), ('far', 'RB'), ('for', 'IN'), ('them', 'PRP'), ('.', '.')]),\n",
       " Tree('S', [('I', 'PRP'), ('can', 'MD'), ('attest', 'VB'), ('that', 'IN'), ('my', 'PRP$'), ('own', 'JJ'), ('expenditure', 'NN'), ('when', 'WRB'), ('going', 'VBG'), ('to', 'TO'), Tree('PERSON', [('Starbucks', 'NNP')]), ('has', 'VBZ'), ('increased', 'VBN'), (',', ','), ('in', 'IN'), ('lieu', 'NN'), ('of', 'IN'), ('these', 'DT'), ('food', 'NN'), ('products', 'NNS'), ('.', '.')]),\n",
       " Tree('S', [('Starbucks', 'NNS'), ('is', 'VBZ'), ('also', 'RB'), ('indeed', 'RB'), ('expanding', 'VBG'), ('their', 'PRP$'), ('number', 'NN'), ('of', 'IN'), ('stores', 'NNS'), ('as', 'IN'), ('well', 'RB'), ('.', '.')]),\n",
       " Tree('S', [('Starbucks', 'NNS'), ('still', 'RB'), ('sees', 'VBZ'), ('strong', 'JJ'), ('sales', 'NNS'), ('growth', 'NN'), ('here', 'RB'), ('in', 'IN'), ('the', 'DT'), ('united', 'JJ'), ('states', 'NNS'), (',', ','), ('and', 'CC'), ('intends', 'VBZ'), ('to', 'TO'), ('actually', 'RB'), ('continue', 'VB'), ('increasing', 'VBG'), ('this', 'DT'), ('.', '.')]),\n",
       " Tree('S', [Tree('PERSON', [('Starbucks', 'NNP')]), ('also', 'RB'), ('has', 'VBZ'), ('one', 'CD'), ('of', 'IN'), ('the', 'DT'), ('more', 'RBR'), ('successful', 'JJ'), ('loyalty', 'NN'), ('programs', 'NNS'), (',', ','), ('which', 'WDT'), ('accounts', 'VBZ'), ('for', 'IN'), ('30', 'CD'), ('%', 'NN'), ('of', 'IN'), ('all', 'DT'), ('transactions', 'NNS'), ('being', 'VBG'), ('loyalty-program-based', 'JJ'), ('.', '.')]),\n",
       " Tree('S', [('As', 'IN'), ('if', 'IN'), ('news', 'NN'), ('could', 'MD'), ('not', 'RB'), ('get', 'VB'), ('any', 'DT'), ('more', 'RBR'), ('positive', 'JJ'), ('for', 'IN'), ('the', 'DT'), ('company', 'NN'), (',', ','), Tree('GPE', [('Brazilian', 'JJ')]), ('weather', 'NN'), ('has', 'VBZ'), ('become', 'VBN'), ('ideal', 'JJ'), ('for', 'IN'), ('producing', 'VBG'), ('coffee', 'NN'), ('beans', 'NNS'), ('.', '.')]),\n",
       " Tree('S', [Tree('GPE', [('Brazil', 'NNP')]), ('is', 'VBZ'), ('the', 'DT'), ('world', 'NN'), (\"'s\", 'POS'), ('#', '#'), ('1', 'CD'), ('coffee', 'NN'), ('producer', 'NN'), (',', ','), ('the', 'DT'), ('source', 'NN'), ('of', 'IN'), ('about', 'IN'), ('1/3rd', 'CD'), ('of', 'IN'), ('the', 'DT'), ('entire', 'JJ'), ('world', 'NN'), (\"'s\", 'POS'), ('supply', 'NN'), ('!', '.')]),\n",
       " Tree('S', [('Given', 'VBN'), ('the', 'DT'), ('dry', 'JJ'), ('weather', 'NN'), (',', ','), ('coffee', 'NN'), ('farmers', 'NNS'), ('have', 'VBP'), ('amped', 'VBN'), ('up', 'RP'), ('production', 'NN'), (',', ','), ('to', 'TO'), ('take', 'VB'), ('as', 'IN'), ('much', 'RB'), ('of', 'IN'), ('an', 'DT'), ('advantage', 'NN'), ('as', 'IN'), ('possible', 'JJ'), ('with', 'IN'), ('the', 'DT'), ('dry', 'JJ'), ('weather', 'NN'), ('.', '.')]),\n",
       " Tree('S', [Tree('GPE', [('Increase', 'NNP')]), ('in', 'IN'), ('supply', 'NN'), ('...', ':'), ('well', 'RB'), ('you', 'PRP'), ('know', 'VBP'), ('the', 'DT'), ('rules', 'NNS'), ('...', ':')]),\n",
       " Tree('S', [('Starbucks', 'NNS'), ('is', 'VBZ'), ('not', 'RB'), ('doing', 'VBG'), ('very', 'RB'), ('well', 'RB'), ('lately', 'RB'), ('.', '.')]),\n",
       " Tree('S', [Tree('GPE', [('Overall', 'JJ')]), (',', ','), ('while', 'IN'), ('it', 'PRP'), ('may', 'MD'), ('seem', 'VB'), ('there', 'EX'), ('is', 'VBZ'), ('already', 'RB'), ('a', 'DT'), ('Starbucks', 'NNS'), ('on', 'IN'), ('every', 'DT'), ('corner', 'NN'), (',', ','), Tree('PERSON', [('Starbucks', 'NNP')]), ('still', 'RB'), ('has', 'VBZ'), ('a', 'DT'), ('lot', 'NN'), ('of', 'IN'), ('room', 'NN'), ('to', 'TO'), ('grow', 'VB'), ('.', '.')]),\n",
       " Tree('S', [('They', 'PRP'), ('just', 'RB'), ('began', 'VBD'), ('expansion', 'NN'), ('into', 'IN'), ('food', 'NN'), ('products', 'NNS'), (',', ','), ('which', 'WDT'), ('has', 'VBZ'), ('been', 'VBN'), ('going', 'VBG'), ('quite', 'RB'), ('well', 'RB'), ('so', 'RB'), ('far', 'RB'), ('for', 'IN'), ('them', 'PRP'), ('.', '.')]),\n",
       " Tree('S', [('I', 'PRP'), ('can', 'MD'), ('attest', 'VB'), ('that', 'IN'), ('my', 'PRP$'), ('own', 'JJ'), ('expenditure', 'NN'), ('when', 'WRB'), ('going', 'VBG'), ('to', 'TO'), Tree('PERSON', [('Starbucks', 'NNP')]), ('has', 'VBZ'), ('increased', 'VBN'), (',', ','), ('in', 'IN'), ('lieu', 'NN'), ('of', 'IN'), ('these', 'DT'), ('food', 'NN'), ('products', 'NNS'), ('.', '.')]),\n",
       " Tree('S', [('Starbucks', 'NNS'), ('is', 'VBZ'), ('also', 'RB'), ('indeed', 'RB'), ('expanding', 'VBG'), ('their', 'PRP$'), ('number', 'NN'), ('of', 'IN'), ('stores', 'NNS'), ('as', 'IN'), ('well', 'RB'), ('.', '.')]),\n",
       " Tree('S', [('Starbucks', 'NNS'), ('still', 'RB'), ('sees', 'VBZ'), ('strong', 'JJ'), ('sales', 'NNS'), ('growth', 'NN'), ('here', 'RB'), ('in', 'IN'), ('the', 'DT'), ('united', 'JJ'), ('states', 'NNS'), (',', ','), ('and', 'CC'), ('intends', 'VBZ'), ('to', 'TO'), ('actually', 'RB'), ('continue', 'VB'), ('increasing', 'VBG'), ('this', 'DT'), ('.', '.')]),\n",
       " Tree('S', [Tree('PERSON', [('Starbucks', 'NNP')]), ('also', 'RB'), ('has', 'VBZ'), ('one', 'CD'), ('of', 'IN'), ('the', 'DT'), ('more', 'RBR'), ('successful', 'JJ'), ('loyalty', 'NN'), ('programs', 'NNS'), (',', ','), ('which', 'WDT'), ('accounts', 'VBZ'), ('for', 'IN'), ('30', 'CD'), ('%', 'NN'), ('of', 'IN'), ('all', 'DT'), ('transactions', 'NNS'), ('being', 'VBG'), ('loyalty-program-based', 'JJ'), ('.', '.')]),\n",
       " Tree('S', [('As', 'IN'), ('if', 'IN'), ('news', 'NN'), ('could', 'MD'), ('not', 'RB'), ('get', 'VB'), ('any', 'DT'), ('more', 'RBR'), ('positive', 'JJ'), ('for', 'IN'), ('the', 'DT'), ('company', 'NN'), (',', ','), Tree('GPE', [('Brazilian', 'JJ')]), ('weather', 'NN'), ('has', 'VBZ'), ('become', 'VBN'), ('ideal', 'JJ'), ('for', 'IN'), ('producing', 'VBG'), ('coffee', 'NN'), ('beans', 'NNS'), ('.', '.')]),\n",
       " Tree('S', [Tree('GPE', [('Brazil', 'NNP')]), ('is', 'VBZ'), ('the', 'DT'), ('world', 'NN'), (\"'s\", 'POS'), ('#', '#'), ('1', 'CD'), ('coffee', 'NN'), ('producer', 'NN'), (',', ','), ('the', 'DT'), ('source', 'NN'), ('of', 'IN'), ('about', 'IN'), ('1/3rd', 'CD'), ('of', 'IN'), ('the', 'DT'), ('entire', 'JJ'), ('world', 'NN'), (\"'s\", 'POS'), ('supply', 'NN'), ('!', '.')]),\n",
       " Tree('S', [('Given', 'VBN'), ('the', 'DT'), ('dry', 'JJ'), ('weather', 'NN'), (',', ','), ('coffee', 'NN'), ('farmers', 'NNS'), ('have', 'VBP'), ('amped', 'VBN'), ('up', 'RP'), ('production', 'NN'), (',', ','), ('to', 'TO'), ('take', 'VB'), ('as', 'IN'), ('much', 'RB'), ('of', 'IN'), ('an', 'DT'), ('advantage', 'NN'), ('as', 'IN'), ('possible', 'JJ'), ('with', 'IN'), ('the', 'DT'), ('dry', 'JJ'), ('weather', 'NN'), ('.', '.')]),\n",
       " Tree('S', [Tree('GPE', [('Increase', 'NNP')]), ('in', 'IN'), ('supply', 'NN'), ('...', ':'), ('well', 'RB'), ('you', 'PRP'), ('know', 'VBP'), ('the', 'DT'), ('rules', 'NNS'), ('...', ':')]),\n",
       " Tree('S', [('Starbucks', 'NNS'), ('is', 'VBZ'), ('not', 'RB'), ('doing', 'VBG'), ('very', 'RB'), ('well', 'RB'), ('lately', 'RB'), ('.', '.')]),\n",
       " Tree('S', [Tree('GPE', [('Overall', 'JJ')]), (',', ','), ('while', 'IN'), ('it', 'PRP'), ('may', 'MD'), ('seem', 'VB'), ('there', 'EX'), ('is', 'VBZ'), ('already', 'RB'), ('a', 'DT'), ('Starbucks', 'NNS'), ('on', 'IN'), ('every', 'DT'), ('corner', 'NN'), (',', ','), Tree('PERSON', [('Starbucks', 'NNP')]), ('still', 'RB'), ('has', 'VBZ'), ('a', 'DT'), ('lot', 'NN'), ('of', 'IN'), ('room', 'NN'), ('to', 'TO'), ('grow', 'VB'), ('.', '.')]),\n",
       " Tree('S', [('They', 'PRP'), ('just', 'RB'), ('began', 'VBD'), ('expansion', 'NN'), ('into', 'IN'), ('food', 'NN'), ('products', 'NNS'), (',', ','), ('which', 'WDT'), ('has', 'VBZ'), ('been', 'VBN'), ('going', 'VBG'), ('quite', 'RB'), ('well', 'RB'), ('so', 'RB'), ('far', 'RB'), ('for', 'IN'), ('them', 'PRP'), ('.', '.')]),\n",
       " Tree('S', [('I', 'PRP'), ('can', 'MD'), ('attest', 'VB'), ('that', 'IN'), ('my', 'PRP$'), ('own', 'JJ'), ('expenditure', 'NN'), ('when', 'WRB'), ('going', 'VBG'), ('to', 'TO'), Tree('PERSON', [('Starbucks', 'NNP')]), ('has', 'VBZ'), ('increased', 'VBN'), (',', ','), ('in', 'IN'), ('lieu', 'NN'), ('of', 'IN'), ('these', 'DT'), ('food', 'NN'), ('products', 'NNS'), ('.', '.')]),\n",
       " Tree('S', [('Starbucks', 'NNS'), ('is', 'VBZ'), ('also', 'RB'), ('indeed', 'RB'), ('expanding', 'VBG'), ('their', 'PRP$'), ('number', 'NN'), ('of', 'IN'), ('stores', 'NNS'), ('as', 'IN'), ('well', 'RB'), ('.', '.')]),\n",
       " Tree('S', [('Starbucks', 'NNS'), ('still', 'RB'), ('sees', 'VBZ'), ('strong', 'JJ'), ('sales', 'NNS'), ('growth', 'NN'), ('here', 'RB'), ('in', 'IN'), ('the', 'DT'), ('united', 'JJ'), ('states', 'NNS'), (',', ','), ('and', 'CC'), ('intends', 'VBZ'), ('to', 'TO'), ('actually', 'RB'), ('continue', 'VB'), ('increasing', 'VBG'), ('this', 'DT'), ('.', '.')]),\n",
       " Tree('S', [Tree('PERSON', [('Starbucks', 'NNP')]), ('also', 'RB'), ('has', 'VBZ'), ('one', 'CD'), ('of', 'IN'), ('the', 'DT'), ('more', 'RBR'), ('successful', 'JJ'), ('loyalty', 'NN'), ('programs', 'NNS'), (',', ','), ('which', 'WDT'), ('accounts', 'VBZ'), ('for', 'IN'), ('30', 'CD'), ('%', 'NN'), ('of', 'IN'), ('all', 'DT'), ('transactions', 'NNS'), ('being', 'VBG'), ('loyalty-program-based', 'JJ'), ('.', '.')]),\n",
       " Tree('S', [('As', 'IN'), ('if', 'IN'), ('news', 'NN'), ('could', 'MD'), ('not', 'RB'), ('get', 'VB'), ('any', 'DT'), ('more', 'RBR'), ('positive', 'JJ'), ('for', 'IN'), ('the', 'DT'), ('company', 'NN'), (',', ','), Tree('GPE', [('Brazilian', 'JJ')]), ('weather', 'NN'), ('has', 'VBZ'), ('become', 'VBN'), ('ideal', 'JJ'), ('for', 'IN'), ('producing', 'VBG'), ('coffee', 'NN'), ('beans', 'NNS'), ('.', '.')]),\n",
       " Tree('S', [Tree('GPE', [('Brazil', 'NNP')]), ('is', 'VBZ'), ('the', 'DT'), ('world', 'NN'), (\"'s\", 'POS'), ('#', '#'), ('1', 'CD'), ('coffee', 'NN'), ('producer', 'NN'), (',', ','), ('the', 'DT'), ('source', 'NN'), ('of', 'IN'), ('about', 'IN'), ('1/3rd', 'CD'), ('of', 'IN'), ('the', 'DT'), ('entire', 'JJ'), ('world', 'NN'), (\"'s\", 'POS'), ('supply', 'NN'), ('!', '.')]),\n",
       " Tree('S', [('Given', 'VBN'), ('the', 'DT'), ('dry', 'JJ'), ('weather', 'NN'), (',', ','), ('coffee', 'NN'), ('farmers', 'NNS'), ('have', 'VBP'), ('amped', 'VBN'), ('up', 'RP'), ('production', 'NN'), (',', ','), ('to', 'TO'), ('take', 'VB'), ('as', 'IN'), ('much', 'RB'), ('of', 'IN'), ('an', 'DT'), ('advantage', 'NN'), ('as', 'IN'), ('possible', 'JJ'), ('with', 'IN'), ('the', 'DT'), ('dry', 'JJ'), ('weather', 'NN'), ('.', '.')]),\n",
       " Tree('S', [Tree('GPE', [('Increase', 'NNP')]), ('in', 'IN'), ('supply', 'NN'), ('...', ':'), ('well', 'RB'), ('you', 'PRP'), ('know', 'VBP'), ('the', 'DT'), ('rules', 'NNS'), ('...', ':')])]"
      ]
     },
     "execution_count": 21,
     "metadata": {},
     "output_type": "execute_result"
    }
   ],
   "source": [
    "li"
   ]
  },
  {
   "cell_type": "code",
   "execution_count": 19,
   "metadata": {},
   "outputs": [],
   "source": [
    "# here we need to remove the verbs , prepositions , nouns and filter the remaining data"
   ]
  },
  {
   "cell_type": "code",
   "execution_count": null,
   "metadata": {},
   "outputs": [],
   "source": []
  }
 ],
 "metadata": {
  "kernelspec": {
   "display_name": "Python 3",
   "language": "python",
   "name": "python3"
  },
  "language_info": {
   "codemirror_mode": {
    "name": "ipython",
    "version": 3
   },
   "file_extension": ".py",
   "mimetype": "text/x-python",
   "name": "python",
   "nbconvert_exporter": "python",
   "pygments_lexer": "ipython3",
   "version": "3.7.3"
  }
 },
 "nbformat": 4,
 "nbformat_minor": 2
}
