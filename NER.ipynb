{
 "cells": [
  {
   "cell_type": "code",
   "execution_count": 15,
   "metadata": {},
   "outputs": [
    {
     "ename": "SyntaxError",
     "evalue": "Missing parentheses in call to 'print'. Did you mean print(tagged)? (<ipython-input-15-7af7db1babf5>, line 26)",
     "output_type": "error",
     "traceback": [
      "\u001b[0;36m  File \u001b[0;32m\"<ipython-input-15-7af7db1babf5>\"\u001b[0;36m, line \u001b[0;32m26\u001b[0m\n\u001b[0;31m    print tagged\u001b[0m\n\u001b[0m               ^\u001b[0m\n\u001b[0;31mSyntaxError\u001b[0m\u001b[0;31m:\u001b[0m Missing parentheses in call to 'print'. Did you mean print(tagged)?\n"
     ]
    }
   ],
   "source": [
    "import nltk\n",
    "import re\n",
    "import time\n",
    "\n",
    "\n",
    "\n",
    "\n",
    "contentArray =['Starbucks is not doing very well lately.',\n",
    "               'Overall, while it may seem there is already a Starbucks on every corner, Starbucks still has a lot of room to grow.',\n",
    "               'They just began expansion into food products, which has been going quite well so far for them.',\n",
    "               'I can attest that my own expenditure when going to Starbucks has increased, in lieu of these food products.',\n",
    "               'Starbucks is also indeed expanding their number of stores as well.',\n",
    "               'Starbucks still sees strong sales growth here in the united states, and intends to actually continue increasing this.',\n",
    "               'Starbucks also has one of the more successful loyalty programs, which accounts for 30%  of all transactions being loyalty-program-based.',\n",
    "               'As if news could not get any more positive for the company, Brazilian weather has become ideal for producing coffee beans.',\n",
    "               'Brazil is the world\\'s #1 coffee producer, the source of about 1/3rd of the entire world\\'s supply!',\n",
    "               'Given the dry weather, coffee farmers have amped up production, to take as much of an advantage as possible with the dry weather.',\n",
    "               'Increase in supply... well you know the rules...',]\n",
    "\n",
    "\n",
    "\n",
    "li\n",
    "for item in contentArray:\n",
    "    tokenized = nltk.word_tokenize(item)\n",
    "    tagged = nltk.pos_tag(tokenized)\n",
    "    print tagged\n",
    "\n",
    "    namedEnt = nltk.ne_chunk(tagged)\n",
    "    li.append(namedEnt)\n",
    "           \n",
    "\n",
    "       \n",
    "\n",
    " "
   ]
  },
  {
   "cell_type": "code",
   "execution_count": null,
   "metadata": {},
   "outputs": [],
   "source": []
  }
 ],
 "metadata": {
  "kernelspec": {
   "display_name": "Python 3",
   "language": "python",
   "name": "python3"
  },
  "language_info": {
   "codemirror_mode": {
    "name": "ipython",
    "version": 3
   },
   "file_extension": ".py",
   "mimetype": "text/x-python",
   "name": "python",
   "nbconvert_exporter": "python",
   "pygments_lexer": "ipython3",
   "version": "3.7.3"
  }
 },
 "nbformat": 4,
 "nbformat_minor": 2
}
